{
 "cells": [
  {
   "cell_type": "code",
   "execution_count": 1,
   "metadata": {},
   "outputs": [],
   "source": [
    "import torch\n",
    "import torch.nn as nn\n",
    "from torch.optim import SGD\n",
    "import torchvision\n",
    "import torchvision.transforms as transforms\n",
    "from torch.utils.data import DataLoader, Subset\n",
    "\n",
    "import numpy as np\n",
    "from numpy.linalg import norm\n",
    "import matplotlib.pyplot as plt"
   ]
  },
  {
   "cell_type": "code",
   "execution_count": 2,
   "metadata": {},
   "outputs": [],
   "source": [
    "class NeuralNet(nn.Module):\n",
    "    def __init__(self, input_size, hidden_sizes, output_size):\n",
    "        super(NeuralNet, self).__init__()\n",
    "        self.hidden = nn.ModuleList()\n",
    "        self.input_layer = nn.Linear(input_size, hidden_sizes[0],bias=False)\n",
    "        for k in range(len(hidden_sizes)-1):\n",
    "            self.hidden.append(nn.Linear(hidden_sizes[k], hidden_sizes[k+1],bias=False))\n",
    "        self.output_layer = nn.Linear(hidden_sizes[-1], output_size,bias=False)\n",
    "        \n",
    "    \n",
    "    def forward(self, x):\n",
    "        x=self.input_layer(x)\n",
    "        x=x.relu()\n",
    "        for layer in self.hidden:\n",
    "            x=layer(x)\n",
    "            x=x.relu()\n",
    "        x=self.output_layer(x)\n",
    "        return x\n",
    "\n",
    "def ReLU_glorot_init(model):\n",
    "    for name, param in model.named_parameters():\n",
    "        if name.endswith(\".bias\"):\n",
    "            param.data.fill_(0)\n",
    "        else:\n",
    "            nn.init.xavier_normal_(param)"
   ]
  },
  {
   "cell_type": "code",
   "execution_count": 3,
   "metadata": {},
   "outputs": [],
   "source": [
    "INPUT_SIZE=784\n",
    "HIDDEN_SIZES=[600,600]\n",
    "OUTPUT_SIZE=10\n",
    "BATCH_SIZE=256\n",
    "LEARNING_RATE=0.01\n",
    "MOMENTUM=0.95\n",
    "NUM_EPOCHS=200"
   ]
  },
  {
   "cell_type": "code",
   "execution_count": 4,
   "metadata": {},
   "outputs": [
    {
     "name": "stderr",
     "output_type": "stream",
     "text": [
      "3.0%"
     ]
    },
    {
     "name": "stdout",
     "output_type": "stream",
     "text": [
      "Downloading http://yann.lecun.com/exdb/mnist/train-images-idx3-ubyte.gz\n",
      "Downloading http://yann.lecun.com/exdb/mnist/train-images-idx3-ubyte.gz to data\\MNIST\\raw\\train-images-idx3-ubyte.gz\n"
     ]
    },
    {
     "name": "stderr",
     "output_type": "stream",
     "text": [
      "100.0%\n"
     ]
    },
    {
     "name": "stdout",
     "output_type": "stream",
     "text": [
      "Extracting data\\MNIST\\raw\\train-images-idx3-ubyte.gz to data\\MNIST\\raw\n"
     ]
    },
    {
     "name": "stderr",
     "output_type": "stream",
     "text": [
      "100.0%"
     ]
    },
    {
     "name": "stdout",
     "output_type": "stream",
     "text": [
      "\n",
      "Downloading http://yann.lecun.com/exdb/mnist/train-labels-idx1-ubyte.gz\n",
      "Downloading http://yann.lecun.com/exdb/mnist/train-labels-idx1-ubyte.gz to data\\MNIST\\raw\\train-labels-idx1-ubyte.gz\n",
      "Extracting data\\MNIST\\raw\\train-labels-idx1-ubyte.gz to data\\MNIST\\raw\n",
      "\n",
      "Downloading http://yann.lecun.com/exdb/mnist/t10k-images-idx3-ubyte.gz\n",
      "Downloading http://yann.lecun.com/exdb/mnist/t10k-images-idx3-ubyte.gz to data\\MNIST\\raw\\t10k-images-idx3-ubyte.gz\n"
     ]
    },
    {
     "name": "stderr",
     "output_type": "stream",
     "text": [
      "\n",
      "100.0%\n",
      "100.0%\n"
     ]
    },
    {
     "name": "stdout",
     "output_type": "stream",
     "text": [
      "Extracting data\\MNIST\\raw\\t10k-images-idx3-ubyte.gz to data\\MNIST\\raw\n",
      "\n",
      "Downloading http://yann.lecun.com/exdb/mnist/t10k-labels-idx1-ubyte.gz\n",
      "Downloading http://yann.lecun.com/exdb/mnist/t10k-labels-idx1-ubyte.gz to data\\MNIST\\raw\\t10k-labels-idx1-ubyte.gz\n",
      "Extracting data\\MNIST\\raw\\t10k-labels-idx1-ubyte.gz to data\\MNIST\\raw\n",
      "\n"
     ]
    }
   ],
   "source": [
    "train_dataset = torchvision.datasets.MNIST(root='data', train=True, transform=transforms.ToTensor(), download=True)\n",
    "\n",
    "test_dataset = torchvision.datasets.MNIST(root='data', train=False, transform=transforms.ToTensor())\n",
    "\n",
    "test_dataset_loader = DataLoader(test_dataset, batch_size=1, shuffle=False) "
   ]
  },
  {
   "cell_type": "code",
   "execution_count": 5,
   "metadata": {},
   "outputs": [],
   "source": [
    "def network_parameters(model):\n",
    "    network_weights=[]\n",
    "    for para in model.named_parameters():\n",
    "        if 'weight' in para[0]:\n",
    "            for l in para[1].detach().tolist():\n",
    "                network_weights+=l\n",
    "        else:\n",
    "            network_weights+=para[1].detach().tolist()\n",
    "    return network_weights"
   ]
  },
  {
   "cell_type": "code",
   "execution_count": 6,
   "metadata": {},
   "outputs": [],
   "source": [
    "def normalized_CrossEntropyLoss(predictions,target):\n",
    "    return nn.CrossEntropyLoss()(predictions,target)/np.log(10)"
   ]
  },
  {
   "cell_type": "code",
   "execution_count": 7,
   "metadata": {},
   "outputs": [],
   "source": [
    "def train_epoch(model,opt,loader):\n",
    "    for images, labels in loader:  \n",
    "        images = images.reshape(-1, 28*28)\n",
    "        \n",
    "        outputs = model(images)\n",
    "        loss = normalized_CrossEntropyLoss(outputs, labels)\n",
    "        \n",
    "        opt.zero_grad()\n",
    "        loss.backward()\n",
    "        opt.step()\n",
    "    return loss.item()\n",
    "\n",
    "def SGD_Alg(model,opt,S,b,t,stopping_criteria,stop_at_zero=False):\n",
    "    ind=list(np.arange(len(S)))\n",
    "    for i in range(t):\n",
    "        N=len(ind)\n",
    "        if N>=b:\n",
    "            sample_ind=np.random.choice(ind,b,replace=False)\n",
    "            subset=Subset(S,sample_ind)\n",
    "            subset_loader=DataLoader(subset,batch_size=b)\n",
    "            loss=train_epoch(model,opt,subset_loader)\n",
    "            for entry in sample_ind:\n",
    "                ind.remove(entry)\n",
    "        elif N>0:\n",
    "            subset=Subset(S,ind)\n",
    "            subset_loader=DataLoader(subset,batch_size=b)\n",
    "            loss=train_epoch(model,opt,subset_loader)\n",
    "            ind=[]\n",
    "        else:\n",
    "            if stop_at_zero:\n",
    "                break\n",
    "            else:\n",
    "                ind=list(np.arange(len(S)))\n",
    "        if loss<stopping_criteria:\n",
    "            break"
   ]
  },
  {
   "cell_type": "code",
   "execution_count": 8,
   "metadata": {},
   "outputs": [],
   "source": [
    "import copy\n",
    "\n",
    "def get_bound(base_model,alpha,data_set,stopping_criteria,sigma_P,beta=0.5,delta=0.05):\n",
    "\n",
    "    def get_weights(model,alpha,stopping_criteria,Dataset,T=2000):\n",
    "\n",
    "        N=len(Dataset)\n",
    "        Subset_ind=list(range(int(N*alpha)))\n",
    "\n",
    "        Subset_Dataset=Subset(Dataset,Subset_ind)\n",
    "\n",
    "        model_prefix=copy.deepcopy(model)\n",
    "        opt_prefix = SGD(model_prefix.parameters(), lr=LEARNING_RATE,momentum=MOMENTUM)\n",
    "        SGD_Alg(model_prefix,opt_prefix,Subset_Dataset,256,T,stopping_criteria,stop_at_zero=True)\n",
    "\n",
    "        model_base=copy.deepcopy(model_prefix)\n",
    "        opt_base = SGD(model_base.parameters(), lr=LEARNING_RATE,momentum=MOMENTUM)\n",
    "        SGD_Alg(model_base,opt_base,Dataset,256,T,stopping_criteria)\n",
    "\n",
    "        w_base=network_parameters(model_base)\n",
    "        w_prefix=network_parameters(model_prefix)\n",
    "\n",
    "        return w_base,w_prefix,model_base\n",
    "\n",
    "    w_S,w_alpha,base_model=get_weights(base_model,alpha,stopping_criteria,data_set)\n",
    "\n",
    "    with torch.no_grad():\n",
    "        loss=0\n",
    "        n=0\n",
    "        for images, labels in test_dataset_loader:\n",
    "            n+=1\n",
    "            images = images.reshape(-1, 28*28)\n",
    "            outputs = base_model(images)\n",
    "            loss+=normalized_CrossEntropyLoss(outputs,labels)\n",
    "        empirical_risk=loss/n\n",
    "\n",
    "    KL=np.linalg.norm(np.array(w_S)-np.array(w_alpha))**2/(sigma_P*2)\n",
    "    return empirical_risk+np.sqrt(2*KL*sigma_P**2/len(data_set))\n"
   ]
  },
  {
   "cell_type": "code",
   "execution_count": 9,
   "metadata": {},
   "outputs": [
    {
     "name": "stdout",
     "output_type": "stream",
     "text": [
      "0.1\n",
      "0.2\n",
      "0.3\n",
      "0.4\n",
      "0.5\n",
      "0.6\n",
      "0.7\n",
      "0.8\n",
      "0.9\n"
     ]
    }
   ],
   "source": [
    "alpha_list=[0.1,0.2,0.3,0.4,0.5,0.6,0.7,0.8,0.9]\n",
    "bounds=[]\n",
    "for alpha in alpha_list:\n",
    "    print(alpha)\n",
    "    base_model=NeuralNet(INPUT_SIZE, HIDDEN_SIZES, OUTPUT_SIZE)\n",
    "    ReLU_glorot_init(base_model)\n",
    "    bounds.append(get_bound(base_model,alpha,train_dataset,0.1,1e-3))"
   ]
  },
  {
   "cell_type": "code",
   "execution_count": 11,
   "metadata": {},
   "outputs": [
    {
     "data": {
      "image/png": "[encoded data removed]",
      "text/plain": [
       "<Figure size 640x480 with 1 Axes>"
      ]
     },
     "metadata": {},
     "output_type": "display_data"
    }
   ],
   "source": [
    "plt.plot(alpha_list,bounds)\n",
    "plt.ylim((0,max(bounds)*1.1))\n",
    "plt.ylabel('0-1 Error')\n",
    "plt.xlabel('J/n')\n",
    "plt.savefig('plots/Info_Bounds_via_Bayes.png')"
   ]
  }
 ],
 "metadata": {
  "kernelspec": {
   "display_name": "Python 3",
   "language": "python",
   "name": "python3"
  },
  "language_info": {
   "codemirror_mode": {
    "name": "ipython",
    "version": 3
   },
   "file_extension": ".py",
   "mimetype": "text/x-python",
   "name": "python",
   "nbconvert_exporter": "python",
   "pygments_lexer": "ipython3",
   "version": "3.9.5"
  },
  "orig_nbformat": 4
 },
 "nbformat": 4,
 "nbformat_minor": 2
}
