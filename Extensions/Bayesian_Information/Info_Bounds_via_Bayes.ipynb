{
 "cells": [
  {
   "cell_type": "code",
   "execution_count": 131,
   "metadata": {},
   "outputs": [],
   "source": [
    "import torch\n",
    "import torch.nn as nn\n",
    "from torch.optim import SGD\n",
    "import torchvision\n",
    "import torchvision.transforms as transforms\n",
    "from torch.utils.data import DataLoader, Subset\n",
    "\n",
    "import numpy as np\n",
    "from numpy import log\n",
    "from numpy.random import choice\n",
    "\n",
    "import matplotlib.pyplot as plt\n",
    "\n",
    "import copy"
   ]
  },
  {
   "cell_type": "code",
   "execution_count": 132,
   "metadata": {},
   "outputs": [],
   "source": [
    "class NeuralNet(nn.Module):\n",
    "    def __init__(self, input_size, hidden_sizes, output_size):\n",
    "        super(NeuralNet, self).__init__()\n",
    "        self.hidden = nn.ModuleList()\n",
    "        self.input_layer = nn.Linear(input_size, hidden_sizes[0],bias=False)\n",
    "        for k in range(len(hidden_sizes)-1):\n",
    "            self.hidden.append(nn.Linear(hidden_sizes[k], hidden_sizes[k+1],bias=False))\n",
    "        self.output_layer = nn.Linear(hidden_sizes[-1], output_size,bias=False)\n",
    "        \n",
    "    \n",
    "    def forward(self, x):\n",
    "        x=self.input_layer(x)\n",
    "        x=x.relu()\n",
    "        for layer in self.hidden:\n",
    "            x=layer(x)\n",
    "            x=x.relu()\n",
    "        x=self.output_layer(x)\n",
    "        return x\n",
    "\n",
    "def ReLU_glorot_init(model):\n",
    "    for name, param in model.named_parameters():\n",
    "        if name.endswith(\".bias\"):\n",
    "            param.data.fill_(0)\n",
    "        else:\n",
    "            nn.init.xavier_normal_(param)"
   ]
  },
  {
   "cell_type": "code",
   "execution_count": 133,
   "metadata": {},
   "outputs": [],
   "source": [
    "INPUT_SIZE=784\n",
    "HIDDEN_SIZES=[256,256]\n",
    "OUTPUT_SIZE=10\n",
    "BATCH_SIZE=500\n",
    "LEARNING_RATE=0.05\n",
    "MOMENTUM=0.95\n",
    "NUM_EPOCHS=200\n",
    "\n",
    "STOPPING_CRITERIA=0.1\n",
    "SGD_ITERATIONS=500\n",
    "SAMPLE_SIZE=5\n",
    "SIGMA=1e-3\n",
    "\n",
    "M_TRAIN=10000\n",
    "M_TEST=2000"
   ]
  },
  {
   "cell_type": "code",
   "execution_count": 134,
   "metadata": {},
   "outputs": [],
   "source": [
    "TRAIN_DATASET = torchvision.datasets.MNIST(root='data', train=True, transform=transforms.ToTensor(), download=True)\n",
    "TEST_DATASET = torchvision.datasets.MNIST(root='data', train=False, transform=transforms.ToTensor())\n",
    "\n",
    "SUBSET_TRAIN_ID=list(range(M_TRAIN))\n",
    "SUBSET_TEST_ID=list(range(M_TEST))\n",
    "\n",
    "subset_train_dataset=Subset(TRAIN_DATASET, SUBSET_TRAIN_ID)\n",
    "subset_test_dataset=Subset(TEST_DATASET, SUBSET_TEST_ID)\n",
    "\n",
    "TRAIN_DATASET_LOADER = DataLoader(TRAIN_DATASET, batch_size=BATCH_SIZE, shuffle=True)\n",
    "TEST_DATASET_LOADER = DataLoader(TEST_DATASET, batch_size=1, shuffle=False) "
   ]
  },
  {
   "cell_type": "code",
   "execution_count": 135,
   "metadata": {},
   "outputs": [],
   "source": [
    "def network_parameters(model):\n",
    "    network_weights=[]\n",
    "    for para in model.named_parameters():\n",
    "        if 'weight' in para[0]:\n",
    "            for l in para[1].detach().tolist():\n",
    "                network_weights+=l\n",
    "        else:\n",
    "            network_weights+=para[1].detach().tolist()\n",
    "    return network_weights"
   ]
  },
  {
   "cell_type": "code",
   "execution_count": 136,
   "metadata": {},
   "outputs": [],
   "source": [
    "def train_epoch(model,optimizer,loader):\n",
    "    def normalized_CrossEntropyLoss(predictions,targets):\n",
    "        return nn.CrossEntropyLoss()(predictions,targets)/log(10)\n",
    "    for xs, ys in loader:  \n",
    "        xs = xs.reshape(-1, 28*28)\n",
    "        outputs = model(xs)\n",
    "        loss = normalized_CrossEntropyLoss(outputs, ys)\n",
    "        optimizer.zero_grad()\n",
    "        loss.backward()\n",
    "        optimizer.step()\n",
    "    return loss.item()\n",
    "\n",
    "def risk(model,loader):\n",
    "    def normalized_CrossEntropyLoss(predictions,targets):\n",
    "        return nn.CrossEntropyLoss()(predictions,targets)/log(10)\n",
    "    with torch.no_grad():\n",
    "        loss=0\n",
    "        n=0\n",
    "        for xs, ys in loader:\n",
    "            xs = xs.reshape(-1, 28*28)\n",
    "            outputs = model(xs)\n",
    "            loss+=normalized_CrossEntropyLoss(outputs,ys)\n",
    "            n+=1\n",
    "    return loss/n\n",
    "\n",
    "\n",
    "def SGD_Alg(model,optimizer,dataset,stopping_criteria,batch_size,sgd_iterations,stop_at_zero=False):\n",
    "    n_dataset=len(dataset)\n",
    "    ind=list(range(n_dataset))\n",
    "    for i in range(sgd_iterations):\n",
    "        n_ind=len(ind)\n",
    "        if n_ind>=batch_size:\n",
    "            sample_ind=choice(ind,batch_size,replace=False)\n",
    "            subset=Subset(dataset,sample_ind)\n",
    "            subset_loader=DataLoader(subset,batch_size=batch_size)\n",
    "            loss=train_epoch(model,optimizer,subset_loader)\n",
    "            for entry in sample_ind:\n",
    "                ind.remove(entry)\n",
    "        elif n_ind>0:\n",
    "            subset=Subset(dataset,ind)\n",
    "            subset_loader=DataLoader(subset,batch_size=batch_size)\n",
    "            loss=train_epoch(model,optimizer,subset_loader)\n",
    "            ind=[]\n",
    "        else:\n",
    "            if stop_at_zero:\n",
    "                break\n",
    "            else:\n",
    "                ind=list(range(n_dataset))\n",
    "        if loss<stopping_criteria:\n",
    "            break\n",
    "\n",
    "def get_weights(model,dataset,alpha,stopping_criteria,sgd_iterations,batch_size,learning_rate,momentum):\n",
    "\n",
    "    n=len(dataset)\n",
    "    \n",
    "    subsetInd=list(range(int(n*alpha)))\n",
    "    subset=Subset(dataset,subsetInd)\n",
    "\n",
    "    model_prefix=copy.deepcopy(model)\n",
    "    opt_prefix = SGD(model_prefix.parameters(), lr=learning_rate,momentum=momentum)\n",
    "    SGD_Alg(model_prefix,opt_prefix,subset,stopping_criteria,batch_size,sgd_iterations,stop_at_zero=True)\n",
    "    model_base=copy.deepcopy(model_prefix)\n",
    "    opt_base = SGD(model_base.parameters(), lr=learning_rate,momentum=momentum)\n",
    "    SGD_Alg(model_base,opt_base,dataset,stopping_criteria,batch_size,sgd_iterations)\n",
    "\n",
    "    w_base=network_parameters(model_base)\n",
    "    w_prefix=network_parameters(model_prefix)\n",
    "\n",
    "    return w_base,w_prefix,model_base"
   ]
  },
  {
   "cell_type": "code",
   "execution_count": 137,
   "metadata": {},
   "outputs": [],
   "source": [
    "def get_bound(base_model,train_loader,test_loader,alpha,dataset,stopping_criteria,sigma,sgd_iterations,batch_size,learning_rate,momentum):\n",
    "\n",
    "    w_S,w_alpha,base_model=get_weights(base_model,dataset,alpha,stopping_criteria,sgd_iterations,batch_size,learning_rate,momentum)\n",
    "\n",
    "    empirical_risk=risk(base_model,test_loader)\n",
    "    test_risk=risk(base_model,test_loader)\n",
    "\n",
    "    KL=np.linalg.norm(np.array(w_S)-np.array(w_alpha))**2/(sigma*2)\n",
    "    return test_risk, empirical_risk, empirical_risk+np.sqrt(2*KL*sigma**2/len(dataset))\n"
   ]
  },
  {
   "cell_type": "code",
   "execution_count": 138,
   "metadata": {},
   "outputs": [
    {
     "name": "stdout",
     "output_type": "stream",
     "text": [
      "Samples for alpha=0.1 have been taken\n"
     ]
    },
    {
     "ename": "KeyboardInterrupt",
     "evalue": "",
     "output_type": "error",
     "traceback": [
      "\u001b[1;31m---------------------------------------------------------------------------\u001b[0m",
      "\u001b[1;31mKeyboardInterrupt\u001b[0m                         Traceback (most recent call last)",
      "\u001b[1;32mc:\\Users\\thoma\\Dropbox\\ICL\\UROP 23\\GitHubRepo\\Generalization-of-Neural-Networks\\Extensions\\Bayesian_Information\\Info_Bounds_via_Bayes.ipynb Cell 8\u001b[0m in \u001b[0;36m9\n\u001b[0;32m      <a href='vscode-notebook-cell:/c%3A/Users/thoma/Dropbox/ICL/UROP%2023/GitHubRepo/Generalization-of-Neural-Networks/Extensions/Bayesian_Information/Info_Bounds_via_Bayes.ipynb#X11sZmlsZQ%3D%3D?line=6'>7</a>\u001b[0m BASE_MODEL\u001b[39m=\u001b[39mNeuralNet(INPUT_SIZE, HIDDEN_SIZES, OUTPUT_SIZE)\n\u001b[0;32m      <a href='vscode-notebook-cell:/c%3A/Users/thoma/Dropbox/ICL/UROP%2023/GitHubRepo/Generalization-of-Neural-Networks/Extensions/Bayesian_Information/Info_Bounds_via_Bayes.ipynb#X11sZmlsZQ%3D%3D?line=7'>8</a>\u001b[0m ReLU_glorot_init(BASE_MODEL)\n\u001b[1;32m----> <a href='vscode-notebook-cell:/c%3A/Users/thoma/Dropbox/ICL/UROP%2023/GitHubRepo/Generalization-of-Neural-Networks/Extensions/Bayesian_Information/Info_Bounds_via_Bayes.ipynb#X11sZmlsZQ%3D%3D?line=8'>9</a>\u001b[0m test_loss, empirical_loss, bound\u001b[39m=\u001b[39mget_bound(BASE_MODEL,TRAIN_DATASET,TEST_DATASET_LOADER,alpha,TRAIN_DATASET,STOPPING_CRITERIA,SIGMA,SGD_ITERATIONS,BATCH_SIZE,LEARNING_RATE,MOMENTUM)\n\u001b[0;32m     <a href='vscode-notebook-cell:/c%3A/Users/thoma/Dropbox/ICL/UROP%2023/GitHubRepo/Generalization-of-Neural-Networks/Extensions/Bayesian_Information/Info_Bounds_via_Bayes.ipynb#X11sZmlsZQ%3D%3D?line=9'>10</a>\u001b[0m test_losses[k]\u001b[39m+\u001b[39m\u001b[39m=\u001b[39mtest_loss\u001b[39m/\u001b[39mSAMPLE_SIZE\n\u001b[0;32m     <a href='vscode-notebook-cell:/c%3A/Users/thoma/Dropbox/ICL/UROP%2023/GitHubRepo/Generalization-of-Neural-Networks/Extensions/Bayesian_Information/Info_Bounds_via_Bayes.ipynb#X11sZmlsZQ%3D%3D?line=10'>11</a>\u001b[0m empirical_losses[k]\u001b[39m+\u001b[39m\u001b[39m=\u001b[39mempirical_loss\u001b[39m/\u001b[39mSAMPLE_SIZE\n",
      "\u001b[1;32mc:\\Users\\thoma\\Dropbox\\ICL\\UROP 23\\GitHubRepo\\Generalization-of-Neural-Networks\\Extensions\\Bayesian_Information\\Info_Bounds_via_Bayes.ipynb Cell 8\u001b[0m in \u001b[0;36m3\n\u001b[0;32m      <a href='vscode-notebook-cell:/c%3A/Users/thoma/Dropbox/ICL/UROP%2023/GitHubRepo/Generalization-of-Neural-Networks/Extensions/Bayesian_Information/Info_Bounds_via_Bayes.ipynb#X11sZmlsZQ%3D%3D?line=0'>1</a>\u001b[0m \u001b[39mdef\u001b[39;00m \u001b[39mget_bound\u001b[39m(base_model,train_loader,test_loader,alpha,dataset,stopping_criteria,sigma,sgd_iterations,batch_size,learning_rate,momentum):\n\u001b[1;32m----> <a href='vscode-notebook-cell:/c%3A/Users/thoma/Dropbox/ICL/UROP%2023/GitHubRepo/Generalization-of-Neural-Networks/Extensions/Bayesian_Information/Info_Bounds_via_Bayes.ipynb#X11sZmlsZQ%3D%3D?line=2'>3</a>\u001b[0m     w_S,w_alpha,base_model\u001b[39m=\u001b[39mget_weights(base_model,dataset,alpha,stopping_criteria,sgd_iterations,batch_size,learning_rate,momentum)\n\u001b[0;32m      <a href='vscode-notebook-cell:/c%3A/Users/thoma/Dropbox/ICL/UROP%2023/GitHubRepo/Generalization-of-Neural-Networks/Extensions/Bayesian_Information/Info_Bounds_via_Bayes.ipynb#X11sZmlsZQ%3D%3D?line=4'>5</a>\u001b[0m     empirical_risk\u001b[39m=\u001b[39mrisk(base_model,test_loader)\n\u001b[0;32m      <a href='vscode-notebook-cell:/c%3A/Users/thoma/Dropbox/ICL/UROP%2023/GitHubRepo/Generalization-of-Neural-Networks/Extensions/Bayesian_Information/Info_Bounds_via_Bayes.ipynb#X11sZmlsZQ%3D%3D?line=5'>6</a>\u001b[0m     test_risk\u001b[39m=\u001b[39mrisk(base_model,test_loader)\n",
      "\u001b[1;32mc:\\Users\\thoma\\Dropbox\\ICL\\UROP 23\\GitHubRepo\\Generalization-of-Neural-Networks\\Extensions\\Bayesian_Information\\Info_Bounds_via_Bayes.ipynb Cell 8\u001b[0m in \u001b[0;36m6\n\u001b[0;32m     <a href='vscode-notebook-cell:/c%3A/Users/thoma/Dropbox/ICL/UROP%2023/GitHubRepo/Generalization-of-Neural-Networks/Extensions/Bayesian_Information/Info_Bounds_via_Bayes.ipynb#X11sZmlsZQ%3D%3D?line=61'>62</a>\u001b[0m model_base\u001b[39m=\u001b[39mcopy\u001b[39m.\u001b[39mdeepcopy(model_prefix)\n\u001b[0;32m     <a href='vscode-notebook-cell:/c%3A/Users/thoma/Dropbox/ICL/UROP%2023/GitHubRepo/Generalization-of-Neural-Networks/Extensions/Bayesian_Information/Info_Bounds_via_Bayes.ipynb#X11sZmlsZQ%3D%3D?line=62'>63</a>\u001b[0m opt_base \u001b[39m=\u001b[39m SGD(model_base\u001b[39m.\u001b[39mparameters(), lr\u001b[39m=\u001b[39mlearning_rate,momentum\u001b[39m=\u001b[39mmomentum)\n\u001b[1;32m---> <a href='vscode-notebook-cell:/c%3A/Users/thoma/Dropbox/ICL/UROP%2023/GitHubRepo/Generalization-of-Neural-Networks/Extensions/Bayesian_Information/Info_Bounds_via_Bayes.ipynb#X11sZmlsZQ%3D%3D?line=63'>64</a>\u001b[0m SGD_Alg(model_base,opt_base,dataset,stopping_criteria,batch_size,sgd_iterations)\n\u001b[0;32m     <a href='vscode-notebook-cell:/c%3A/Users/thoma/Dropbox/ICL/UROP%2023/GitHubRepo/Generalization-of-Neural-Networks/Extensions/Bayesian_Information/Info_Bounds_via_Bayes.ipynb#X11sZmlsZQ%3D%3D?line=65'>66</a>\u001b[0m w_base\u001b[39m=\u001b[39mnetwork_parameters(model_base)\n\u001b[0;32m     <a href='vscode-notebook-cell:/c%3A/Users/thoma/Dropbox/ICL/UROP%2023/GitHubRepo/Generalization-of-Neural-Networks/Extensions/Bayesian_Information/Info_Bounds_via_Bayes.ipynb#X11sZmlsZQ%3D%3D?line=66'>67</a>\u001b[0m w_prefix\u001b[39m=\u001b[39mnetwork_parameters(model_prefix)\n",
      "\u001b[1;32mc:\\Users\\thoma\\Dropbox\\ICL\\UROP 23\\GitHubRepo\\Generalization-of-Neural-Networks\\Extensions\\Bayesian_Information\\Info_Bounds_via_Bayes.ipynb Cell 8\u001b[0m in \u001b[0;36m3\n\u001b[0;32m     <a href='vscode-notebook-cell:/c%3A/Users/thoma/Dropbox/ICL/UROP%2023/GitHubRepo/Generalization-of-Neural-Networks/Extensions/Bayesian_Information/Info_Bounds_via_Bayes.ipynb#X11sZmlsZQ%3D%3D?line=33'>34</a>\u001b[0m subset\u001b[39m=\u001b[39mSubset(dataset,sample_ind)\n\u001b[0;32m     <a href='vscode-notebook-cell:/c%3A/Users/thoma/Dropbox/ICL/UROP%2023/GitHubRepo/Generalization-of-Neural-Networks/Extensions/Bayesian_Information/Info_Bounds_via_Bayes.ipynb#X11sZmlsZQ%3D%3D?line=34'>35</a>\u001b[0m subset_loader\u001b[39m=\u001b[39mDataLoader(subset,batch_size\u001b[39m=\u001b[39mbatch_size)\n\u001b[1;32m---> <a href='vscode-notebook-cell:/c%3A/Users/thoma/Dropbox/ICL/UROP%2023/GitHubRepo/Generalization-of-Neural-Networks/Extensions/Bayesian_Information/Info_Bounds_via_Bayes.ipynb#X11sZmlsZQ%3D%3D?line=35'>36</a>\u001b[0m loss\u001b[39m=\u001b[39mtrain_epoch(model,optimizer,subset_loader)\n\u001b[0;32m     <a href='vscode-notebook-cell:/c%3A/Users/thoma/Dropbox/ICL/UROP%2023/GitHubRepo/Generalization-of-Neural-Networks/Extensions/Bayesian_Information/Info_Bounds_via_Bayes.ipynb#X11sZmlsZQ%3D%3D?line=36'>37</a>\u001b[0m \u001b[39mfor\u001b[39;00m entry \u001b[39min\u001b[39;00m sample_ind:\n\u001b[0;32m     <a href='vscode-notebook-cell:/c%3A/Users/thoma/Dropbox/ICL/UROP%2023/GitHubRepo/Generalization-of-Neural-Networks/Extensions/Bayesian_Information/Info_Bounds_via_Bayes.ipynb#X11sZmlsZQ%3D%3D?line=37'>38</a>\u001b[0m     ind\u001b[39m.\u001b[39mremove(entry)\n",
      "\u001b[1;32mc:\\Users\\thoma\\Dropbox\\ICL\\UROP 23\\GitHubRepo\\Generalization-of-Neural-Networks\\Extensions\\Bayesian_Information\\Info_Bounds_via_Bayes.ipynb Cell 8\u001b[0m in \u001b[0;36m4\n\u001b[0;32m      <a href='vscode-notebook-cell:/c%3A/Users/thoma/Dropbox/ICL/UROP%2023/GitHubRepo/Generalization-of-Neural-Networks/Extensions/Bayesian_Information/Info_Bounds_via_Bayes.ipynb#X11sZmlsZQ%3D%3D?line=1'>2</a>\u001b[0m \u001b[39mdef\u001b[39;00m \u001b[39mnormalized_CrossEntropyLoss\u001b[39m(predictions,targets):\n\u001b[0;32m      <a href='vscode-notebook-cell:/c%3A/Users/thoma/Dropbox/ICL/UROP%2023/GitHubRepo/Generalization-of-Neural-Networks/Extensions/Bayesian_Information/Info_Bounds_via_Bayes.ipynb#X11sZmlsZQ%3D%3D?line=2'>3</a>\u001b[0m     \u001b[39mreturn\u001b[39;00m nn\u001b[39m.\u001b[39mCrossEntropyLoss()(predictions,targets)\u001b[39m/\u001b[39mlog(\u001b[39m10\u001b[39m)\n\u001b[1;32m----> <a href='vscode-notebook-cell:/c%3A/Users/thoma/Dropbox/ICL/UROP%2023/GitHubRepo/Generalization-of-Neural-Networks/Extensions/Bayesian_Information/Info_Bounds_via_Bayes.ipynb#X11sZmlsZQ%3D%3D?line=3'>4</a>\u001b[0m \u001b[39mfor\u001b[39;00m xs, ys \u001b[39min\u001b[39;00m loader:  \n\u001b[0;32m      <a href='vscode-notebook-cell:/c%3A/Users/thoma/Dropbox/ICL/UROP%2023/GitHubRepo/Generalization-of-Neural-Networks/Extensions/Bayesian_Information/Info_Bounds_via_Bayes.ipynb#X11sZmlsZQ%3D%3D?line=4'>5</a>\u001b[0m     xs \u001b[39m=\u001b[39m xs\u001b[39m.\u001b[39mreshape(\u001b[39m-\u001b[39m\u001b[39m1\u001b[39m, \u001b[39m28\u001b[39m\u001b[39m*\u001b[39m\u001b[39m28\u001b[39m)\n\u001b[0;32m      <a href='vscode-notebook-cell:/c%3A/Users/thoma/Dropbox/ICL/UROP%2023/GitHubRepo/Generalization-of-Neural-Networks/Extensions/Bayesian_Information/Info_Bounds_via_Bayes.ipynb#X11sZmlsZQ%3D%3D?line=5'>6</a>\u001b[0m     outputs \u001b[39m=\u001b[39m model(xs)\n",
      "File \u001b[1;32mc:\\Users\\thoma\\AppData\\Local\\Programs\\Python\\Python39\\lib\\site-packages\\torch\\utils\\data\\dataloader.py:633\u001b[0m, in \u001b[0;36m_BaseDataLoaderIter.__next__\u001b[1;34m(self)\u001b[0m\n\u001b[0;32m    630\u001b[0m \u001b[39mif\u001b[39;00m \u001b[39mself\u001b[39m\u001b[39m.\u001b[39m_sampler_iter \u001b[39mis\u001b[39;00m \u001b[39mNone\u001b[39;00m:\n\u001b[0;32m    631\u001b[0m     \u001b[39m# TODO(https://github.com/pytorch/pytorch/issues/76750)\u001b[39;00m\n\u001b[0;32m    632\u001b[0m     \u001b[39mself\u001b[39m\u001b[39m.\u001b[39m_reset()  \u001b[39m# type: ignore[call-arg]\u001b[39;00m\n\u001b[1;32m--> 633\u001b[0m data \u001b[39m=\u001b[39m \u001b[39mself\u001b[39;49m\u001b[39m.\u001b[39;49m_next_data()\n\u001b[0;32m    634\u001b[0m \u001b[39mself\u001b[39m\u001b[39m.\u001b[39m_num_yielded \u001b[39m+\u001b[39m\u001b[39m=\u001b[39m \u001b[39m1\u001b[39m\n\u001b[0;32m    635\u001b[0m \u001b[39mif\u001b[39;00m \u001b[39mself\u001b[39m\u001b[39m.\u001b[39m_dataset_kind \u001b[39m==\u001b[39m _DatasetKind\u001b[39m.\u001b[39mIterable \u001b[39mand\u001b[39;00m \\\n\u001b[0;32m    636\u001b[0m         \u001b[39mself\u001b[39m\u001b[39m.\u001b[39m_IterableDataset_len_called \u001b[39mis\u001b[39;00m \u001b[39mnot\u001b[39;00m \u001b[39mNone\u001b[39;00m \u001b[39mand\u001b[39;00m \\\n\u001b[0;32m    637\u001b[0m         \u001b[39mself\u001b[39m\u001b[39m.\u001b[39m_num_yielded \u001b[39m>\u001b[39m \u001b[39mself\u001b[39m\u001b[39m.\u001b[39m_IterableDataset_len_called:\n",
      "File \u001b[1;32mc:\\Users\\thoma\\AppData\\Local\\Programs\\Python\\Python39\\lib\\site-packages\\torch\\utils\\data\\dataloader.py:677\u001b[0m, in \u001b[0;36m_SingleProcessDataLoaderIter._next_data\u001b[1;34m(self)\u001b[0m\n\u001b[0;32m    675\u001b[0m \u001b[39mdef\u001b[39;00m \u001b[39m_next_data\u001b[39m(\u001b[39mself\u001b[39m):\n\u001b[0;32m    676\u001b[0m     index \u001b[39m=\u001b[39m \u001b[39mself\u001b[39m\u001b[39m.\u001b[39m_next_index()  \u001b[39m# may raise StopIteration\u001b[39;00m\n\u001b[1;32m--> 677\u001b[0m     data \u001b[39m=\u001b[39m \u001b[39mself\u001b[39;49m\u001b[39m.\u001b[39;49m_dataset_fetcher\u001b[39m.\u001b[39;49mfetch(index)  \u001b[39m# may raise StopIteration\u001b[39;00m\n\u001b[0;32m    678\u001b[0m     \u001b[39mif\u001b[39;00m \u001b[39mself\u001b[39m\u001b[39m.\u001b[39m_pin_memory:\n\u001b[0;32m    679\u001b[0m         data \u001b[39m=\u001b[39m _utils\u001b[39m.\u001b[39mpin_memory\u001b[39m.\u001b[39mpin_memory(data, \u001b[39mself\u001b[39m\u001b[39m.\u001b[39m_pin_memory_device)\n",
      "File \u001b[1;32mc:\\Users\\thoma\\AppData\\Local\\Programs\\Python\\Python39\\lib\\site-packages\\torch\\utils\\data\\_utils\\fetch.py:51\u001b[0m, in \u001b[0;36m_MapDatasetFetcher.fetch\u001b[1;34m(self, possibly_batched_index)\u001b[0m\n\u001b[0;32m     49\u001b[0m         data \u001b[39m=\u001b[39m \u001b[39mself\u001b[39m\u001b[39m.\u001b[39mdataset\u001b[39m.\u001b[39m__getitems__(possibly_batched_index)\n\u001b[0;32m     50\u001b[0m     \u001b[39melse\u001b[39;00m:\n\u001b[1;32m---> 51\u001b[0m         data \u001b[39m=\u001b[39m [\u001b[39mself\u001b[39m\u001b[39m.\u001b[39mdataset[idx] \u001b[39mfor\u001b[39;00m idx \u001b[39min\u001b[39;00m possibly_batched_index]\n\u001b[0;32m     52\u001b[0m \u001b[39melse\u001b[39;00m:\n\u001b[0;32m     53\u001b[0m     data \u001b[39m=\u001b[39m \u001b[39mself\u001b[39m\u001b[39m.\u001b[39mdataset[possibly_batched_index]\n",
      "File \u001b[1;32mc:\\Users\\thoma\\AppData\\Local\\Programs\\Python\\Python39\\lib\\site-packages\\torch\\utils\\data\\_utils\\fetch.py:51\u001b[0m, in \u001b[0;36m<listcomp>\u001b[1;34m(.0)\u001b[0m\n\u001b[0;32m     49\u001b[0m         data \u001b[39m=\u001b[39m \u001b[39mself\u001b[39m\u001b[39m.\u001b[39mdataset\u001b[39m.\u001b[39m__getitems__(possibly_batched_index)\n\u001b[0;32m     50\u001b[0m     \u001b[39melse\u001b[39;00m:\n\u001b[1;32m---> 51\u001b[0m         data \u001b[39m=\u001b[39m [\u001b[39mself\u001b[39;49m\u001b[39m.\u001b[39;49mdataset[idx] \u001b[39mfor\u001b[39;00m idx \u001b[39min\u001b[39;00m possibly_batched_index]\n\u001b[0;32m     52\u001b[0m \u001b[39melse\u001b[39;00m:\n\u001b[0;32m     53\u001b[0m     data \u001b[39m=\u001b[39m \u001b[39mself\u001b[39m\u001b[39m.\u001b[39mdataset[possibly_batched_index]\n",
      "File \u001b[1;32mc:\\Users\\thoma\\AppData\\Local\\Programs\\Python\\Python39\\lib\\site-packages\\torch\\utils\\data\\dataset.py:298\u001b[0m, in \u001b[0;36mSubset.__getitem__\u001b[1;34m(self, idx)\u001b[0m\n\u001b[0;32m    296\u001b[0m \u001b[39mif\u001b[39;00m \u001b[39misinstance\u001b[39m(idx, \u001b[39mlist\u001b[39m):\n\u001b[0;32m    297\u001b[0m     \u001b[39mreturn\u001b[39;00m \u001b[39mself\u001b[39m\u001b[39m.\u001b[39mdataset[[\u001b[39mself\u001b[39m\u001b[39m.\u001b[39mindices[i] \u001b[39mfor\u001b[39;00m i \u001b[39min\u001b[39;00m idx]]\n\u001b[1;32m--> 298\u001b[0m \u001b[39mreturn\u001b[39;00m \u001b[39mself\u001b[39;49m\u001b[39m.\u001b[39;49mdataset[\u001b[39mself\u001b[39;49m\u001b[39m.\u001b[39;49mindices[idx]]\n",
      "File \u001b[1;32mc:\\Users\\thoma\\AppData\\Local\\Programs\\Python\\Python39\\lib\\site-packages\\torchvision\\datasets\\mnist.py:145\u001b[0m, in \u001b[0;36mMNIST.__getitem__\u001b[1;34m(self, index)\u001b[0m\n\u001b[0;32m    142\u001b[0m img \u001b[39m=\u001b[39m Image\u001b[39m.\u001b[39mfromarray(img\u001b[39m.\u001b[39mnumpy(), mode\u001b[39m=\u001b[39m\u001b[39m\"\u001b[39m\u001b[39mL\u001b[39m\u001b[39m\"\u001b[39m)\n\u001b[0;32m    144\u001b[0m \u001b[39mif\u001b[39;00m \u001b[39mself\u001b[39m\u001b[39m.\u001b[39mtransform \u001b[39mis\u001b[39;00m \u001b[39mnot\u001b[39;00m \u001b[39mNone\u001b[39;00m:\n\u001b[1;32m--> 145\u001b[0m     img \u001b[39m=\u001b[39m \u001b[39mself\u001b[39;49m\u001b[39m.\u001b[39;49mtransform(img)\n\u001b[0;32m    147\u001b[0m \u001b[39mif\u001b[39;00m \u001b[39mself\u001b[39m\u001b[39m.\u001b[39mtarget_transform \u001b[39mis\u001b[39;00m \u001b[39mnot\u001b[39;00m \u001b[39mNone\u001b[39;00m:\n\u001b[0;32m    148\u001b[0m     target \u001b[39m=\u001b[39m \u001b[39mself\u001b[39m\u001b[39m.\u001b[39mtarget_transform(target)\n",
      "File \u001b[1;32mc:\\Users\\thoma\\AppData\\Local\\Programs\\Python\\Python39\\lib\\site-packages\\torchvision\\transforms\\transforms.py:137\u001b[0m, in \u001b[0;36mToTensor.__call__\u001b[1;34m(self, pic)\u001b[0m\n\u001b[0;32m    129\u001b[0m \u001b[39mdef\u001b[39;00m \u001b[39m__call__\u001b[39m(\u001b[39mself\u001b[39m, pic):\n\u001b[0;32m    130\u001b[0m     \u001b[39m\"\"\"\u001b[39;00m\n\u001b[0;32m    131\u001b[0m \u001b[39m    Args:\u001b[39;00m\n\u001b[0;32m    132\u001b[0m \u001b[39m        pic (PIL Image or numpy.ndarray): Image to be converted to tensor.\u001b[39;00m\n\u001b[1;32m   (...)\u001b[0m\n\u001b[0;32m    135\u001b[0m \u001b[39m        Tensor: Converted image.\u001b[39;00m\n\u001b[0;32m    136\u001b[0m \u001b[39m    \"\"\"\u001b[39;00m\n\u001b[1;32m--> 137\u001b[0m     \u001b[39mreturn\u001b[39;00m F\u001b[39m.\u001b[39;49mto_tensor(pic)\n",
      "File \u001b[1;32mc:\\Users\\thoma\\AppData\\Local\\Programs\\Python\\Python39\\lib\\site-packages\\torchvision\\transforms\\functional.py:172\u001b[0m, in \u001b[0;36mto_tensor\u001b[1;34m(pic)\u001b[0m\n\u001b[0;32m    170\u001b[0m img \u001b[39m=\u001b[39m img\u001b[39m.\u001b[39mview(pic\u001b[39m.\u001b[39msize[\u001b[39m1\u001b[39m], pic\u001b[39m.\u001b[39msize[\u001b[39m0\u001b[39m], F_pil\u001b[39m.\u001b[39mget_image_num_channels(pic))\n\u001b[0;32m    171\u001b[0m \u001b[39m# put it from HWC to CHW format\u001b[39;00m\n\u001b[1;32m--> 172\u001b[0m img \u001b[39m=\u001b[39m img\u001b[39m.\u001b[39;49mpermute((\u001b[39m2\u001b[39;49m, \u001b[39m0\u001b[39;49m, \u001b[39m1\u001b[39;49m))\u001b[39m.\u001b[39mcontiguous()\n\u001b[0;32m    173\u001b[0m \u001b[39mif\u001b[39;00m \u001b[39misinstance\u001b[39m(img, torch\u001b[39m.\u001b[39mByteTensor):\n\u001b[0;32m    174\u001b[0m     \u001b[39mreturn\u001b[39;00m img\u001b[39m.\u001b[39mto(dtype\u001b[39m=\u001b[39mdefault_float_dtype)\u001b[39m.\u001b[39mdiv(\u001b[39m255\u001b[39m)\n",
      "\u001b[1;31mKeyboardInterrupt\u001b[0m: "
     ]
    }
   ],
   "source": [
    "ALPHA_VALUES=[0.1,0.2,0.3,0.4,0.5,0.6,0.7,0.8,0.9]\n",
    "test_losses=np.zeros_like(ALPHA_VALUES)\n",
    "empirical_losses=np.zeros_like(ALPHA_VALUES)\n",
    "bounds=np.zeros_like(ALPHA_VALUES)\n",
    "for k,alpha in enumerate(ALPHA_VALUES):\n",
    "    for n in range(SAMPLE_SIZE):\n",
    "        BASE_MODEL=NeuralNet(INPUT_SIZE, HIDDEN_SIZES, OUTPUT_SIZE)\n",
    "        ReLU_glorot_init(BASE_MODEL)\n",
    "        test_loss, empirical_loss, bound=get_bound(BASE_MODEL,TRAIN_DATASET,TEST_DATASET_LOADER,alpha,TRAIN_DATASET,STOPPING_CRITERIA,SIGMA,SGD_ITERATIONS,BATCH_SIZE,LEARNING_RATE,MOMENTUM)\n",
    "        test_losses[k]+=test_loss/SAMPLE_SIZE\n",
    "        empirical_losses[k]+=empirical_loss/SAMPLE_SIZE\n",
    "        bounds[k]+=bound/SAMPLE_SIZE\n",
    "    print('Samples for alpha={} have been taken'.format(alpha))\n"
   ]
  },
  {
   "cell_type": "code",
   "execution_count": null,
   "metadata": {},
   "outputs": [
    {
     "data": {
      "image/png": "[encoded data removed]",
      "text/plain": [
       "<Figure size 640x480 with 1 Axes>"
      ]
     },
     "metadata": {},
     "output_type": "display_data"
    }
   ],
   "source": [
    "plt.plot(ALPHA_VALUES,test_losses,label='Test Loss')\n",
    "plt.plot(ALPHA_VALUES,empirical_losses,label='Empirical Loss')\n",
    "plt.plot(ALPHA_VALUES,bounds,label='Bound')\n",
    "plt.ylim((0,max(bounds)*1.1))\n",
    "plt.ylabel('0-1 Error')\n",
    "plt.xlabel('Proportion of Training Sample used for Prior')\n",
    "plt.legend()\n",
    "plt.savefig('plots/Info_Bounds_via_Bayes.png')"
   ]
  }
 ],
 "metadata": {
  "kernelspec": {
   "display_name": "Python 3",
   "language": "python",
   "name": "python3"
  },
  "language_info": {
   "codemirror_mode": {
    "name": "ipython",
    "version": 3
   },
   "file_extension": ".py",
   "mimetype": "text/x-python",
   "name": "python",
   "nbconvert_exporter": "python",
   "pygments_lexer": "ipython3",
   "version": "3.9.5"
  },
  "orig_nbformat": 4
 },
 "nbformat": 4,
 "nbformat_minor": 2
}
