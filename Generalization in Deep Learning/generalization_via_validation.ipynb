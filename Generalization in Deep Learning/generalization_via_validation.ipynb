{
 "cells": [
  {
   "cell_type": "code",
   "execution_count": 83,
   "metadata": {},
   "outputs": [],
   "source": [
    "import numpy as np\n",
    "import torch\n",
    "import torch.nn as nn\n",
    "import torchvision\n",
    "import torchvision.transforms as transforms\n",
    "import matplotlib.pyplot as plt"
   ]
  },
  {
   "cell_type": "code",
   "execution_count": 84,
   "metadata": {},
   "outputs": [],
   "source": [
    "input_size = 784\n",
    "hidden_size = 512\n",
    "num_classes = 10\n",
    "num_epochs = 20\n",
    "batch_size = 100\n",
    "learning_rate = 0.05"
   ]
  },
  {
   "cell_type": "code",
   "execution_count": 85,
   "metadata": {},
   "outputs": [],
   "source": [
    "train_dataset = torchvision.datasets.MNIST(root='data', \n",
    "                                           train=True, \n",
    "                                           transform=transforms.ToTensor(),  \n",
    "                                           download=True)\n",
    "\n",
    "test_dataset = torchvision.datasets.MNIST(root='data', \n",
    "                                          train=False, \n",
    "                                          transform=transforms.ToTensor())\n",
    "\n",
    "# Data loader\n",
    "train_loader = torch.utils.data.DataLoader(dataset=train_dataset, \n",
    "                                           batch_size=batch_size, \n",
    "                                           shuffle=True)\n",
    "\n",
    "test_loader = torch.utils.data.DataLoader(dataset=test_dataset, \n",
    "                                          batch_size=batch_size, \n",
    "                                          shuffle=False) "
   ]
  },
  {
   "cell_type": "code",
   "execution_count": 86,
   "metadata": {},
   "outputs": [],
   "source": [
    "train_full_dataset = torch.utils.data.DataLoader(dataset=train_dataset, \n",
    "                                                 batch_size=1, \n",
    "                                                 shuffle=True)\n",
    "test_full_dataset = torch.utils.data.DataLoader(dataset=test_dataset, \n",
    "                                          batch_size=1, \n",
    "                                          shuffle=False) "
   ]
  },
  {
   "cell_type": "code",
   "execution_count": 87,
   "metadata": {},
   "outputs": [],
   "source": [
    "class NeuralNet(nn.Module):\n",
    "    def __init__(self, input_size, hidden_size, num_classes):\n",
    "        super(NeuralNet, self).__init__()\n",
    "        self.fc1 = nn.Linear(input_size, hidden_size) \n",
    "        self.fc2 = nn.Linear(hidden_size, hidden_size) \n",
    "        self.fc3 = nn.Linear(hidden_size, num_classes)  \n",
    "    \n",
    "    def forward(self, x):\n",
    "        x = self.fc1(x)\n",
    "        x = x.relu()\n",
    "        x = self.fc2(x)\n",
    "        x = x.relu()\n",
    "        x = self.fc3(x)\n",
    "        return x\n",
    "\n",
    "model = NeuralNet(input_size, hidden_size, num_classes)"
   ]
  },
  {
   "cell_type": "code",
   "execution_count": 88,
   "metadata": {},
   "outputs": [],
   "source": [
    "criterion = nn.CrossEntropyLoss()\n",
    "optimizer = torch.optim.SGD(model.parameters(), lr=learning_rate) "
   ]
  },
  {
   "cell_type": "code",
   "execution_count": 89,
   "metadata": {},
   "outputs": [
    {
     "name": "stdout",
     "output_type": "stream",
     "text": [
      "Epoch [0], Loss: 0.4184012711048126\n",
      "Epoch [1], Loss: 0.4668915569782257\n",
      "Epoch [2], Loss: 0.2248646318912506\n",
      "Epoch [3], Loss: 0.07911556214094162\n",
      "Epoch [4], Loss: 0.14249642193317413\n",
      "Epoch [5], Loss: 0.261027067899704\n",
      "Epoch [6], Loss: 0.08662015199661255\n",
      "Epoch [7], Loss: 0.1273268461227417\n",
      "Epoch [8], Loss: 0.08360706269741058\n",
      "Epoch [9], Loss: 0.08107130974531174\n",
      "Epoch [10], Loss: 0.1023254469037056\n",
      "Epoch [11], Loss: 0.08338363468647003\n",
      "Epoch [12], Loss: 0.06746060401201248\n",
      "Epoch [13], Loss: 0.09143529087305069\n",
      "Epoch [14], Loss: 0.03087480552494526, Validation Loss0.07195893618873657 \n",
      "Epoch [15], Loss: 0.0074791694059967995, Validation Loss0.07202874999851865 \n",
      "Epoch [16], Loss: 0.06196217238903046\n",
      "Epoch [17], Loss: 0.02550596557557583, Validation Loss0.07203861293332907 \n",
      "Epoch [18], Loss: 0.022354183718562126, Validation Loss0.06608316387006687 \n",
      "Epoch [19], Loss: 0.01441866159439087, Validation Loss0.06516921123234337 \n"
     ]
    }
   ],
   "source": [
    "total_step = len(train_loader)\n",
    "\n",
    "def train_epoch():\n",
    "    for i, (images, labels) in enumerate(train_loader):  \n",
    "        # Move tensors to the configured device\n",
    "        images = images.reshape(-1, 28*28)\n",
    "        labels = labels\n",
    "        \n",
    "        # Forward pass\n",
    "        outputs = model(images)\n",
    "        loss = criterion(outputs, labels)\n",
    "        \n",
    "        # Backprpagation and optimization\n",
    "        optimizer.zero_grad()\n",
    "        loss.backward()\n",
    "        optimizer.step()\n",
    "        \n",
    "\n",
    "    return loss.item()\n",
    "\n",
    "def val_loss(data_loader):\n",
    "    loss=0\n",
    "    with torch.no_grad():\n",
    "        correct = 0\n",
    "        total = 0\n",
    "        for image, label in data_loader:\n",
    "            image = image.reshape(-1, 28*28)\n",
    "            outputs = model(image)\n",
    "            loss+=criterion(outputs, label).item()\n",
    "    return loss/(len(data_loader))\n",
    "\n",
    "max_validation_loss=1\n",
    "counter=0\n",
    "for epoch in range(num_epochs):\n",
    "    loss=train_epoch()\n",
    "    if loss<0.05:\n",
    "        validation_loss=val_loss(test_full_dataset)\n",
    "        if validation_loss<max_validation_loss:\n",
    "            torch.save(model, './models/validated_model')\n",
    "            max_validation_loss=validation_loss\n",
    "            counter+=1\n",
    "        print ('Epoch [{}], Loss: {}, Validation Loss: {}'.format(epoch, loss, validation_loss))\n",
    "    else:\n",
    "        print ('Epoch [{}], Loss: {}' .format(epoch, loss))\n",
    "    if counter>=5:\n",
    "        break\n",
    "\n",
    "    "
   ]
  },
  {
   "cell_type": "code",
   "execution_count": 90,
   "metadata": {},
   "outputs": [],
   "source": [
    "model = torch.load('./models/validated_model')"
   ]
  },
  {
   "cell_type": "code",
   "execution_count": 95,
   "metadata": {},
   "outputs": [
    {
     "name": "stdout",
     "output_type": "stream",
     "text": [
      "0.03857052959564235\n",
      "0.06516921123234337\n"
     ]
    }
   ],
   "source": [
    "train_loss=0\n",
    "with torch.no_grad():\n",
    "    correct = 0\n",
    "    total = 0\n",
    "    for image, label in train_full_dataset:\n",
    "        image = image.reshape(-1, 28*28)\n",
    "        outputs = model(image)\n",
    "        loss+=criterion(outputs, label).item()\n",
    "    print(loss/len(train_dataset))\n",
    "\n",
    "validation_loss_list=[]\n",
    "with torch.no_grad():\n",
    "    correct = 0\n",
    "    total = 0\n",
    "    for image, label in test_full_dataset:\n",
    "        image = image.reshape(-1, 28*28)\n",
    "        outputs = model(image)\n",
    "        validation_loss_list.append(criterion(outputs, label).item())\n",
    "    print(sum(validation_loss_list)/len(validation_loss_list))"
   ]
  },
  {
   "cell_type": "code",
   "execution_count": 99,
   "metadata": {},
   "outputs": [],
   "source": [
    "gamma_squared=0.05**2\n",
    "C=1"
   ]
  },
  {
   "cell_type": "code",
   "execution_count": 100,
   "metadata": {},
   "outputs": [
    {
     "name": "stdout",
     "output_type": "stream",
     "text": [
      "0.06670002777273805\n"
     ]
    }
   ],
   "source": [
    "generalization_bound=sum(validation_loss_list)/len(validation_loss_list)+(2*C*np.log(counter/0.1))/(3*len(validation_loss_list))+np.sqrt((2*gamma_squared)*np.log(counter/0.1)/len(validation_loss_list))\n",
    "print(generalization_bound)"
   ]
  }
 ],
 "metadata": {
  "kernelspec": {
   "display_name": "Python 3",
   "language": "python",
   "name": "python3"
  },
  "language_info": {
   "codemirror_mode": {
    "name": "ipython",
    "version": 3
   },
   "file_extension": ".py",
   "mimetype": "text/x-python",
   "name": "python",
   "nbconvert_exporter": "python",
   "pygments_lexer": "ipython3",
   "version": "3.9.5"
  },
  "orig_nbformat": 4
 },
 "nbformat": 4,
 "nbformat_minor": 2
}
