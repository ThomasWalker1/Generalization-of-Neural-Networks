{
 "cells": [
  {
   "cell_type": "code",
   "execution_count": 18,
   "metadata": {},
   "outputs": [],
   "source": [
    "import torch\n",
    "import torch.nn as nn\n",
    "import torchvision\n",
    "import torchvision.transforms as transforms\n",
    "from torch.utils.data import DataLoader, Subset\n",
    "from torch.optim import SGD\n",
    "\n",
    "import numpy as np\n",
    "import matplotlib.pyplot as plt"
   ]
  },
  {
   "cell_type": "code",
   "execution_count": 19,
   "metadata": {},
   "outputs": [],
   "source": [
    "input_size = 784\n",
    "hidden_size = 2048\n",
    "num_classes = 10\n",
    "num_epochs = 50\n",
    "batch_size = 50\n",
    "learning_rate = 0.01\n",
    "\n",
    "M_train = 5000\n",
    "M_test = 1000"
   ]
  },
  {
   "cell_type": "code",
   "execution_count": 20,
   "metadata": {},
   "outputs": [],
   "source": [
    "# MNIST dataset \n",
    "train_dataset = torchvision.datasets.MNIST(root='data', train=True, transform=transforms.ToTensor(), download=True)\n",
    "\n",
    "test_dataset = torchvision.datasets.MNIST(root='data', train=False, transform=transforms.ToTensor())\n",
    "\n",
    "reduced_train_index=list(range(M_train))\n",
    "reduced_test_index=list(range(M_test))\n",
    "\n",
    "subset_train_dataset=Subset(train_dataset, reduced_train_index)\n",
    "subset_test_dataset=Subset(test_dataset, reduced_test_index)\n",
    "\n",
    "# Data loader\n",
    "train_loader = DataLoader(dataset=subset_train_dataset, batch_size=batch_size, shuffle=True)\n",
    "\n",
    "test_loader = DataLoader(dataset=subset_test_dataset, batch_size=batch_size, shuffle=False) \n",
    "\n",
    "hessian_loader = DataLoader(dataset=subset_train_dataset, batch_size=1, shuffle=False)"
   ]
  },
  {
   "cell_type": "code",
   "execution_count": 21,
   "metadata": {},
   "outputs": [],
   "source": [
    "# Fully connected neural network\n",
    "class NeuralNet(nn.Module):\n",
    "    def __init__(self, input_size, hidden_size, num_classes):\n",
    "        super(NeuralNet, self).__init__()\n",
    "        self.input_layer = nn.Linear(input_size, hidden_size) \n",
    "        self.output_layer = nn.Linear(hidden_size, num_classes)  \n",
    "    \n",
    "    def forward(self, x):\n",
    "        x = self.input_layer(x)\n",
    "        x = x.relu()\n",
    "        x = self.output_layer(x)\n",
    "        return x\n",
    "    \n",
    "def ReLU_glorot_init(model):\n",
    "    for name, param in model.named_parameters():\n",
    "        \n",
    "        if name.endswith(\".bias\"):\n",
    "            param.data.fill_(0)\n",
    "        else:\n",
    "            nn.init.xavier_normal_(param)"
   ]
  },
  {
   "cell_type": "code",
   "execution_count": 22,
   "metadata": {},
   "outputs": [
    {
     "name": "stdout",
     "output_type": "stream",
     "text": [
      "Epoch: 1 TrainLoss: 1.379\n",
      "Epoch: 2 TrainLoss: 0.879\n",
      "Epoch: 3 TrainLoss: 0.855\n",
      "Epoch: 4 TrainLoss: 0.624\n",
      "Epoch: 5 TrainLoss: 0.389\n",
      "Epoch: 6 TrainLoss: 0.520\n",
      "Epoch: 7 TrainLoss: 0.425\n",
      "Epoch: 8 TrainLoss: 0.492\n",
      "Epoch: 9 TrainLoss: 0.448\n",
      "Epoch: 10 TrainLoss: 0.555\n",
      "Epoch: 11 TrainLoss: 0.385\n",
      "Epoch: 12 TrainLoss: 0.343\n",
      "Epoch: 13 TrainLoss: 0.257\n",
      "Epoch: 14 TrainLoss: 0.372\n",
      "Epoch: 15 TrainLoss: 0.394\n",
      "Epoch: 16 TrainLoss: 0.392\n",
      "Epoch: 17 TrainLoss: 0.323\n",
      "Epoch: 18 TrainLoss: 0.314\n",
      "Epoch: 19 TrainLoss: 0.181\n",
      "Epoch: 20 TrainLoss: 0.228\n",
      "Epoch: 21 TrainLoss: 0.263\n",
      "Epoch: 22 TrainLoss: 0.186\n",
      "Epoch: 23 TrainLoss: 0.280\n",
      "Epoch: 24 TrainLoss: 0.367\n",
      "Epoch: 25 TrainLoss: 0.224\n",
      "Epoch: 26 TrainLoss: 0.265\n",
      "Epoch: 27 TrainLoss: 0.196\n",
      "Epoch: 28 TrainLoss: 0.347\n",
      "Epoch: 29 TrainLoss: 0.375\n",
      "Epoch: 30 TrainLoss: 0.139\n",
      "Epoch: 31 TrainLoss: 0.248\n",
      "Epoch: 32 TrainLoss: 0.351\n",
      "Epoch: 33 TrainLoss: 0.169\n",
      "Epoch: 34 TrainLoss: 0.115\n",
      "Epoch: 35 TrainLoss: 0.256\n",
      "Epoch: 36 TrainLoss: 0.156\n",
      "Epoch: 37 TrainLoss: 0.176\n",
      "Epoch: 38 TrainLoss: 0.234\n",
      "Epoch: 39 TrainLoss: 0.171\n",
      "Epoch: 40 TrainLoss: 0.129\n",
      "Epoch: 41 TrainLoss: 0.284\n",
      "Epoch: 42 TrainLoss: 0.210\n",
      "Epoch: 43 TrainLoss: 0.255\n",
      "Epoch: 44 TrainLoss: 0.235\n",
      "Epoch: 45 TrainLoss: 0.228\n",
      "Epoch: 46 TrainLoss: 0.268\n",
      "Epoch: 47 TrainLoss: 0.132\n",
      "Epoch: 48 TrainLoss: 0.383\n",
      "Epoch: 49 TrainLoss: 0.270\n",
      "Epoch: 50 TrainLoss: 0.146\n"
     ]
    }
   ],
   "source": [
    "model = NeuralNet(input_size, hidden_size, num_classes)\n",
    "ReLU_glorot_init(model)\n",
    "\n",
    "criterion = nn.CrossEntropyLoss()\n",
    "optimizer = SGD(model.parameters(), lr=learning_rate)\n",
    "\n",
    "def train_epoch():\n",
    "    for images, labels in train_loader:\n",
    "        images = images.reshape(-1, 28*28)\n",
    "        outputs = model(images)\n",
    "        loss = criterion(outputs, labels)\n",
    "        optimizer.zero_grad()\n",
    "        loss.backward()\n",
    "        optimizer.step()\n",
    "    return loss.item()\n",
    "\n",
    "for epoch in range(num_epochs):\n",
    "    trainloss = train_epoch()\n",
    "    print('Epoch: {} TrainLoss: {:.3f}'.format(epoch+1,trainloss))"
   ]
  },
  {
   "cell_type": "code",
   "execution_count": 41,
   "metadata": {},
   "outputs": [],
   "source": [
    "def network_layer_weight_extraction(model):\n",
    "    network_weights=[]\n",
    "    for para in model.named_parameters():\n",
    "        if 'weight' in para[0]:\n",
    "            network_weights.append(para[1])\n",
    "    return network_weights\n",
    "\n",
    "def network_layer_bias_extraction(model):\n",
    "    network_weights=[]\n",
    "    for para in model.named_parameters():\n",
    "        if 'bias' in para[0]:\n",
    "            network_weights.append(para[1])\n",
    "    return network_weights"
   ]
  },
  {
   "cell_type": "code",
   "execution_count": 57,
   "metadata": {},
   "outputs": [],
   "source": [
    "weights=network_layer_weight_extraction(model)\n",
    "bias=network_layer_bias_extraction(model)"
   ]
  }
 ],
 "metadata": {
  "kernelspec": {
   "display_name": "Python 3",
   "language": "python",
   "name": "python3"
  },
  "language_info": {
   "codemirror_mode": {
    "name": "ipython",
    "version": 3
   },
   "file_extension": ".py",
   "mimetype": "text/x-python",
   "name": "python",
   "nbconvert_exporter": "python",
   "pygments_lexer": "ipython3",
   "version": "3.9.5"
  },
  "orig_nbformat": 4
 },
 "nbformat": 4,
 "nbformat_minor": 2
}
