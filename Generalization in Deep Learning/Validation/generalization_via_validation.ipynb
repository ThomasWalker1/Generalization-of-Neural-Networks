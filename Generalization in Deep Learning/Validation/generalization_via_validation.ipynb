{
 "cells": [
  {
   "cell_type": "code",
   "execution_count": 9,
   "metadata": {},
   "outputs": [],
   "source": [
    "# Import PyTorch\n",
    "\n",
    "import torch\n",
    "import torch.nn as nn\n",
    "import torchvision\n",
    "import torchvision.transforms as transforms\n",
    "\n",
    "# Import other packages\n",
    "\n",
    "import matplotlib.pyplot as plt\n",
    "import numpy as np"
   ]
  },
  {
   "cell_type": "code",
   "execution_count": 10,
   "metadata": {},
   "outputs": [],
   "source": [
    "# Define the hyper-parameters of the model\n",
    "\n",
    "input_size = 784\n",
    "hidden_size = 512\n",
    "num_classes = 10\n",
    "num_epochs = 20\n",
    "batch_size = 100\n",
    "learning_rate = 0.05"
   ]
  },
  {
   "cell_type": "code",
   "execution_count": 11,
   "metadata": {},
   "outputs": [],
   "source": [
    "# Import the MNIST dataset as two separate datasets\n",
    "\n",
    "train_dataset = torchvision.datasets.MNIST(root='data', \n",
    "                                           train=True, \n",
    "                                           transform=transforms.ToTensor(),  \n",
    "                                           download=True)\n",
    "\n",
    "validation_dataset = torchvision.datasets.MNIST(root='data', \n",
    "                                          train=False, \n",
    "                                          transform=transforms.ToTensor())\n",
    "\n",
    "# Create the data loader for training\n",
    "train_dataset_loader = torch.utils.data.DataLoader(dataset=train_dataset, \n",
    "                                           batch_size=batch_size, \n",
    "                                           shuffle=True)\n",
    "\n",
    "# Create the data loader for validating\n",
    "\n",
    "validation_dataset_loader = torch.utils.data.DataLoader(dataset=validation_dataset, \n",
    "                                          batch_size=1, \n",
    "                                          shuffle=False) "
   ]
  },
  {
   "cell_type": "code",
   "execution_count": 12,
   "metadata": {},
   "outputs": [],
   "source": [
    "# Defining a FC neural network\n",
    "\n",
    "class NeuralNet(nn.Module):\n",
    "    def __init__(self, input_size, hidden_size, num_classes):\n",
    "        super(NeuralNet, self).__init__()\n",
    "        self.fc1 = nn.Linear(input_size, hidden_size) \n",
    "        self.fc2 = nn.Linear(hidden_size, hidden_size) \n",
    "        self.fc3 = nn.Linear(hidden_size, num_classes)  \n",
    "    \n",
    "    def forward(self, x):\n",
    "        x = self.fc1(x)\n",
    "        x = x.relu()\n",
    "        x = self.fc2(x)\n",
    "        x = x.relu()\n",
    "        x = self.fc3(x)\n",
    "        return x\n",
    "\n",
    "model = NeuralNet(input_size, hidden_size, num_classes)"
   ]
  },
  {
   "cell_type": "code",
   "execution_count": 13,
   "metadata": {},
   "outputs": [],
   "source": [
    "# Use CrossEntropyLoss as its bounded between 0-1\n",
    "\n",
    "criterion = nn.CrossEntropyLoss()\n",
    "optimizer = torch.optim.SGD(model.parameters(), lr=learning_rate) "
   ]
  },
  {
   "cell_type": "code",
   "execution_count": 14,
   "metadata": {},
   "outputs": [],
   "source": [
    "# Training Epoch\n",
    "\n",
    "def train_epoch():\n",
    "    for i, (images, labels) in enumerate(train_dataset_loader):  \n",
    "        # Move tensors to the configured device\n",
    "        images = images.reshape(-1, 28*28)\n",
    "        labels = labels\n",
    "        \n",
    "        # Forward pass\n",
    "        outputs = model(images)\n",
    "        loss = criterion(outputs, labels)\n",
    "        \n",
    "        # Backprpagation and optimization\n",
    "        optimizer.zero_grad()\n",
    "        loss.backward()\n",
    "        optimizer.step()\n",
    "        \n",
    "\n",
    "    return loss.item()\n",
    "\n",
    "# Obtain empirical risk of model from the validation set\n",
    "\n",
    "def empirical_validation_risk(data_loader):\n",
    "    loss_list=[]\n",
    "    with torch.no_grad():\n",
    "        for image, label in data_loader:\n",
    "            image = image.reshape(-1, 28*28)\n",
    "            outputs = model(image)\n",
    "            loss_list.append(criterion(outputs, label).item())\n",
    "    return sum(loss_list)/(len(loss_list))\n",
    "    \n",
    "def empirical_validation_risk_with_list(data_loader):\n",
    "    loss_list=[]\n",
    "    with torch.no_grad():\n",
    "        for image, label in data_loader:\n",
    "            image = image.reshape(-1, 28*28)\n",
    "            outputs = model(image)\n",
    "            loss_list.append(criterion(outputs, label).item())\n",
    "    return sum(loss_list)/(len(loss_list)), loss_list\n",
    "    "
   ]
  },
  {
   "cell_type": "code",
   "execution_count": 15,
   "metadata": {},
   "outputs": [
    {
     "name": "stdout",
     "output_type": "stream",
     "text": [
      "Epoch [1], Loss: 0.24942602217197418\n",
      "Epoch [2], Loss: 0.2768819332122803\n",
      "Epoch [3], Loss: 0.19234256446361542\n",
      "Epoch [4], Loss: 0.24565021693706512\n",
      "Epoch [5], Loss: 0.2121107131242752\n",
      "Epoch [6], Loss: 0.23824289441108704\n",
      "Epoch [7], Loss: 0.059267621487379074\n",
      "Epoch [8], Loss: 0.10241420567035675\n",
      "Epoch [9], Loss: 0.0981324315071106\n",
      "Epoch [10], Loss: 0.1258523315191269\n",
      "Epoch [11], Loss: 0.10823557525873184\n",
      "Epoch [12], Loss: 0.0665387362241745\n",
      "Epoch [13], Loss: 0.07587321102619171\n",
      "Epoch [14], Loss: 0.0832892507314682\n",
      "Epoch [15], Loss: 0.014344729483127594, Validation Loss: 0.07480454442187828\n",
      "Epoch [16], Loss: 0.04845869913697243, Validation Loss: 0.07162741835739166\n",
      "Epoch [17], Loss: 0.02243698574602604, Validation Loss: 0.06816520196682499\n",
      "Epoch [18], Loss: 0.031495530158281326, Validation Loss: 0.06951017985482802\n",
      "Epoch [19], Loss: 0.03017069771885872, Validation Loss: 0.06715069839426477\n",
      "Epoch [20], Loss: 0.017194082960486412, Validation Loss: 0.06692903898719132\n",
      "Epoch [21], Loss: 0.018247481435537338, Validation Loss: 0.06680763010342858\n",
      "Epoch [22], Loss: 0.045290637761354446, Validation Loss: 0.0661105741361762\n",
      "Epoch [23], Loss: 0.011808706447482109, Validation Loss: 0.06482058141276907\n",
      "Epoch [24], Loss: 0.014306684955954552, Validation Loss: 0.06270377233876723\n"
     ]
    }
   ],
   "source": [
    "# Train the model\n",
    "\n",
    "max_validation_loss=1\n",
    "\n",
    "training_epochs=0\n",
    "validation_epochs=0\n",
    "while training_epochs<10 or validation_epochs<10:\n",
    "    loss=train_epoch()\n",
    "    if loss<0.05:\n",
    "        validation_loss=empirical_validation_risk(validation_dataset_loader)\n",
    "        if validation_loss<max_validation_loss:\n",
    "            torch.save(model, './models/validated_model')\n",
    "            max_validation_loss=validation_loss\n",
    "        validation_epochs+=1\n",
    "        print ('Epoch [{}], Loss: {}, Validation Loss: {}'.format(training_epochs+validation_epochs, loss, validation_loss))\n",
    "    else:\n",
    "        training_epochs+=1\n",
    "        print ('Epoch [{}], Loss: {}'.format(training_epochs+validation_epochs, loss))"
   ]
  },
  {
   "cell_type": "code",
   "execution_count": 16,
   "metadata": {},
   "outputs": [],
   "source": [
    "model = torch.load('./models/validated_model')"
   ]
  },
  {
   "cell_type": "code",
   "execution_count": 17,
   "metadata": {},
   "outputs": [],
   "source": [
    "# delta and Gamma_squared chosen reasonably, C chosen for worst-case, \n",
    "\n",
    "delta=0.1\n",
    "gamma_squared=0.05**2\n",
    "C=1\n",
    "\n",
    "validation_risk_value,validation_risk_list=empirical_validation_risk_with_list(validation_dataset_loader)\n",
    "m_val=len(validation_risk_list)\n",
    "\n",
    "# Calculate bound on the on the expected risk\n",
    "\n",
    "generalization_bound=validation_risk_value+(2*C*np.log(validation_epochs/delta))/(3*m_val)+np.sqrt((2*gamma_squared)*np.log(validation_epochs/delta)/m_val)"
   ]
  },
  {
   "cell_type": "code",
   "execution_count": 18,
   "metadata": {},
   "outputs": [
    {
     "name": "stdout",
     "output_type": "stream",
     "text": [
      "0.0645282108138849\n"
     ]
    }
   ],
   "source": [
    "print(generalization_bound)"
   ]
  }
 ],
 "metadata": {
  "kernelspec": {
   "display_name": "Python 3",
   "language": "python",
   "name": "python3"
  },
  "language_info": {
   "codemirror_mode": {
    "name": "ipython",
    "version": 3
   },
   "file_extension": ".py",
   "mimetype": "text/x-python",
   "name": "python",
   "nbconvert_exporter": "python",
   "pygments_lexer": "ipython3",
   "version": "3.9.5"
  },
  "orig_nbformat": 4
 },
 "nbformat": 4,
 "nbformat_minor": 2
}
