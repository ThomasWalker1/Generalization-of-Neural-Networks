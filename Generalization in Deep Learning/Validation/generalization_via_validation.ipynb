{
 "cells": [
  {
   "attachments": {},
   "cell_type": "markdown",
   "metadata": {},
   "source": []
  },
  {
   "cell_type": "code",
   "execution_count": 15,
   "metadata": {},
   "outputs": [],
   "source": [
    "# Import PyTorch\n",
    "\n",
    "import torch\n",
    "import torch.nn as nn\n",
    "import torchvision\n",
    "import torchvision.transforms as transforms\n",
    "from torch.utils.data import DataLoader\n",
    "from torch.optim import SGD\n",
    "\n",
    "# Import other packages\n",
    "\n",
    "import matplotlib.pyplot as plt\n",
    "import numpy as np"
   ]
  },
  {
   "cell_type": "code",
   "execution_count": 16,
   "metadata": {},
   "outputs": [],
   "source": [
    "# Define the hyper-parameters of the model\n",
    "\n",
    "input_size = 784\n",
    "hidden_size = 512\n",
    "num_classes = 10\n",
    "num_epochs = 20\n",
    "batch_size = 100\n",
    "learning_rate = 0.05"
   ]
  },
  {
   "cell_type": "code",
   "execution_count": 17,
   "metadata": {},
   "outputs": [],
   "source": [
    "# Import the MNIST dataset as two separate datasets\n",
    "\n",
    "train_dataset = torchvision.datasets.MNIST(root='data', \n",
    "                                           train=True, \n",
    "                                           transform=transforms.ToTensor(),  \n",
    "                                           download=True)\n",
    "\n",
    "validation_dataset = torchvision.datasets.MNIST(root='data', \n",
    "                                          train=False, \n",
    "                                          transform=transforms.ToTensor())\n",
    "\n",
    "# Create the data loader for training\n",
    "train_dataset_loader = DataLoader(dataset=train_dataset, batch_size=batch_size, shuffle=True)\n",
    "\n",
    "# Create the data loader for validating\n",
    "\n",
    "validation_dataset_loader = DataLoader(dataset=validation_dataset, batch_size=1, shuffle=False) "
   ]
  },
  {
   "cell_type": "code",
   "execution_count": 18,
   "metadata": {},
   "outputs": [],
   "source": [
    "# Defining a FC neural network\n",
    "\n",
    "class NeuralNet(nn.Module):\n",
    "    def __init__(self, input_size, hidden_size, num_classes):\n",
    "        super(NeuralNet, self).__init__()\n",
    "        self.fc1 = nn.Linear(input_size, hidden_size) \n",
    "        self.fc2 = nn.Linear(hidden_size, hidden_size) \n",
    "        self.fc3 = nn.Linear(hidden_size, num_classes)  \n",
    "    \n",
    "    def forward(self, x):\n",
    "        x = self.fc1(x)\n",
    "        x = x.relu()\n",
    "        x = self.fc2(x)\n",
    "        x = x.relu()\n",
    "        x = self.fc3(x)\n",
    "        return x\n",
    "    \n",
    "def ReLU_glorot_init(model):\n",
    "    for name, param in model.named_parameters():\n",
    "        \n",
    "        if name.endswith(\".bias\"):\n",
    "            param.data.fill_(0)\n",
    "        else:\n",
    "            nn.init.xavier_normal_(param)\n",
    "\n",
    "model = NeuralNet(input_size, hidden_size, num_classes)\n",
    "ReLU_glorot_init(model)"
   ]
  },
  {
   "cell_type": "code",
   "execution_count": 19,
   "metadata": {},
   "outputs": [],
   "source": [
    "# Use CrossEntropyLoss as its bounded between 0-1\n",
    "\n",
    "criterion = nn.CrossEntropyLoss()\n",
    "optimizer = SGD(model.parameters(), lr=learning_rate) "
   ]
  },
  {
   "cell_type": "code",
   "execution_count": 20,
   "metadata": {},
   "outputs": [],
   "source": [
    "# Training Epoch\n",
    "\n",
    "def train_epoch():\n",
    "    for i, (images, labels) in enumerate(train_dataset_loader):  \n",
    "        # Move tensors to the configured device\n",
    "        images = images.reshape(-1, 28*28)\n",
    "        labels = labels\n",
    "        \n",
    "        # Forward pass\n",
    "        outputs = model(images)\n",
    "        loss = criterion(outputs, labels)\n",
    "        \n",
    "        # Backprpagation and optimization\n",
    "        optimizer.zero_grad()\n",
    "        loss.backward()\n",
    "        optimizer.step()\n",
    "        \n",
    "\n",
    "    return loss.item()\n",
    "\n",
    "# Obtain empirical risk of model from the validation set\n",
    "\n",
    "def empirical_validation_risk(data_loader):\n",
    "    loss_list=[]\n",
    "    with torch.no_grad():\n",
    "        for image, label in data_loader:\n",
    "            image = image.reshape(-1, 28*28)\n",
    "            outputs = model(image)\n",
    "            loss_list.append(criterion(outputs, label).item())\n",
    "    return sum(loss_list)/(len(loss_list))\n",
    "    \n",
    "def empirical_validation_risk_with_list(data_loader):\n",
    "    loss_list=[]\n",
    "    with torch.no_grad():\n",
    "        for image, label in data_loader:\n",
    "            image = image.reshape(-1, 28*28)\n",
    "            outputs = model(image)\n",
    "            loss_list.append(criterion(outputs, label).item())\n",
    "    return sum(loss_list)/(len(loss_list)), loss_list\n",
    "    "
   ]
  },
  {
   "attachments": {},
   "cell_type": "markdown",
   "metadata": {},
   "source": [
    "The validation approach we take here is to use the validation set to choose the best model amongst those that achieve a loss of less than $0.05$ on the training set. "
   ]
  },
  {
   "cell_type": "code",
   "execution_count": 21,
   "metadata": {},
   "outputs": [
    {
     "name": "stdout",
     "output_type": "stream",
     "text": [
      "Epoch 1, Loss: 0.3432190716266632\n",
      "Epoch 2, Loss: 0.26344597339630127\n",
      "Epoch 3, Loss: 0.12106765806674957\n",
      "Epoch 4, Loss: 0.2570825219154358\n",
      "Epoch 5, Loss: 0.18632322549819946\n",
      "Epoch 6, Loss: 0.18539267778396606\n",
      "Epoch 7, Loss: 0.08847198635339737\n",
      "Epoch 8, Loss: 0.05708501860499382\n",
      "Epoch 9, Loss: 0.11022380739450455\n",
      "Epoch 10, Loss: 0.06650680303573608\n",
      "Epoch 11, Loss: 0.08902323991060257\n",
      "Epoch 12, Loss: 0.05702905356884003\n",
      "Epoch 13, Loss: 0.040989384055137634, Validation Loss: 0.07880349303530927\n",
      "Epoch 14, Loss: 0.04591413959860802, Validation Loss: 0.07492206276069742\n",
      "Epoch 15, Loss: 0.03221502900123596, Validation Loss: 0.07488904669934096\n",
      "Epoch 16, Loss: 0.0214660856872797, Validation Loss: 0.07156446607305418\n",
      "Epoch 17, Loss: 0.046054258942604065, Validation Loss: 0.0718577803042015\n",
      "Epoch 18, Loss: 0.021732844412326813, Validation Loss: 0.06746899001695672\n",
      "Epoch 19, Loss: 0.03488079458475113, Validation Loss: 0.06572401382933775\n",
      "Epoch 20, Loss: 0.050470441579818726\n",
      "Epoch 21, Loss: 0.03838147968053818, Validation Loss: 0.06686209819177255\n",
      "Epoch 22, Loss: 0.010608574375510216, Validation Loss: 0.06555065884057933\n",
      "Epoch 23, Loss: 0.06351273506879807\n",
      "Epoch 24, Loss: 0.02417798526585102, Validation Loss: 0.06368414347029258\n"
     ]
    }
   ],
   "source": [
    "# Train the model\n",
    "\n",
    "max_validation_loss=1\n",
    "\n",
    "training_epochs=0\n",
    "validation_epochs=0\n",
    "while training_epochs<10 or validation_epochs<10:\n",
    "    loss=train_epoch()\n",
    "    if loss<0.05:\n",
    "        validation_loss=empirical_validation_risk(validation_dataset_loader)\n",
    "        if validation_loss<max_validation_loss:\n",
    "            torch.save(model, './models/validated_model')\n",
    "            max_validation_loss=validation_loss\n",
    "        validation_epochs+=1\n",
    "        print ('Epoch {}, Loss: {}, Validation Loss: {}'.format(training_epochs+validation_epochs, loss, validation_loss))\n",
    "    else:\n",
    "        training_epochs+=1\n",
    "        print ('Epoch {}, Loss: {}'.format(training_epochs+validation_epochs, loss))"
   ]
  },
  {
   "cell_type": "code",
   "execution_count": 22,
   "metadata": {},
   "outputs": [],
   "source": [
    "model = torch.load('./models/validated_model')"
   ]
  },
  {
   "cell_type": "code",
   "execution_count": 23,
   "metadata": {},
   "outputs": [
    {
     "name": "stdout",
     "output_type": "stream",
     "text": [
      "0.06550858194541026\n"
     ]
    }
   ],
   "source": [
    "# delta and Gamma_squared chosen reasonably, C chosen for worst-case, \n",
    "\n",
    "delta=0.1\n",
    "gamma_squared=0.05**2\n",
    "C=1\n",
    "\n",
    "validation_risk_value,validation_risk_list=empirical_validation_risk_with_list(validation_dataset_loader)\n",
    "m_val=len(validation_risk_list)\n",
    "\n",
    "# Calculate bound on the on the expected risk\n",
    "\n",
    "generalization_bound=validation_risk_value+(2*C*np.log(validation_epochs/delta))/(3*m_val)+np.sqrt((2*gamma_squared)*np.log(validation_epochs/delta)/m_val)\n",
    "\n",
    "print(generalization_bound)"
   ]
  },
  {
   "cell_type": "code",
   "execution_count": 29,
   "metadata": {},
   "outputs": [
    {
     "data": {
      "image/png": "[encoded data removed]",
      "text/plain": [
       "<Figure size 640x480 with 1 Axes>"
      ]
     },
     "metadata": {},
     "output_type": "display_data"
    }
   ],
   "source": [
    "f_val=np.logspace(1,10,num=50)\n",
    "plt.plot(f_val,validation_risk_value+(2*C*np.log(f_val/delta))/(3*m_val)+np.sqrt((2*gamma_squared)*np.log(f_val/delta)/m_val))\n",
    "plt.xscale('log')\n",
    "plt.ylabel('Generalization Bound')\n",
    "plt.xlabel('(log) Number of Validation Hypotheses')\n",
    "plt.show()"
   ]
  }
 ],
 "metadata": {
  "kernelspec": {
   "display_name": "Python 3",
   "language": "python",
   "name": "python3"
  },
  "language_info": {
   "codemirror_mode": {
    "name": "ipython",
    "version": 3
   },
   "file_extension": ".py",
   "mimetype": "text/x-python",
   "name": "python",
   "nbconvert_exporter": "python",
   "pygments_lexer": "ipython3",
   "version": "3.9.5"
  },
  "orig_nbformat": 4
 },
 "nbformat": 4,
 "nbformat_minor": 2
}
