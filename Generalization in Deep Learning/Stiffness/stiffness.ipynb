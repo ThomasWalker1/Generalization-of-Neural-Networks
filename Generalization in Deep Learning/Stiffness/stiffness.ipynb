{
 "cells": [
  {
   "cell_type": "code",
   "execution_count": 187,
   "metadata": {},
   "outputs": [],
   "source": [
    "import torch\n",
    "import torch.nn as nn\n",
    "from torch.optim import SGD\n",
    "import torchvision\n",
    "import torchvision.transforms as transforms\n",
    "from torch.utils.data import DataLoader, Subset\n",
    "\n",
    "import numpy as np\n",
    "from numpy.linalg import norm\n",
    "import matplotlib.pyplot as plt"
   ]
  },
  {
   "cell_type": "code",
   "execution_count": 188,
   "metadata": {},
   "outputs": [],
   "source": [
    "class NeuralNet(nn.Module):\n",
    "    def __init__(self, input_size, hidden_sizes, output_size):\n",
    "        super(NeuralNet, self).__init__()\n",
    "        self.hidden = nn.ModuleList()\n",
    "        self.input_layer = nn.Linear(input_size, hidden_sizes[0],bias=False)\n",
    "        for k in range(len(hidden_sizes)-1):\n",
    "            self.hidden.append(nn.Linear(hidden_sizes[k], hidden_sizes[k+1],bias=False))\n",
    "        self.output_layer = nn.Linear(hidden_sizes[-1], output_size,bias=False)\n",
    "        \n",
    "    \n",
    "    def forward(self, x):\n",
    "        x=self.input_layer(x)\n",
    "        x=x.relu()\n",
    "        for layer in self.hidden:\n",
    "            x=layer(x)\n",
    "            x=x.relu()\n",
    "        x=self.output_layer(x)\n",
    "        return x\n",
    "\n",
    "def ReLU_glorot_init(model):\n",
    "    for name, param in model.named_parameters():\n",
    "        if name.endswith(\".bias\"):\n",
    "            param.data.fill_(0)\n",
    "        else:\n",
    "            nn.init.xavier_normal_(param)"
   ]
  },
  {
   "cell_type": "code",
   "execution_count": 189,
   "metadata": {},
   "outputs": [],
   "source": [
    "INPUT_SIZE=784\n",
    "HIDDEN_SIZES=[500,300,100]\n",
    "OUTPUT_SIZE=10\n",
    "BATCH_SIZE=100\n",
    "LEARNING_RATE=0.01\n",
    "NUM_EPOCHS=50\n",
    "\n",
    "M_TRAIN=10000\n",
    "M_VAL=2000"
   ]
  },
  {
   "cell_type": "code",
   "execution_count": 190,
   "metadata": {},
   "outputs": [],
   "source": [
    "# Import the MNIST dataset as two separate datasets\n",
    "\n",
    "train_dataset = torchvision.datasets.MNIST(root='data', train=True, transform=transforms.ToTensor(), download=True)\n",
    "\n",
    "validation_dataset = torchvision.datasets.MNIST(root='data', train=False, transform=transforms.ToTensor())\n",
    "\n",
    "reduced_train_index=list(range(M_TRAIN))\n",
    "reduced_test_index=list(range(M_VAL))\n",
    "\n",
    "subset_train_dataset=Subset(train_dataset, reduced_train_index)\n",
    "subset_validation_dataset=Subset(validation_dataset, reduced_test_index)\n",
    "\n",
    "# Create the data loader for training\n",
    "train_dataset_loader = DataLoader(subset_train_dataset, batch_size=BATCH_SIZE, shuffle=True)\n",
    "\n",
    "# Create the data loader for validating\n",
    "\n",
    "validation_dataset_loader = DataLoader(subset_validation_dataset, batch_size=BATCH_SIZE, shuffle=False) "
   ]
  },
  {
   "cell_type": "code",
   "execution_count": 191,
   "metadata": {},
   "outputs": [],
   "source": [
    "def strat_sample(train_dataset):\n",
    "\n",
    "    train_stratified_sample=[0,0,0,0,0,0,0,0,0,0]\n",
    "    unidentified_label=[0,1,2,3,4,5,6,7,8,9]\n",
    "\n",
    "    counter=np.random.randint(0,1000)\n",
    "    while len(unidentified_label)>0:\n",
    "        label=train_dataset[counter][1]\n",
    "        if label in unidentified_label:\n",
    "            unidentified_label.remove(label)\n",
    "            train_stratified_sample[label]=counter\n",
    "        counter+=1\n",
    "    return train_stratified_sample\n",
    "\n",
    "strat_loader_1 = DataLoader(dataset=Subset(train_dataset,strat_sample(train_dataset)))\n",
    "strat_loader_2 = DataLoader(dataset=Subset(train_dataset,strat_sample(train_dataset)))"
   ]
  },
  {
   "cell_type": "code",
   "execution_count": 192,
   "metadata": {},
   "outputs": [],
   "source": [
    "def stiffness(x_1,x_2):\n",
    "    return np.dot(x_1/norm(x_1),x_2/norm(x_2))"
   ]
  },
  {
   "cell_type": "code",
   "execution_count": 193,
   "metadata": {},
   "outputs": [
    {
     "name": "stdout",
     "output_type": "stream",
     "text": [
      "1.5820999145507812\n",
      "0.826518177986145\n",
      "0.6725513339042664\n",
      "0.6609718799591064\n",
      "0.4332827627658844\n",
      "0.3997243642807007\n",
      "0.45549771189689636\n",
      "0.35846999287605286\n",
      "0.32833439111709595\n",
      "0.3884523808956146\n",
      "0.4146626591682434\n",
      "0.3275541365146637\n",
      "0.38982924818992615\n",
      "0.3107101321220398\n",
      "0.24531680345535278\n",
      "0.304465115070343\n",
      "0.2818208634853363\n",
      "0.1933937668800354\n",
      "0.17603033781051636\n",
      "0.19482403993606567\n",
      "0.28661131858825684\n",
      "0.2180509716272354\n",
      "0.14646923542022705\n",
      "0.17976047098636627\n",
      "0.12239278107881546\n",
      "0.180797278881073\n",
      "0.07795502245426178\n",
      "0.11565231531858444\n",
      "0.1152830421924591\n",
      "0.22244815528392792\n",
      "0.16134805977344513\n",
      "0.07071593403816223\n",
      "0.10172329097986221\n",
      "0.19044046103954315\n",
      "0.09617768973112106\n",
      "0.15083767473697662\n",
      "0.10127571225166321\n",
      "0.11969049274921417\n",
      "0.21657614409923553\n",
      "0.17831486463546753\n",
      "0.1486608386039734\n",
      "0.13369759917259216\n",
      "0.061615705490112305\n",
      "0.13669860363006592\n",
      "0.19061315059661865\n",
      "0.10475225746631622\n",
      "0.10241488367319107\n",
      "0.08832615613937378\n",
      "0.16827309131622314\n",
      "0.07769835740327835\n"
     ]
    }
   ],
   "source": [
    "model=NeuralNet(INPUT_SIZE, HIDDEN_SIZES, OUTPUT_SIZE)\n",
    "ReLU_glorot_init(model)\n",
    "\n",
    "criterion = nn.CrossEntropyLoss()\n",
    "optimizer = torch.optim.SGD(model.parameters(), lr=LEARNING_RATE)\n",
    "\n",
    "def train_epoch():\n",
    "    class_gradients_1=[]\n",
    "    for image, label in strat_loader_1:\n",
    "        image = image.reshape(-1,28*28)\n",
    "        output=model(image)\n",
    "        optimizer.zero_grad()\n",
    "        loss1=criterion(output,label)\n",
    "        loss1.backward()\n",
    "\n",
    "        gradient=[]\n",
    "        gradient+=torch.flatten(model.input_layer.weight.grad).tolist()\n",
    "        for layer in model.hidden:\n",
    "            gradient+=torch.flatten(layer.weight.grad).tolist()\n",
    "        gradient+=torch.flatten(model.output_layer.weight.grad).tolist()\n",
    "        class_gradients_1.append(np.array(gradient))\n",
    "\n",
    "    class_gradients_2=[]\n",
    "    for image, label in strat_loader_2:\n",
    "        image = image.reshape(-1,28*28)\n",
    "        output=model(image)\n",
    "        optimizer.zero_grad()\n",
    "        loss1=criterion(output,label)\n",
    "        loss1.backward()\n",
    "\n",
    "        gradient=[]\n",
    "        gradient+=torch.flatten(model.input_layer.weight.grad).tolist()\n",
    "        for layer in model.hidden:\n",
    "            gradient+=torch.flatten(layer.weight.grad).tolist()\n",
    "        gradient+=torch.flatten(model.output_layer.weight.grad).tolist()\n",
    "        class_gradients_2.append(np.array(gradient))\n",
    "    \n",
    "    stiffness_matrix=np.zeros((OUTPUT_SIZE,OUTPUT_SIZE))\n",
    "    for n, x_1 in enumerate(class_gradients_1):\n",
    "        for m, x_2 in enumerate(class_gradients_2):\n",
    "            stiffness_matrix[n][m]=stiffness(x_1,x_2)\n",
    "\n",
    "    for images, labels in train_dataset_loader:  \n",
    "        images = images.reshape(-1, 28*28)\n",
    "        \n",
    "        outputs = model(images)\n",
    "        loss = criterion(outputs, labels)\n",
    "        \n",
    "        optimizer.zero_grad()\n",
    "        loss.backward()\n",
    "        optimizer.step()\n",
    "    return loss.item(), stiffness_matrix\n",
    "\n",
    "\n",
    "stiff_matrices=[]\n",
    "for n in range(NUM_EPOCHS):\n",
    "    loss, stiff_matrix=train_epoch()\n",
    "    stiff_matrices.append(stiff_matrix)\n",
    "    print(loss)"
   ]
  },
  {
   "cell_type": "code",
   "execution_count": 194,
   "metadata": {},
   "outputs": [
    {
     "data": {
      "text/plain": [
       "<matplotlib.colorbar.Colorbar at 0x22191c712e0>"
      ]
     },
     "execution_count": 194,
     "metadata": {},
     "output_type": "execute_result"
    },
    {
     "data": {
      "image/png": "[encoded data removed]",
      "text/plain": [
       "<Figure size 1800x600 with 6 Axes>"
      ]
     },
     "metadata": {},
     "output_type": "display_data"
    }
   ],
   "source": [
    "fig, (ax1,ax2,ax3) = plt.subplots(ncols=1,nrows=3, figsize=(18,6))\n",
    "p1 = ax1.imshow(stiff_matrices[0],vmin=-1,vmax=1)\n",
    "p2 = ax2.imshow(stiff_matrices[10],vmin=-1,vmax=1)\n",
    "p3 = ax3.imshow(stiff_matrices[-1],vmin=-1,vmax=1)\n",
    "ax1.set_xticks([0,1,2,3,4,5,6,7,8,9])\n",
    "ax2.set_xticks([0,1,2,3,4,5,6,7,8,9])\n",
    "ax3.set_xticks([0,1,2,3,4,5,6,7,8,9])\n",
    "ax1.set_yticks([0,1,2,3,4,5,6,7,8,9])\n",
    "ax2.set_yticks([0,1,2,3,4,5,6,7,8,9])\n",
    "ax3.set_yticks([0,1,2,3,4,5,6,7,8,9])\n",
    "fig.colorbar(p1,ax=ax1)\n",
    "fig.colorbar(p2,ax=ax2)\n",
    "fig.colorbar(p3,ax=ax3)"
   ]
  },
  {
   "cell_type": "code",
   "execution_count": 195,
   "metadata": {},
   "outputs": [
    {
     "data": {
      "text/plain": [
       "<matplotlib.colorbar.Colorbar at 0x22193d793a0>"
      ]
     },
     "execution_count": 195,
     "metadata": {},
     "output_type": "execute_result"
    },
    {
     "data": {
      "image/png": "[encoded data removed]",
      "text/plain": [
       "<Figure size 640x480 with 2 Axes>"
      ]
     },
     "metadata": {},
     "output_type": "display_data"
    }
   ],
   "source": [
    "def strat_sample(train_dataset, samples_per_cat):\n",
    "\n",
    "    train_stratified_sample=[[],[],[],[],[],[],[],[],[],[]]\n",
    "    unidentified_label=[0,1,2,3,4,5,6,7,8,9]\n",
    "    cat_counts=[0,0,0,0,0,0,0,0,0,0]\n",
    "\n",
    "    counter=0\n",
    "    while len(unidentified_label)>0:\n",
    "        label=train_dataset[counter][1]\n",
    "        if label in unidentified_label:\n",
    "            train_stratified_sample[label].append(counter)\n",
    "            cat_counts[label]+=1\n",
    "            if cat_counts[label]==samples_per_cat:\n",
    "                unidentified_label.remove(label)\n",
    "        counter+=1\n",
    "    return train_stratified_sample\n",
    "\n",
    "average_ouputs=[]\n",
    "\n",
    "for list_indicies in strat_sample(train_dataset,500):\n",
    "    loader=DataLoader(dataset=Subset(train_dataset,list_indicies),batch_size=len(list_indicies))\n",
    "    for images,labels in loader:\n",
    "        images=images.reshape(-1,28*28)\n",
    "        output=model(images)\n",
    "    average_ten=torch.zeros(10)\n",
    "    for ten in output:\n",
    "        average_ten+=ten/500\n",
    "    average_ouputs.append(average_ten.detach().numpy())\n",
    "\n",
    "fig, (ax1) = plt.subplots(1,1)\n",
    "p1 = ax1.imshow(stiff_matrices[0])\n",
    "fig.colorbar(p1,ax=ax1)"
   ]
  }
 ],
 "metadata": {
  "kernelspec": {
   "display_name": "Python 3",
   "language": "python",
   "name": "python3"
  },
  "language_info": {
   "codemirror_mode": {
    "name": "ipython",
    "version": 3
   },
   "file_extension": ".py",
   "mimetype": "text/x-python",
   "name": "python",
   "nbconvert_exporter": "python",
   "pygments_lexer": "ipython3",
   "version": "3.9.5"
  },
  "orig_nbformat": 4
 },
 "nbformat": 4,
 "nbformat_minor": 2
}
