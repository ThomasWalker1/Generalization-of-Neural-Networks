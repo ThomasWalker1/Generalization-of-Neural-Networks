{
 "cells": [
  {
   "cell_type": "code",
   "execution_count": 216,
   "metadata": {},
   "outputs": [],
   "source": [
    "import torch\n",
    "import torch.nn as nn\n",
    "from torch.optim import SGD\n",
    "import torchvision\n",
    "import torchvision.transforms as transforms\n",
    "from torch.utils.data import DataLoader, Subset\n",
    "\n",
    "import numpy as np\n",
    "from numpy.linalg import norm\n",
    "import matplotlib.pyplot as plt"
   ]
  },
  {
   "cell_type": "code",
   "execution_count": 217,
   "metadata": {},
   "outputs": [],
   "source": [
    "class NeuralNet(nn.Module):\n",
    "    def __init__(self, input_size, hidden_sizes, output_size):\n",
    "        super(NeuralNet, self).__init__()\n",
    "        self.hidden = nn.ModuleList()\n",
    "        self.input_layer = nn.Linear(input_size, hidden_sizes[0],bias=False)\n",
    "        for k in range(len(hidden_sizes)-1):\n",
    "            self.hidden.append(nn.Linear(hidden_sizes[k], hidden_sizes[k+1],bias=False))\n",
    "        self.output_layer = nn.Linear(hidden_sizes[-1], output_size,bias=False)\n",
    "        \n",
    "    \n",
    "    def forward(self, x):\n",
    "        x=self.input_layer(x)\n",
    "        x=x.relu()\n",
    "        for layer in self.hidden:\n",
    "            x=layer(x)\n",
    "            x=x.relu()\n",
    "        x=self.output_layer(x)\n",
    "        return x\n",
    "\n",
    "def ReLU_glorot_init(model):\n",
    "    for name, param in model.named_parameters():\n",
    "        if name.endswith(\".bias\"):\n",
    "            param.data.fill_(0)\n",
    "        else:\n",
    "            nn.init.xavier_normal_(param)"
   ]
  },
  {
   "cell_type": "code",
   "execution_count": 218,
   "metadata": {},
   "outputs": [],
   "source": [
    "INPUT_SIZE=784\n",
    "HIDDEN_SIZES=[600,600]\n",
    "OUTPUT_SIZE=10\n",
    "BATCH_SIZE=256\n",
    "LEARNING_RATE=0.01\n",
    "MOMENTUM=0.5\n",
    "NUM_EPOCHS=200"
   ]
  },
  {
   "cell_type": "code",
   "execution_count": 219,
   "metadata": {},
   "outputs": [],
   "source": [
    "train_dataset = torchvision.datasets.MNIST(root='data', train=True, transform=transforms.ToTensor(), download=True)\n",
    "\n",
    "test_dataset = torchvision.datasets.MNIST(root='data', train=False, transform=transforms.ToTensor())\n",
    "\n",
    "test_dataset_loader = DataLoader(train_dataset, batch_size=1, shuffle=False) "
   ]
  },
  {
   "cell_type": "code",
   "execution_count": 220,
   "metadata": {},
   "outputs": [],
   "source": [
    "def network_parameters(model):\n",
    "    network_weights=[]\n",
    "    for para in model.named_parameters():\n",
    "        if 'weight' in para[0]:\n",
    "            for l in para[1].detach().tolist():\n",
    "                network_weights+=l\n",
    "        else:\n",
    "            network_weights+=para[1].detach().tolist()\n",
    "    return network_weights"
   ]
  },
  {
   "cell_type": "code",
   "execution_count": 221,
   "metadata": {},
   "outputs": [],
   "source": [
    "def normalized_CrossEntropyLoss(predictions,target):\n",
    "    return nn.CrossEntropyLoss()(predictions,target)/np.log(10)"
   ]
  },
  {
   "cell_type": "code",
   "execution_count": 222,
   "metadata": {},
   "outputs": [],
   "source": [
    "orig_model=NeuralNet(INPUT_SIZE, HIDDEN_SIZES, OUTPUT_SIZE)\n",
    "ReLU_glorot_init(orig_model)\n",
    "\n",
    "optimizer = SGD(orig_model.parameters(), lr=LEARNING_RATE, momentum=MOMENTUM)"
   ]
  },
  {
   "cell_type": "code",
   "execution_count": 223,
   "metadata": {},
   "outputs": [],
   "source": [
    "def train_epoch(model,opt,loader):\n",
    "    for images, labels in loader:  \n",
    "        images = images.reshape(-1, 28*28)\n",
    "        \n",
    "        outputs = model(images)\n",
    "        loss = normalized_CrossEntropyLoss(outputs, labels)\n",
    "        \n",
    "        opt.zero_grad()\n",
    "        loss.backward()\n",
    "        opt.step()\n",
    "    return loss.item()\n",
    "\n",
    "def SGD_Alg(model,opt,S,b,t,stopping_criteria,stop_at_zero=False):\n",
    "    ind=list(np.arange(len(S)))\n",
    "    for i in range(t):\n",
    "        N=len(ind)\n",
    "        if N>=b:\n",
    "            sample_ind=np.random.choice(ind,b,replace=False)\n",
    "            subset=Subset(S,sample_ind)\n",
    "            subset_loader=DataLoader(subset,batch_size=b)\n",
    "            loss=train_epoch(model,opt,subset_loader)\n",
    "            for entry in sample_ind:\n",
    "                ind.remove(entry)\n",
    "        elif N>0:\n",
    "            subset=Subset(S,ind)\n",
    "            subset_loader=DataLoader(subset,batch_size=b)\n",
    "            loss=train_epoch(model,opt,subset_loader)\n",
    "            ind=[]\n",
    "        else:\n",
    "            if stop_at_zero:\n",
    "                break\n",
    "            else:\n",
    "                ind=list(np.arange(len(S)))\n",
    "        if loss<stopping_criteria:\n",
    "            break"
   ]
  },
  {
   "cell_type": "code",
   "execution_count": 224,
   "metadata": {},
   "outputs": [],
   "source": [
    "import copy\n",
    "\n",
    "def get_weights(model,stopping_criteria,alpha,Dataset,T=10000):\n",
    "\n",
    "    N=len(Dataset)\n",
    "    Subset_ind=list(range(int(N*alpha)))\n",
    "\n",
    "    Subset_Dataset=Subset(Dataset,Subset_ind)\n",
    "\n",
    "    model_prefix=copy.deepcopy(model)\n",
    "    model_base=copy.deepcopy(model)\n",
    "\n",
    "    opt_prefix = SGD(model_prefix.parameters(), lr=LEARNING_RATE,momentum=MOMENTUM)\n",
    "\n",
    "    opt_base = SGD(model_base.parameters(), lr=LEARNING_RATE,momentum=MOMENTUM)\n",
    "\n",
    "    SGD_Alg(model_prefix,opt_prefix,Subset_Dataset,256,T,stopping_criteria,stop_at_zero=True)\n",
    "    SGD_Alg(model_base,opt_base,Dataset,256,T,stopping_criteria)\n",
    "\n",
    "    w_base=network_parameters(model_base)\n",
    "    w_prefix=network_parameters(model_prefix)\n",
    "\n",
    "    return w_base,w_prefix,model_base\n",
    "\n",
    "def get_bound(w_S,w_alpha,base_model,N,sigma_P,beta=0.5,delta=0.05):\n",
    "    with torch.no_grad():\n",
    "        loss=0\n",
    "        n=0\n",
    "        for images, labels in test_dataset_loader:\n",
    "            n+=1\n",
    "            images = images.reshape(-1, 28*28)\n",
    "            outputs = base_model(images)\n",
    "            loss+=normalized_CrossEntropyLoss(outputs,labels)\n",
    "        empirical_risk=loss/n\n",
    "\n",
    "    KL=np.linalg.norm(np.array(w_S)-np.array(w_alpha))/sigma_P\n",
    "    return empirical_risk/beta+(KL+np.log(1/delta))/(2*beta*(1-beta)*N)\n"
   ]
  },
  {
   "cell_type": "code",
   "execution_count": 225,
   "metadata": {},
   "outputs": [
    {
     "ename": "KeyboardInterrupt",
     "evalue": "",
     "output_type": "error",
     "traceback": [
      "\u001b[1;31m---------------------------------------------------------------------------\u001b[0m",
      "\u001b[1;31mKeyboardInterrupt\u001b[0m                         Traceback (most recent call last)",
      "\u001b[1;32mc:\\Users\\thoma\\Dropbox\\ICL\\UROP 23\\GitHubRepo\\Generalization-of-Neural-Networks\\Generalization in Deep Learning\\PAC Bounds via SGD\\pac_bounds_via_sgd.ipynb Cell 10\u001b[0m in \u001b[0;36m1\n\u001b[1;32m----> <a href='vscode-notebook-cell:/c%3A/Users/thoma/Dropbox/ICL/UROP%2023/GitHubRepo/Generalization-of-Neural-Networks/Generalization%20in%20Deep%20Learning/PAC%20Bounds%20via%20SGD/pac_bounds_via_sgd.ipynb#X14sZmlsZQ%3D%3D?line=0'>1</a>\u001b[0m w_S,w_alpha,model_base\u001b[39m=\u001b[39mget_weights(orig_model,\u001b[39m0.03\u001b[39;49m,\u001b[39m0.2\u001b[39;49m,train_dataset)\n",
      "\u001b[1;32mc:\\Users\\thoma\\Dropbox\\ICL\\UROP 23\\GitHubRepo\\Generalization-of-Neural-Networks\\Generalization in Deep Learning\\PAC Bounds via SGD\\pac_bounds_via_sgd.ipynb Cell 10\u001b[0m in \u001b[0;36m1\n\u001b[0;32m     <a href='vscode-notebook-cell:/c%3A/Users/thoma/Dropbox/ICL/UROP%2023/GitHubRepo/Generalization-of-Neural-Networks/Generalization%20in%20Deep%20Learning/PAC%20Bounds%20via%20SGD/pac_bounds_via_sgd.ipynb#X14sZmlsZQ%3D%3D?line=14'>15</a>\u001b[0m opt_base \u001b[39m=\u001b[39m SGD(model_base\u001b[39m.\u001b[39mparameters(), lr\u001b[39m=\u001b[39mLEARNING_RATE,momentum\u001b[39m=\u001b[39mMOMENTUM)\n\u001b[0;32m     <a href='vscode-notebook-cell:/c%3A/Users/thoma/Dropbox/ICL/UROP%2023/GitHubRepo/Generalization-of-Neural-Networks/Generalization%20in%20Deep%20Learning/PAC%20Bounds%20via%20SGD/pac_bounds_via_sgd.ipynb#X14sZmlsZQ%3D%3D?line=16'>17</a>\u001b[0m SGD_Alg(model_prefix,opt_prefix,Subset_Dataset,\u001b[39m256\u001b[39m,T,stopping_criteria,stop_at_zero\u001b[39m=\u001b[39m\u001b[39mTrue\u001b[39;00m)\n\u001b[1;32m---> <a href='vscode-notebook-cell:/c%3A/Users/thoma/Dropbox/ICL/UROP%2023/GitHubRepo/Generalization-of-Neural-Networks/Generalization%20in%20Deep%20Learning/PAC%20Bounds%20via%20SGD/pac_bounds_via_sgd.ipynb#X14sZmlsZQ%3D%3D?line=17'>18</a>\u001b[0m SGD_Alg(model_base,opt_base,Dataset,\u001b[39m256\u001b[39;49m,T,stopping_criteria)\n\u001b[0;32m     <a href='vscode-notebook-cell:/c%3A/Users/thoma/Dropbox/ICL/UROP%2023/GitHubRepo/Generalization-of-Neural-Networks/Generalization%20in%20Deep%20Learning/PAC%20Bounds%20via%20SGD/pac_bounds_via_sgd.ipynb#X14sZmlsZQ%3D%3D?line=19'>20</a>\u001b[0m w_base\u001b[39m=\u001b[39mnetwork_parameters(model_base)\n\u001b[0;32m     <a href='vscode-notebook-cell:/c%3A/Users/thoma/Dropbox/ICL/UROP%2023/GitHubRepo/Generalization-of-Neural-Networks/Generalization%20in%20Deep%20Learning/PAC%20Bounds%20via%20SGD/pac_bounds_via_sgd.ipynb#X14sZmlsZQ%3D%3D?line=20'>21</a>\u001b[0m w_prefix\u001b[39m=\u001b[39mnetwork_parameters(model_prefix)\n",
      "\u001b[1;32mc:\\Users\\thoma\\Dropbox\\ICL\\UROP 23\\GitHubRepo\\Generalization-of-Neural-Networks\\Generalization in Deep Learning\\PAC Bounds via SGD\\pac_bounds_via_sgd.ipynb Cell 10\u001b[0m in \u001b[0;36m2\n\u001b[0;32m     <a href='vscode-notebook-cell:/c%3A/Users/thoma/Dropbox/ICL/UROP%2023/GitHubRepo/Generalization-of-Neural-Networks/Generalization%20in%20Deep%20Learning/PAC%20Bounds%20via%20SGD/pac_bounds_via_sgd.ipynb#X14sZmlsZQ%3D%3D?line=20'>21</a>\u001b[0m     loss\u001b[39m=\u001b[39mtrain_epoch(model,opt,subset_loader)\n\u001b[0;32m     <a href='vscode-notebook-cell:/c%3A/Users/thoma/Dropbox/ICL/UROP%2023/GitHubRepo/Generalization-of-Neural-Networks/Generalization%20in%20Deep%20Learning/PAC%20Bounds%20via%20SGD/pac_bounds_via_sgd.ipynb#X14sZmlsZQ%3D%3D?line=21'>22</a>\u001b[0m     \u001b[39mfor\u001b[39;00m entry \u001b[39min\u001b[39;00m sample_ind:\n\u001b[1;32m---> <a href='vscode-notebook-cell:/c%3A/Users/thoma/Dropbox/ICL/UROP%2023/GitHubRepo/Generalization-of-Neural-Networks/Generalization%20in%20Deep%20Learning/PAC%20Bounds%20via%20SGD/pac_bounds_via_sgd.ipynb#X14sZmlsZQ%3D%3D?line=22'>23</a>\u001b[0m         ind\u001b[39m.\u001b[39mremove(entry)\n\u001b[0;32m     <a href='vscode-notebook-cell:/c%3A/Users/thoma/Dropbox/ICL/UROP%2023/GitHubRepo/Generalization-of-Neural-Networks/Generalization%20in%20Deep%20Learning/PAC%20Bounds%20via%20SGD/pac_bounds_via_sgd.ipynb#X14sZmlsZQ%3D%3D?line=23'>24</a>\u001b[0m \u001b[39melif\u001b[39;00m N\u001b[39m>\u001b[39m\u001b[39m0\u001b[39m:\n\u001b[0;32m     <a href='vscode-notebook-cell:/c%3A/Users/thoma/Dropbox/ICL/UROP%2023/GitHubRepo/Generalization-of-Neural-Networks/Generalization%20in%20Deep%20Learning/PAC%20Bounds%20via%20SGD/pac_bounds_via_sgd.ipynb#X14sZmlsZQ%3D%3D?line=24'>25</a>\u001b[0m     subset\u001b[39m=\u001b[39mSubset(S,ind)\n",
      "\u001b[1;31mKeyboardInterrupt\u001b[0m: "
     ]
    }
   ],
   "source": [
    "w_S,w_alpha,model_base=get_weights(orig_model,0.03,0.2,train_dataset)"
   ]
  },
  {
   "cell_type": "code",
   "execution_count": null,
   "metadata": {},
   "outputs": [],
   "source": [
    "bound=get_bound(w_S,w_alpha,model_base,len(train_dataset),1e-5)"
   ]
  },
  {
   "cell_type": "code",
   "execution_count": null,
   "metadata": {},
   "outputs": [],
   "source": [
    "def test_model(model):\n",
    "    with torch.no_grad():\n",
    "        correct = 0\n",
    "        total = 0\n",
    "        for images, labels in test_dataset_loader:\n",
    "            images = images.reshape(-1, 28*28)\n",
    "            outputs = model(images)\n",
    "            _, predicted = torch.max(outputs.data, 1)\n",
    "            total += labels.size(0)\n",
    "            correct += (predicted == labels).sum().item()\n",
    "    return 100 * correct / total"
   ]
  }
 ],
 "metadata": {
  "kernelspec": {
   "display_name": "Python 3",
   "language": "python",
   "name": "python3"
  },
  "language_info": {
   "codemirror_mode": {
    "name": "ipython",
    "version": 3
   },
   "file_extension": ".py",
   "mimetype": "text/x-python",
   "name": "python",
   "nbconvert_exporter": "python",
   "pygments_lexer": "ipython3",
   "version": "3.9.5"
  },
  "orig_nbformat": 4
 },
 "nbformat": 4,
 "nbformat_minor": 2
}
