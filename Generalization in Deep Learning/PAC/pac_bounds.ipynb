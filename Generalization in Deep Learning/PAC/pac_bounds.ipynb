{
 "cells": [
  {
   "cell_type": "code",
   "execution_count": 123,
   "metadata": {},
   "outputs": [],
   "source": [
    "# Import PyTorch\n",
    "\n",
    "import torch\n",
    "import torch.nn as nn\n",
    "import torchvision\n",
    "import torchvision.transforms as transforms\n",
    "from torch.utils.data import DataLoader\n",
    "\n",
    "# Import other packages\n",
    "\n",
    "import matplotlib.pyplot as plt\n",
    "import numpy as np\n",
    "from scipy.stats import truncnorm"
   ]
  },
  {
   "cell_type": "code",
   "execution_count": 124,
   "metadata": {},
   "outputs": [],
   "source": [
    "# Define the hyper-parameters of the model\n",
    "\n",
    "input_size = 784\n",
    "hidden_size = 600\n",
    "num_classes = 1\n",
    "num_epochs = 20\n",
    "batch_size = 100\n",
    "learning_rate = 0.01\n",
    "momentum = 0.9"
   ]
  },
  {
   "cell_type": "code",
   "execution_count": 125,
   "metadata": {},
   "outputs": [],
   "source": [
    "# Import the MNIST dataset as two separate datasets\n",
    "\n",
    "train_dataset = torchvision.datasets.MNIST(root='data', \n",
    "                                           train=True, \n",
    "                                           transform=transforms.ToTensor(),\n",
    "                                           target_transform=lambda y: -1 if y<=4 else 1,  \n",
    "                                           download=True)\n",
    "\n",
    "test_dataset = torchvision.datasets.MNIST(root='data', \n",
    "                                          train=False,\n",
    "                                          target_transform=lambda y: -1 if y<=4 else 1,\n",
    "                                          transform=transforms.ToTensor())\n",
    "\n",
    "# Create the data loader for training\n",
    "train_dataset_loader = DataLoader(dataset=train_dataset, \n",
    "                                           batch_size=batch_size, \n",
    "                                           shuffle=True)\n",
    "\n",
    "# Create the data loader for validating\n",
    "\n",
    "test_dataset_loader = DataLoader(dataset=test_dataset, \n",
    "                                          batch_size=1, \n",
    "                                          shuffle=False) "
   ]
  },
  {
   "cell_type": "code",
   "execution_count": 126,
   "metadata": {},
   "outputs": [],
   "source": [
    "# Defining a FC neural network\n",
    "\n",
    "class NeuralNet(nn.Module):\n",
    "    def __init__(self, input_size, hidden_size, num_classes):\n",
    "        super(NeuralNet, self).__init__()\n",
    "        self.fc1 = nn.Linear(input_size, hidden_size) \n",
    "        #self.fc2 = nn.Linear(hidden_size, hidden_size) \n",
    "        self.fc3 = nn.Linear(hidden_size, num_classes)  \n",
    "    \n",
    "    def forward(self, x):\n",
    "        x = self.fc1(x)\n",
    "        x = x.relu()\n",
    "        #x = self.fc2(x)\n",
    "        #x = x.relu()\n",
    "        x = self.fc3(x)\n",
    "        return x\n",
    "\n",
    "model = NeuralNet(input_size, hidden_size, num_classes)\n",
    "\n",
    "def parameter_init(model,sigma):\n",
    "    for name, param in model.named_parameters():\n",
    "        if name.endswith(\".bias\"):\n",
    "            if 'fc1' in name:\n",
    "                param.data.fill_(0.1)\n",
    "            else:\n",
    "                param.data.fill_(0)\n",
    "        else:\n",
    "            param.data.normal_(0,sigma)\n",
    "    \n",
    "parameter_init(model,0.04)"
   ]
  },
  {
   "cell_type": "code",
   "execution_count": 127,
   "metadata": {},
   "outputs": [
    {
     "name": "stdout",
     "output_type": "stream",
     "text": [
      "Epoch 1, Loss: 0.438\n",
      "Epoch 2, Loss: 0.341\n",
      "Epoch 3, Loss: 0.307\n",
      "Epoch 4, Loss: 0.312\n",
      "Epoch 5, Loss: 0.213\n",
      "Epoch 6, Loss: 0.195\n",
      "Epoch 7, Loss: 0.123\n",
      "Epoch 8, Loss: 0.139\n",
      "Epoch 9, Loss: 0.269\n",
      "Epoch 10, Loss: 0.188\n",
      "Epoch 11, Loss: 0.113\n",
      "Epoch 12, Loss: 0.132\n",
      "Epoch 13, Loss: 0.086\n",
      "Epoch 14, Loss: 0.145\n",
      "Epoch 15, Loss: 0.138\n",
      "Epoch 16, Loss: 0.073\n",
      "Epoch 17, Loss: 0.105\n",
      "Epoch 18, Loss: 0.061\n",
      "Epoch 19, Loss: 0.078\n",
      "Epoch 20, Loss: 0.164\n"
     ]
    }
   ],
   "source": [
    "criterion = nn.SoftMarginLoss()\n",
    "optimizer = torch.optim.SGD(model.parameters(), lr=learning_rate) \n",
    "\n",
    "# Training Epoch\n",
    "\n",
    "def train_epoch():\n",
    "    for i, (images, labels) in enumerate(train_dataset_loader):  \n",
    "        # Move tensors to the configured device\n",
    "        images = images.reshape(-1, 28*28)\n",
    "        labels = labels\n",
    "        \n",
    "        # Forward pass\n",
    "        outputs = model(images)\n",
    "        loss = criterion(torch.reshape(outputs,(len(outputs),)), labels)\n",
    "        \n",
    "        # Backprpagation and optimization\n",
    "        optimizer.zero_grad()\n",
    "        loss.backward()\n",
    "        optimizer.step()\n",
    "        \n",
    "\n",
    "    return loss.item()\n",
    "\n",
    "for epoch in range(num_epochs):\n",
    "    loss=train_epoch()\n",
    "    print ('Epoch {}, Loss: {:.3f}'.format(epoch+1,loss))"
   ]
  },
  {
   "cell_type": "code",
   "execution_count": 128,
   "metadata": {},
   "outputs": [
    {
     "name": "stdout",
     "output_type": "stream",
     "text": [
      "tensor(0.0619)\n"
     ]
    }
   ],
   "source": [
    "error=0\n",
    "with torch.no_grad():\n",
    "    for image, label in train_dataset_loader:\n",
    "        image = image.reshape(-1, 28*28)\n",
    "        outputs = torch.reshape(torch.sign(model(image)),(len(label),))\n",
    "        error+=torch.sum(torch.abs(outputs-label))/len(train_dataset)\n",
    "print(error)"
   ]
  },
  {
   "cell_type": "code",
   "execution_count": 129,
   "metadata": {},
   "outputs": [
    {
     "name": "stdout",
     "output_type": "stream",
     "text": [
      "tensor(0.0119)\n"
     ]
    }
   ],
   "source": [
    "error=0\n",
    "with torch.no_grad():\n",
    "    for image, label in test_dataset_loader:\n",
    "        image = image.reshape(-1, 28*28)\n",
    "        outputs = torch.reshape(torch.sign(model(image)),(len(label),))\n",
    "        error+=torch.sum(torch.abs(outputs-label))/len(train_dataset)\n",
    "print(error)"
   ]
  },
  {
   "cell_type": "code",
   "execution_count": 130,
   "metadata": {},
   "outputs": [
    {
     "name": "stdout",
     "output_type": "stream",
     "text": [
      "471601\n"
     ]
    }
   ],
   "source": [
    "no_parameters=0\n",
    "for param in model.named_parameters():\n",
    "    if 'weight' in param[0]:\n",
    "        no_parameters+=param[1].size()[0]*param[1].size()[1]\n",
    "    else:\n",
    "        no_parameters+=len(param[1])\n",
    "print(no_parameters)"
   ]
  }
 ],
 "metadata": {
  "kernelspec": {
   "display_name": "Python 3",
   "language": "python",
   "name": "python3"
  },
  "language_info": {
   "codemirror_mode": {
    "name": "ipython",
    "version": 3
   },
   "file_extension": ".py",
   "mimetype": "text/x-python",
   "name": "python",
   "nbconvert_exporter": "python",
   "pygments_lexer": "ipython3",
   "version": "3.9.5"
  },
  "orig_nbformat": 4
 },
 "nbformat": 4,
 "nbformat_minor": 2
}
