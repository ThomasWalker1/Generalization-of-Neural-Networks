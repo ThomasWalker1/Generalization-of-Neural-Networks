{
 "cells": [
  {
   "cell_type": "markdown",
   "metadata": {},
   "source": [
    "Here we investigate how we can optimize the weights of a trained neural network to achieve non-vacuous PAC-Bayes bounds on the error rate. For simplicity we will consider a two-layer fully connected ReLU network trained on a binary-classification problem. We use PyTorch for the training of the network."
   ]
  },
  {
   "cell_type": "code",
   "execution_count": 133,
   "metadata": {},
   "outputs": [],
   "source": [
    "# Import PyTorch\n",
    "\n",
    "import torch\n",
    "import torch.nn as nn\n",
    "import torchvision\n",
    "import torchvision.transforms as transforms\n",
    "from torch.utils.data import DataLoader\n",
    "\n",
    "# Import other packages\n",
    "\n",
    "import matplotlib.pyplot as plt\n",
    "import numpy as np\n",
    "from scipy.stats import truncnorm"
   ]
  },
  {
   "cell_type": "markdown",
   "metadata": {},
   "source": [
    "The network we will consider will have $600$ hidden units an will be trained using stochastic gradient descent."
   ]
  },
  {
   "cell_type": "code",
   "execution_count": 134,
   "metadata": {},
   "outputs": [],
   "source": [
    "# Define the hyper-parameters of the model\n",
    "\n",
    "input_size = 784\n",
    "hidden_size = 600\n",
    "num_classes = 1\n",
    "num_epochs = 20\n",
    "batch_size = 100\n",
    "learning_rate = 0.01\n",
    "momentum = 0.9"
   ]
  },
  {
   "cell_type": "markdown",
   "metadata": {},
   "source": [
    "We will use MNIST with transformed labels to train the network. Images classified as $\\{0,1,2,3,4\\}$ will be given the label $1$, and images classified as $\\{5,6,7,8,9\\}$ will be given the label $-1$. The training dataset contains $60000$ examples, and the test dataset contains $10000$ examples."
   ]
  },
  {
   "cell_type": "code",
   "execution_count": 135,
   "metadata": {},
   "outputs": [],
   "source": [
    "# Import the MNIST dataset as two separate datasets\n",
    "\n",
    "train_dataset = torchvision.datasets.MNIST(root='data', \n",
    "                                           train=True, \n",
    "                                           transform=transforms.ToTensor(),\n",
    "                                           target_transform=lambda y: -1 if y<=4 else 1,  \n",
    "                                           download=True)\n",
    "\n",
    "test_dataset = torchvision.datasets.MNIST(root='data', \n",
    "                                          train=False,\n",
    "                                          target_transform=lambda y: -1 if y<=4 else 1,\n",
    "                                          transform=transforms.ToTensor())\n",
    "\n",
    "# Create the data loader for training\n",
    "train_dataset_loader = DataLoader(dataset=train_dataset, \n",
    "                                           batch_size=batch_size, \n",
    "                                           shuffle=True)\n",
    "\n",
    "# Create the data loader for validating\n",
    "\n",
    "test_dataset_loader = DataLoader(dataset=test_dataset, \n",
    "                                          batch_size=1, \n",
    "                                          shuffle=False) "
   ]
  },
  {
   "cell_type": "code",
   "execution_count": 136,
   "metadata": {},
   "outputs": [],
   "source": [
    "# Defining a FC neural network\n",
    "\n",
    "class NeuralNet(nn.Module):\n",
    "    def __init__(self, input_size, hidden_size, num_classes):\n",
    "        super(NeuralNet, self).__init__()\n",
    "        self.fc1 = nn.Linear(input_size, hidden_size) \n",
    "        self.fc3 = nn.Linear(hidden_size, num_classes)  \n",
    "    \n",
    "    def forward(self, x):\n",
    "        x = self.fc1(x)\n",
    "        x = x.relu()\n",
    "        x = self.fc3(x)\n",
    "        return x\n",
    "\n",
    "def ReLU_glorot_init(model):\n",
    "    for name, param in model.named_parameters():\n",
    "        \n",
    "        if name.endswith(\".bias\"):\n",
    "            param.data.fill_(0)\n",
    "        else:\n",
    "            nn.init.xavier_normal_(param)\n",
    "\n",
    "model = NeuralNet(input_size, hidden_size, num_classes)\n",
    "ReLU_glorot_init(model)"
   ]
  },
  {
   "cell_type": "markdown",
   "metadata": {},
   "source": [
    "We will employ the Soft Margin Loss to dictate the learning procedure. For the prediction $\\hat{y}$ and true labels $y$ of a batch $X$, the Soft Margin Loss returns\n",
    "$$\\frac{1}{\\vert X\\vert}\\sum_{i}\\log(1+\\exp(\\hat{y}[i]y[i])).$$"
   ]
  },
  {
   "cell_type": "code",
   "execution_count": 137,
   "metadata": {},
   "outputs": [
    {
     "name": "stdout",
     "output_type": "stream",
     "text": [
      "Epoch 1, Loss: 0.398\n",
      "Epoch 2, Loss: 0.289\n",
      "Epoch 3, Loss: 0.315\n",
      "Epoch 4, Loss: 0.190\n",
      "Epoch 5, Loss: 0.245\n",
      "Epoch 6, Loss: 0.152\n",
      "Epoch 7, Loss: 0.175\n",
      "Epoch 8, Loss: 0.150\n",
      "Epoch 9, Loss: 0.173\n",
      "Epoch 10, Loss: 0.187\n",
      "Epoch 11, Loss: 0.067\n",
      "Epoch 12, Loss: 0.164\n",
      "Epoch 13, Loss: 0.122\n",
      "Epoch 14, Loss: 0.073\n",
      "Epoch 15, Loss: 0.165\n",
      "Epoch 16, Loss: 0.107\n",
      "Epoch 17, Loss: 0.134\n",
      "Epoch 18, Loss: 0.110\n",
      "Epoch 19, Loss: 0.111\n",
      "Epoch 20, Loss: 0.053\n"
     ]
    }
   ],
   "source": [
    "criterion = nn.SoftMarginLoss()\n",
    "optimizer = torch.optim.SGD(model.parameters(), lr=learning_rate) \n",
    "\n",
    "# Training Epoch\n",
    "\n",
    "def train_epoch():\n",
    "    for i, (images, labels) in enumerate(train_dataset_loader):  \n",
    "        # Move tensors to the configured device\n",
    "        images = images.reshape(-1, 28*28)\n",
    "        labels = labels\n",
    "        \n",
    "        # Forward pass\n",
    "        outputs = model(images)\n",
    "        loss = criterion(torch.reshape(outputs,(len(outputs),)), labels)\n",
    "        \n",
    "        # Backprpagation and optimization\n",
    "        optimizer.zero_grad()\n",
    "        loss.backward()\n",
    "        optimizer.step()\n",
    "        \n",
    "\n",
    "    return loss.item()\n",
    "\n",
    "for epoch in range(num_epochs):\n",
    "    loss=train_epoch()\n",
    "    print ('Epoch {}, Loss: {:.3f}'.format(epoch+1,loss))"
   ]
  },
  {
   "cell_type": "code",
   "execution_count": 138,
   "metadata": {},
   "outputs": [
    {
     "name": "stdout",
     "output_type": "stream",
     "text": [
      "Number of Parameters: 471601, Train Error: 0.060, Test Error: 0.011\n"
     ]
    }
   ],
   "source": [
    "train_error=0\n",
    "with torch.no_grad():\n",
    "    for image, label in train_dataset_loader:\n",
    "        image = image.reshape(-1, 28*28)\n",
    "        outputs = torch.reshape(torch.sign(model(image)),(len(label),))\n",
    "        train_error+=torch.sum(torch.abs(outputs-label))/len(train_dataset)\n",
    "\n",
    "test_error=0\n",
    "with torch.no_grad():\n",
    "    for image, label in test_dataset_loader:\n",
    "        image = image.reshape(-1, 28*28)\n",
    "        outputs = torch.reshape(torch.sign(model(image)),(len(label),))\n",
    "        test_error+=torch.sum(torch.abs(outputs-label))/len(train_dataset)\n",
    "\n",
    "no_parameters=0\n",
    "for param in model.named_parameters():\n",
    "    if 'weight' in param[0]:\n",
    "        no_parameters+=param[1].size()[0]*param[1].size()[1]\n",
    "    else:\n",
    "        no_parameters+=len(param[1])\n",
    "\n",
    "print('Number of Parameters: {}, Train Error: {:.3f}, Test Error: {:.3f}'.format(no_parameters,train_error,test_error))"
   ]
  },
  {
   "cell_type": "code",
   "execution_count": null,
   "metadata": {},
   "outputs": [],
   "source": [
    "def newt_inv_KL(q,c):\n",
    "    p_0=q+np.sqrt(c/2)\n",
    "    for n in range(5):\n",
    "        if p_0>1:\n",
    "            return 1\n",
    "        p_0=p_0-(q*np.log(q/c)+(1-q)*np.log((1-q)/(1-c))-c)/((1-q)/(1-p_0)-q/p_0)\n",
    "    return p_0"
   ]
  },
  {
   "cell_type": "markdown",
   "metadata": {},
   "source": [
    "Now that we have trained the network, we optimize the error bound of a stochastic neural network. The weights of which are random perturbations of the ones learned. "
   ]
  }
 ],
 "metadata": {
  "kernelspec": {
   "display_name": "Python 3 (ipykernel)",
   "language": "python",
   "name": "python3"
  },
  "language_info": {
   "codemirror_mode": {
    "name": "ipython",
    "version": 3
   },
   "file_extension": ".py",
   "mimetype": "text/x-python",
   "name": "python",
   "nbconvert_exporter": "python",
   "pygments_lexer": "ipython3",
   "version": "3.9.5"
  }
 },
 "nbformat": 4,
 "nbformat_minor": 2
}
