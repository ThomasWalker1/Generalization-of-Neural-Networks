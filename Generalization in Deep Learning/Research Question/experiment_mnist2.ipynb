{
 "cells": [
  {
   "cell_type": "code",
   "execution_count": 458,
   "metadata": {},
   "outputs": [],
   "source": [
    "import torch\n",
    "import torch.nn as nn\n",
    "import torchvision\n",
    "import torchvision.transforms as transforms\n",
    "from torch.utils.data import DataLoader, Subset\n",
    "from torch.optim import SGD\n",
    "\n",
    "import numpy as np\n",
    "import matplotlib.pyplot as plt\n",
    "from sklearn.model_selection import train_test_split\n",
    "from scipy.stats import beta"
   ]
  },
  {
   "cell_type": "code",
   "execution_count": 459,
   "metadata": {},
   "outputs": [],
   "source": [
    "INPUT_SIZE = 784\n",
    "NUM_LAYERS = 2\n",
    "NUM_HIDDEN_UNITS = 64\n",
    "OUTPUT_SIZE = 10\n",
    "\n",
    "NUM_EPOCHS = 10\n",
    "BATCH_SIZE = 250\n",
    "LEARNING_RATE = 0.1\n",
    "MOMENTUM = 0.9\n",
    "\n",
    "NUM_UNDERLYING_DISTRIBUTION = 30000"
   ]
  },
  {
   "cell_type": "code",
   "execution_count": 460,
   "metadata": {},
   "outputs": [],
   "source": [
    "DATASET = torchvision.datasets.MNIST(root='../data', train=True, transform=transforms.ToTensor(), download=True)\n",
    "\n",
    "INDEX_UNDERLYING=list(range(NUM_UNDERLYING_DISTRIBUTION))\n",
    "SUBSET_UNDERLYING=Subset(DATASET, INDEX_UNDERLYING)\n",
    "LOADER_UNDERLYING=DataLoader(dataset=SUBSET_UNDERLYING, batch_size=BATCH_SIZE, shuffle=False)"
   ]
  },
  {
   "cell_type": "code",
   "execution_count": 461,
   "metadata": {},
   "outputs": [],
   "source": [
    "class NeuralNet(nn.Module):\n",
    "    def __init__(self, input_size, num_layers, hidden_size, output_size):\n",
    "        super(NeuralNet, self).__init__()\n",
    "        self.hidden = nn.ModuleList()\n",
    "        self.input_layer = nn.Linear(input_size, hidden_size)\n",
    "        for k in range(num_layers-1):\n",
    "            self.hidden.append(nn.Linear(hidden_size, hidden_size))\n",
    "        self.output_layer = nn.Linear(hidden_size, output_size)\n",
    "    \n",
    "    def forward(self, x):\n",
    "        x=self.input_layer(x)\n",
    "        x=x.relu()\n",
    "        for layer in self.hidden:\n",
    "            x=layer(x)\n",
    "            x=x.relu()\n",
    "        x=self.output_layer(x)\n",
    "        return x\n",
    "    \n",
    "def ReLU_glorot_init(model):\n",
    "    for name, param in model.named_parameters():\n",
    "        \n",
    "        if name.endswith(\".bias\"):\n",
    "            param.data.fill_(0)\n",
    "        else:\n",
    "            nn.init.xavier_normal_(param)"
   ]
  },
  {
   "cell_type": "code",
   "execution_count": 462,
   "metadata": {},
   "outputs": [],
   "source": [
    "def get_bound(num_samples, eta, zeta, gamma, alpha, delta):\n",
    "    index_sample, index_approx=train_test_split(np.random.choice(INDEX_UNDERLYING, num_samples, replace=False), test_size=eta)\n",
    "    index_empirical_error, index_train=train_test_split(index_sample, test_size=zeta)\n",
    "\n",
    "    num_approx=len(index_approx)\n",
    "    num_empirical_error=len(index_empirical_error)\n",
    "    num_train=len(index_train)\n",
    "    \n",
    "    subset_train=Subset(SUBSET_UNDERLYING, index_train)\n",
    "    subset_empirical_error=Subset(SUBSET_UNDERLYING, index_empirical_error)\n",
    "\n",
    "    loader_train = DataLoader(dataset=subset_train, batch_size=BATCH_SIZE, shuffle=True)\n",
    "    loader_empirical_error = DataLoader(dataset=subset_empirical_error, batch_size=BATCH_SIZE, shuffle=True)\n",
    "\n",
    "    model = NeuralNet(INPUT_SIZE, NUM_LAYERS, NUM_HIDDEN_UNITS, OUTPUT_SIZE)\n",
    "    ReLU_glorot_init(model)\n",
    "\n",
    "    criterion = nn.CrossEntropyLoss()\n",
    "    optimizer = SGD(model.parameters(), lr=LEARNING_RATE, momentum=MOMENTUM)\n",
    "\n",
    "    for epoch in range(NUM_EPOCHS):\n",
    "        for images, labels in loader_train:\n",
    "            images = images.reshape(-1, INPUT_SIZE)\n",
    "            outputs = model(images)\n",
    "            loss = criterion(outputs, labels)\n",
    "            optimizer.zero_grad()\n",
    "            loss.backward()\n",
    "            optimizer.step()\n",
    "        #print('Epoch {}: Loss {:.3f}'.format(epoch+1,loss.item()))\n",
    "\n",
    "    empirical_accuracy=0\n",
    "    with torch.no_grad():\n",
    "        for image, label in loader_empirical_error:\n",
    "            image = image.reshape(-1, INPUT_SIZE)\n",
    "            output = model(image)\n",
    "            predictions=output.max(1)[1]\n",
    "            empirical_accuracy+=sum((predictions==label).tolist())\n",
    "    empirical_accuracy/=num_empirical_error\n",
    "\n",
    "    true_accuracy=0\n",
    "    correct_bools=[]\n",
    "    with torch.no_grad():\n",
    "        for image, label in LOADER_UNDERLYING:\n",
    "            image = image.reshape(-1, INPUT_SIZE)\n",
    "            output = model(image)\n",
    "            predictions=output.max(1)[1]\n",
    "            correct_bools+=(predictions==label).tolist()\n",
    "            true_accuracy+=sum((predictions==label).tolist())\n",
    "    true_accuracy/=NUM_UNDERLYING_DISTRIBUTION\n",
    "\n",
    "    index_verifiable=[]\n",
    "    for k,correct in enumerate(correct_bools):\n",
    "        if correct:\n",
    "            index_verifiable.append(k)\n",
    "\n",
    "    prop_to_sample=min(1,gamma/true_accuracy)\n",
    "    Delta_prime, Delta=train_test_split(index_verifiable, test_size=prop_to_sample)\n",
    "\n",
    "    p_Delta=len(Delta)/NUM_UNDERLYING_DISTRIBUTION\n",
    "    p_hat=0\n",
    "    for ind in index_approx:\n",
    "        if ind in Delta:\n",
    "            p_hat+=1\n",
    "    p_hat/=num_approx\n",
    "    p_L=beta.ppf(alpha,int(num_approx*p_hat),int(num_approx-num_approx*p_hat+1))\n",
    "\n",
    "    log_component = np.log((1-p_L+np.sqrt((1-p_L)**2+4*delta**(1/num_empirical_error)*p_L))/(2*delta**(1/num_empirical_error)))\n",
    "    bound=(1-train_accuracy)+np.sqrt(log_component/2)\n",
    "\n",
    "    return 1-true_accuracy, 1-empirical_accuracy, bound, 1-(delta+alpha*(1-delta)), num_approx, num_empirical_error, num_train"
   ]
  },
  {
   "cell_type": "code",
   "execution_count": 475,
   "metadata": {},
   "outputs": [
    {
     "name": "stdout",
     "output_type": "stream",
     "text": [
      "Sample Size 500 eta 0.1\n",
      "Sample Size 500 eta 0.2\n",
      "Sample Size 500 eta 0.30000000000000004\n",
      "Sample Size 500 eta 0.4\n",
      "Sample Size 500 eta 0.5\n",
      "Sample Size 500 eta 0.6\n",
      "Sample Size 500 eta 0.7000000000000001\n",
      "Sample Size 500 eta 0.8\n",
      "Sample Size 500 eta 0.9\n",
      "Sample Size 750 eta 0.1\n",
      "Sample Size 750 eta 0.2\n",
      "Sample Size 750 eta 0.30000000000000004\n",
      "Sample Size 750 eta 0.4\n",
      "Sample Size 750 eta 0.5\n",
      "Sample Size 750 eta 0.6\n",
      "Sample Size 750 eta 0.7000000000000001\n",
      "Sample Size 750 eta 0.8\n",
      "Sample Size 750 eta 0.9\n",
      "Sample Size 1000 eta 0.1\n",
      "Sample Size 1000 eta 0.2\n",
      "Sample Size 1000 eta 0.30000000000000004\n",
      "Sample Size 1000 eta 0.4\n",
      "Sample Size 1000 eta 0.5\n"
     ]
    }
   ],
   "source": [
    "ZETA=0.5\n",
    "GAMMA=0.5\n",
    "ALPHA=0.025\n",
    "DELTA=0.025\n",
    "\n",
    "SAMPLE_SIZES=[500,750,1000,1500]\n",
    "ETAS=np.linspace(0.1,0.9,9)\n",
    "\n",
    "true_errors=[[] for n in range(len(SAMPLE_SIZES))]\n",
    "empirical_errors=[[] for n in range(len(SAMPLE_SIZES))]\n",
    "bounds=[[] for n in range(len(SAMPLE_SIZES))]\n",
    "n_as=[[] for n in range(len(SAMPLE_SIZES))]\n",
    "n_es=[[] for n in range(len(SAMPLE_SIZES))]\n",
    "n_ts=[[] for n in range(len(SAMPLE_SIZES))]\n",
    "\n",
    "for k,sample_size in enumerate(SAMPLE_SIZES):\n",
    "    for eta in ETAS:\n",
    "        true_error, empirical_error, bound, con, n_a, n_e, n_t = get_bound(sample_size,eta,ZETA,GAMMA,ALPHA,DELTA)\n",
    "        true_errors[k].append(true_error)\n",
    "        empirical_errors[k].append(empirical_error)\n",
    "        bounds[k].append(bound)\n",
    "        n_as[k].append(n_a)\n",
    "        n_es[k].append(n_e)\n",
    "        n_ts[k].append(n_t)\n",
    "        print('Sample Size {} eta {}'.format(sample_size,eta))"
   ]
  },
  {
   "cell_type": "code",
   "execution_count": 473,
   "metadata": {},
   "outputs": [
    {
     "ename": "IndexError",
     "evalue": "list index out of range",
     "output_type": "error",
     "traceback": [
      "\u001b[1;31m---------------------------------------------------------------------------\u001b[0m",
      "\u001b[1;31mIndexError\u001b[0m                                Traceback (most recent call last)",
      "\u001b[1;32mc:\\Users\\thoma\\Dropbox\\ICL\\UROP 23\\GitHubRepo\\Generalization-of-Neural-Networks\\Generalization in Deep Learning\\Research Question\\experiment_mnist2.ipynb Cell 7\u001b[0m in \u001b[0;36m7\n\u001b[0;32m      <a href='vscode-notebook-cell:/c%3A/Users/thoma/Dropbox/ICL/UROP%2023/GitHubRepo/Generalization-of-Neural-Networks/Generalization%20in%20Deep%20Learning/Research%20Question/experiment_mnist2.ipynb#X15sZmlsZQ%3D%3D?line=4'>5</a>\u001b[0m ax\u001b[39m.\u001b[39mplot(props_to_approx, bounds[i], color\u001b[39m=\u001b[39mcolors[\u001b[39m0\u001b[39m], label\u001b[39m=\u001b[39m\u001b[39m'\u001b[39m\u001b[39mBound\u001b[39m\u001b[39m'\u001b[39m, linestyle\u001b[39m=\u001b[39m\u001b[39m'\u001b[39m\u001b[39mdashed\u001b[39m\u001b[39m'\u001b[39m)\n\u001b[0;32m      <a href='vscode-notebook-cell:/c%3A/Users/thoma/Dropbox/ICL/UROP%2023/GitHubRepo/Generalization-of-Neural-Networks/Generalization%20in%20Deep%20Learning/Research%20Question/experiment_mnist2.ipynb#X15sZmlsZQ%3D%3D?line=5'>6</a>\u001b[0m \u001b[39m#col.plot(props_to_approx, empirical_errors[i*2+j], color=colors[0], label='Empirical Error', linestyle='dotted')\u001b[39;00m\n\u001b[1;32m----> <a href='vscode-notebook-cell:/c%3A/Users/thoma/Dropbox/ICL/UROP%2023/GitHubRepo/Generalization-of-Neural-Networks/Generalization%20in%20Deep%20Learning/Research%20Question/experiment_mnist2.ipynb#X15sZmlsZQ%3D%3D?line=6'>7</a>\u001b[0m ax\u001b[39m.\u001b[39mset_title(\u001b[39m'\u001b[39m\u001b[39mTrain \u001b[39m\u001b[39m{}\u001b[39;00m\u001b[39m, Err \u001b[39m\u001b[39m{}\u001b[39;00m\u001b[39m, App \u001b[39m\u001b[39m{}\u001b[39;00m\u001b[39m'\u001b[39m\u001b[39m.\u001b[39mformat(n_ts[i][\u001b[39m0\u001b[39;49m], n_es[i][\u001b[39m0\u001b[39m],n_as[i][\u001b[39m0\u001b[39m]))\n\u001b[0;32m      <a href='vscode-notebook-cell:/c%3A/Users/thoma/Dropbox/ICL/UROP%2023/GitHubRepo/Generalization-of-Neural-Networks/Generalization%20in%20Deep%20Learning/Research%20Question/experiment_mnist2.ipynb#X15sZmlsZQ%3D%3D?line=7'>8</a>\u001b[0m ax\u001b[39m.\u001b[39mlegend()\n",
      "\u001b[1;31mIndexError\u001b[0m: list index out of range"
     ]
    },
    {
     "data": {
      "image/png": "[encoded data removed]",
      "text/plain": [
       "<Figure size 1200x300 with 4 Axes>"
      ]
     },
     "metadata": {},
     "output_type": "display_data"
    }
   ],
   "source": [
    "fig, axs = plt.subplots(1,4,figsize=(12,3))\n",
    "colors = plt.cm.cividis(np.linspace(0, 1, len(sample_sizes)))\n",
    "for i, ax in enumerate(axs):\n",
    "    ax.plot(props_to_approx, true_errors[i], color=colors[0], label='True Error')\n",
    "    ax.plot(props_to_approx, bounds[i], color=colors[0], label='Bound', linestyle='dashed')\n",
    "    #col.plot(props_to_approx, empirical_errors[i*2+j], color=colors[0], label='Empirical Error', linestyle='dotted')\n",
    "    ax.set_title('Train {}, Err {}, App {}'.format(n_ts[i][0], n_es[i][0],n_as[i][0]))\n",
    "    ax.legend()"
   ]
  }
 ],
 "metadata": {
  "kernelspec": {
   "display_name": "Python 3",
   "language": "python",
   "name": "python3"
  },
  "language_info": {
   "codemirror_mode": {
    "name": "ipython",
    "version": 3
   },
   "file_extension": ".py",
   "mimetype": "text/x-python",
   "name": "python",
   "nbconvert_exporter": "python",
   "pygments_lexer": "ipython3",
   "version": "3.9.5"
  },
  "orig_nbformat": 4
 },
 "nbformat": 4,
 "nbformat_minor": 2
}
