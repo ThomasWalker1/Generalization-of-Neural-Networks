{
 "cells": [
  {
   "cell_type": "code",
   "execution_count": 1,
   "metadata": {},
   "outputs": [],
   "source": [
    "import torch\n",
    "import torch.nn as nn\n",
    "import torchvision\n",
    "import torchvision.transforms as transforms\n",
    "from torch.utils.data import DataLoader, Subset\n",
    "from torch.optim import SGD\n",
    "\n",
    "import numpy as np\n",
    "import matplotlib.pyplot as plt\n",
    "from sklearn.model_selection import train_test_split\n",
    "from scipy.stats import beta"
   ]
  },
  {
   "cell_type": "code",
   "execution_count": 2,
   "metadata": {},
   "outputs": [],
   "source": [
    "INPUT_SIZE = 784\n",
    "NUM_LAYERS = 2\n",
    "NUM_HIDDEN_UNITS = 64\n",
    "OUTPUT_SIZE = 10\n",
    "\n",
    "NUM_EPOCHS = 10\n",
    "BATCH_SIZE = 250\n",
    "LEARNING_RATE = 0.1\n",
    "MOMENTUM = 0.9\n",
    "\n",
    "NUM_UNDERLYING_DISTRIBUTION = 60000"
   ]
  },
  {
   "cell_type": "code",
   "execution_count": 3,
   "metadata": {},
   "outputs": [],
   "source": [
    "DATASET = torchvision.datasets.MNIST(root='../data', train=True, transform=transforms.ToTensor(), download=True)\n",
    "\n",
    "INDEX_UNDERLYING=list(range(NUM_UNDERLYING_DISTRIBUTION))\n",
    "SUBSET_UNDERLYING=Subset(DATASET, INDEX_UNDERLYING)\n",
    "LOADER_UNDERLYING=DataLoader(dataset=SUBSET_UNDERLYING, batch_size=BATCH_SIZE, shuffle=False)"
   ]
  },
  {
   "cell_type": "code",
   "execution_count": 4,
   "metadata": {},
   "outputs": [],
   "source": [
    "class NeuralNet(nn.Module):\n",
    "    def __init__(self, input_size, num_layers, hidden_size, output_size):\n",
    "        super(NeuralNet, self).__init__()\n",
    "        self.hidden = nn.ModuleList()\n",
    "        self.input_layer = nn.Linear(input_size, hidden_size)\n",
    "        for k in range(num_layers-1):\n",
    "            self.hidden.append(nn.Linear(hidden_size, hidden_size))\n",
    "        self.output_layer = nn.Linear(hidden_size, output_size)\n",
    "    \n",
    "    def forward(self, x):\n",
    "        x=self.input_layer(x)\n",
    "        x=x.relu()\n",
    "        for layer in self.hidden:\n",
    "            x=layer(x)\n",
    "            x=x.relu()\n",
    "        x=self.output_layer(x)\n",
    "        return x\n",
    "    \n",
    "def ReLU_glorot_init(model):\n",
    "    torch.manual_seed(1)\n",
    "    for name, param in model.named_parameters():\n",
    "        if name.endswith(\".bias\"):\n",
    "            param.data.fill_(0)\n",
    "        else:\n",
    "            nn.init.xavier_normal_(param)"
   ]
  },
  {
   "cell_type": "code",
   "execution_count": 16,
   "metadata": {},
   "outputs": [],
   "source": [
    "def get_bound(num_samples, eta, zeta, gamma, alpha, delta):\n",
    "    index_sample=np.random.choice(INDEX_UNDERLYING, num_samples, replace=False)\n",
    "    index_find_delta,index_eval_bound=train_test_split(index_sample, test_size=0.3)\n",
    "    index_find_delta_train,index_find_delta_approx=train_test_split(index_find_delta, test_size=eta)\n",
    "    index_eval_bound_train,index_eval_bound_ee=train_test_split(index_eval_bound, test_size=zeta)\n",
    "\n",
    "    num_find_delta_approx=len(index_find_delta_approx)\n",
    "    num_eval_bound_ee=len(index_eval_bound_ee)\n",
    "    \n",
    "    subset_find_delta_train=Subset(SUBSET_UNDERLYING, index_find_delta_train)\n",
    "    subset_eval_bound_train=Subset(SUBSET_UNDERLYING, index_eval_bound_train)\n",
    "    subset_eval_bound_ee=Subset(SUBSET_UNDERLYING, index_eval_bound_ee)\n",
    "\n",
    "    loader_find_delta_train = DataLoader(dataset=subset_find_delta_train, batch_size=BATCH_SIZE, shuffle=True)\n",
    "    loader_eval_bound_train = DataLoader(dataset=subset_eval_bound_train, batch_size=BATCH_SIZE, shuffle=True)\n",
    "    loader_eval_bound_ee = DataLoader(dataset=subset_eval_bound_ee, batch_size=BATCH_SIZE, shuffle=False)\n",
    "\n",
    "    model_find_delta = NeuralNet(INPUT_SIZE, NUM_LAYERS, NUM_HIDDEN_UNITS, OUTPUT_SIZE)\n",
    "    model = NeuralNet(INPUT_SIZE, NUM_LAYERS, NUM_HIDDEN_UNITS, OUTPUT_SIZE)\n",
    "\n",
    "    ReLU_glorot_init(model_find_delta)\n",
    "    ReLU_glorot_init(model)\n",
    "\n",
    "    criterion = nn.CrossEntropyLoss()\n",
    "    optimizer_find_delta = SGD(model_find_delta.parameters(), lr=LEARNING_RATE, momentum=MOMENTUM)\n",
    "    optimizer = SGD(model.parameters(), lr=LEARNING_RATE, momentum=MOMENTUM)\n",
    "\n",
    "    for epoch in range(NUM_EPOCHS):\n",
    "        for images, labels in loader_find_delta_train:\n",
    "            images = images.reshape(-1, INPUT_SIZE)\n",
    "            outputs = model_find_delta(images)\n",
    "            loss = criterion(outputs, labels)\n",
    "            optimizer_find_delta.zero_grad()\n",
    "            loss.backward()\n",
    "            optimizer_find_delta.step()\n",
    "        #print('Epoch {}: Loss {:.3f}'.format(epoch+1,loss.item()))\n",
    "\n",
    "    for epoch in range(NUM_EPOCHS):\n",
    "        for images, labels in loader_eval_bound_train:\n",
    "            images = images.reshape(-1, INPUT_SIZE)\n",
    "            outputs = model(images)\n",
    "            loss = criterion(outputs, labels)\n",
    "            optimizer.zero_grad()\n",
    "            loss.backward()\n",
    "            optimizer.step()\n",
    "        #print('Epoch {}: Loss {:.3f}'.format(epoch+1,loss.item()))\n",
    "\n",
    "    true_accuracy_find_delta=0\n",
    "    correct_bools=[]\n",
    "    with torch.no_grad():\n",
    "        for image, label in LOADER_UNDERLYING:\n",
    "            image = image.reshape(-1, INPUT_SIZE)\n",
    "            output = model_find_delta(image)\n",
    "            predictions=output.max(1)[1]\n",
    "            correct_bools+=(predictions==label).tolist()\n",
    "            true_accuracy_find_delta+=sum((predictions==label).tolist())\n",
    "    true_accuracy_find_delta/=NUM_UNDERLYING_DISTRIBUTION\n",
    "\n",
    "    index_verifiable=[]\n",
    "    for k,correct in enumerate(correct_bools):\n",
    "        if correct:\n",
    "            index_verifiable.append(k)\n",
    "\n",
    "    prop_to_sample=min(1,gamma/true_accuracy_find_delta)\n",
    "    Delta_prime, Delta=train_test_split(index_verifiable, test_size=prop_to_sample)\n",
    "\n",
    "    num_Delta=len(Delta)\n",
    "    num_Delta_prime=len(Delta_prime)\n",
    "\n",
    "    subset_Delta=Subset(SUBSET_UNDERLYING, Delta)\n",
    "    loader_Delta=DataLoader(dataset=subset_Delta, batch_size=BATCH_SIZE, shuffle=False)\n",
    "\n",
    "    subset_Delta_prime=Subset(SUBSET_UNDERLYING, Delta_prime)\n",
    "    loader_Delta_prime=DataLoader(dataset=subset_Delta_prime, batch_size=BATCH_SIZE, shuffle=False)\n",
    "\n",
    "    empirical_accuracy_eval_bound=0\n",
    "    with torch.no_grad():\n",
    "        for image, label in loader_eval_bound_ee:\n",
    "            image = image.reshape(-1, INPUT_SIZE)\n",
    "            output = model(image)\n",
    "            predictions=output.max(1)[1]\n",
    "            empirical_accuracy_eval_bound+=sum((predictions==label).tolist())\n",
    "    empirical_accuracy_eval_bound/=num_eval_bound_ee\n",
    "\n",
    "    true_accuracy_Delta=0\n",
    "    with torch.no_grad():\n",
    "        for image, label in loader_Delta:\n",
    "            image = image.reshape(-1, INPUT_SIZE)\n",
    "            output = model(image)\n",
    "            predictions=output.max(1)[1]\n",
    "            true_accuracy_Delta+=sum((predictions==label).tolist())\n",
    "    true_accuracy_Delta/=num_Delta\n",
    "\n",
    "    true_accuracy_Delta_prime=0\n",
    "    with torch.no_grad():\n",
    "        for image, label in loader_Delta_prime:\n",
    "            image = image.reshape(-1, INPUT_SIZE)\n",
    "            output = model(image)\n",
    "            predictions=output.max(1)[1]\n",
    "            true_accuracy_Delta_prime+=sum((predictions==label).tolist())\n",
    "    true_accuracy_Delta_prime/=num_Delta_prime\n",
    "\n",
    "    p_hat=0\n",
    "    for ind in index_find_delta_approx:\n",
    "        if ind in Delta:\n",
    "            p_hat+=1\n",
    "    p_hat/=num_find_delta_approx\n",
    "    p_L=beta.ppf(alpha,int(num_find_delta_approx*p_hat),int(num_find_delta_approx-num_find_delta_approx*p_hat+1))\n",
    "\n",
    "\n",
    "\n",
    "    log_component = np.log((1-p_L+np.sqrt((1-p_L)**2+4*delta**(1/num_eval_bound_ee)*p_L))/(2*delta**(1/num_eval_bound_ee)))\n",
    "    bound=((1-empirical_accuracy_eval_bound)+np.sqrt(log_component/2)-p_L*(1-true_accuracy_Delta))/(1-p_L)\n",
    "    \n",
    "\n",
    "    return 1-true_accuracy_Delta_prime, bound, p_L"
   ]
  },
  {
   "cell_type": "code",
   "execution_count": 17,
   "metadata": {},
   "outputs": [
    {
     "name": "stdout",
     "output_type": "stream",
     "text": [
      "Iteration 1 eta 0.01\n",
      "Iteration 1 eta 0.02125\n",
      "Iteration 1 eta 0.0325\n",
      "Iteration 1 eta 0.043750000000000004\n",
      "Iteration 1 eta 0.05500000000000001\n",
      "Iteration 1 eta 0.06625\n",
      "Iteration 1 eta 0.0775\n",
      "Iteration 1 eta 0.08875000000000001\n"
     ]
    }
   ],
   "source": [
    "ZETA=0.3\n",
    "GAMMA=0.8\n",
    "ALPHA=0.025\n",
    "DELTA=0.025\n",
    "\n",
    "SAMPLE_SIZE=10000\n",
    "ETAS=np.linspace(0.01,0.1,9)\n",
    "N_ETAS=len(ETAS)\n",
    "NUM_ITERATIONS=1\n",
    "\n",
    "true_errors_delta_prime=np.zeros(N_ETAS)\n",
    "bounds=np.zeros(N_ETAS)\n",
    "ps=[]\n",
    "\n",
    "for n in range(NUM_ITERATIONS):\n",
    "    for k,eta in enumerate(ETAS):\n",
    "        true_error_delta_prime, bound, p = get_bound(SAMPLE_SIZE,eta,ZETA,GAMMA,ALPHA,DELTA)\n",
    "        true_errors_delta_prime[k]+=true_error_delta_prime/NUM_ITERATIONS\n",
    "        bounds[k]+=bound/NUM_ITERATIONS\n",
    "        ps.append(p)\n",
    "        print('Iteration {} eta {}'.format(n+1,eta))"
   ]
  },
  {
   "cell_type": "code",
   "execution_count": 15,
   "metadata": {},
   "outputs": [
    {
     "data": {
      "image/png": "[encoded data removed]",
      "text/plain": [
       "<Figure size 800x300 with 1 Axes>"
      ]
     },
     "metadata": {},
     "output_type": "display_data"
    }
   ],
   "source": [
    "fig, axs = plt.subplots(1,1,figsize=(8,3),layout='constrained')\n",
    "colors = plt.cm.cividis(np.linspace(0, 1, 3))\n",
    "axs.plot(ETAS, true_errors_delta_prime, label='Error Delta Prime', c=colors[0])\n",
    "axs.plot(ETAS, bounds, label='Bound', c=colors[1])\n",
    "axs.set_xlabel('eta')\n",
    "axs.set_ylabel('0-1 error')\n",
    "axs.set_title('Sample Size of {}'.format(SAMPLE_SIZE), fontsize=10)\n",
    "axs.legend() \n",
    "#plt.savefig('plots/MNIST_Zeta_03_focused.png')"
   ]
  },
  {
   "cell_type": "code",
   "execution_count": 24,
   "metadata": {},
   "outputs": [
    {
     "name": "stdout",
     "output_type": "stream",
     "text": [
      "[0.6642645107290014, 0.7226512166657478, 0.7358847009713978, 0.7633084554956597, 0.7358480324899246, 0.7716201891193584, 0.7700745363474637, 0.7646208112010241, 0.7561375247466816, 0.7532124025891377, 0.7841487147208159, 0.7523186979633345, 0.7415178570337256, 0.7852907650597134, 0.7923359844034812, 0.7283300629188636, 0.7834722639863789, 0.7717544218601164, 0.6319837270910251, 0.7277123310596274, 0.7457337137576208, 0.7342860421420052, 0.7453760366074145, 0.7747993505610047, 0.789065005971163, 0.7481914733378238, 0.7821951822437158, 0.686080346213682, 0.77377321482902, 0.7391639907848755, 0.7828080808766273, 0.7549282401608421, 0.7510204411944014, 0.7633142986158027, 0.7740360749344601, 0.7644601304459224, 0.6970846206494593, 0.7277123310596274, 0.6968026375031176, 0.7536055649975635, 0.7741099499870171, 0.7636841731625348, 0.7565650242840347, 0.7870164566401177, 0.7686268950660801]\n"
     ]
    }
   ],
   "source": [
    "print(ps)"
   ]
  }
 ],
 "metadata": {
  "kernelspec": {
   "display_name": "Python 3",
   "language": "python",
   "name": "python3"
  },
  "language_info": {
   "codemirror_mode": {
    "name": "ipython",
    "version": 3
   },
   "file_extension": ".py",
   "mimetype": "text/x-python",
   "name": "python",
   "nbconvert_exporter": "python",
   "pygments_lexer": "ipython3",
   "version": "3.9.5"
  },
  "orig_nbformat": 4
 },
 "nbformat": 4,
 "nbformat_minor": 2
}
