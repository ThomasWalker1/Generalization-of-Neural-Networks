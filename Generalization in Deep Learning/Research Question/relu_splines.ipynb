{
 "cells": [
  {
   "cell_type": "code",
   "execution_count": 125,
   "metadata": {},
   "outputs": [],
   "source": [
    "import torch\n",
    "import torch.nn as nn\n",
    "import torchvision\n",
    "import torchvision.transforms as transforms\n",
    "from torch.utils.data import DataLoader, Subset\n",
    "from torch.optim import SGD\n",
    "\n",
    "from sklearn.model_selection import train_test_split\n",
    "\n",
    "import numpy as np\n",
    "from numpy import dot\n",
    "import matplotlib.pyplot as plt"
   ]
  },
  {
   "cell_type": "code",
   "execution_count": 126,
   "metadata": {},
   "outputs": [],
   "source": [
    "hidden_units=50"
   ]
  },
  {
   "cell_type": "code",
   "execution_count": 127,
   "metadata": {},
   "outputs": [],
   "source": [
    "# Fully connected neural network\n",
    "class NeuralNet(nn.Module):\n",
    "    def __init__(self):\n",
    "        super(NeuralNet, self).__init__()\n",
    "        self.input_layer = nn.Linear(1, hidden_units)\n",
    "        self.hidden_layer1 = nn.Linear(hidden_units,hidden_units) \n",
    "        self.hidden_layer2 = nn.Linear(hidden_units,hidden_units)\n",
    "        self.output_layer = nn.Linear(hidden_units, 1)  \n",
    "    \n",
    "    def forward(self, x):\n",
    "        x = self.input_layer(x)\n",
    "        x_1 = x.relu()\n",
    "        x_1 = self.hidden_layer1(x_1)\n",
    "        x_2 = x_1.relu()\n",
    "        x_2 = self.hidden_layer2(x_2)\n",
    "        x_3 = x_2.relu()\n",
    "        x_4 = self.output_layer(x_3)\n",
    "        return x_1[0],x_2[0],x_3[0],x_4\n",
    "    \n",
    "def ReLU_glorot_init(model):\n",
    "    for name, param in model.named_parameters():\n",
    "        \n",
    "        if name.endswith(\".bias\"):\n",
    "            param.data.fill_(0)\n",
    "        else:\n",
    "            nn.init.xavier_normal_(param)\n",
    "\n",
    "def next_batch(inputs, targets, batchSize):\n",
    "\tfor i in range(0, inputs.shape[0], batchSize):\n",
    "\t\tyield (inputs[i:i + batchSize], targets[i:i + batchSize])"
   ]
  },
  {
   "cell_type": "code",
   "execution_count": 128,
   "metadata": {},
   "outputs": [],
   "source": [
    "num_epochs = 100\n",
    "batch_size = 5\n",
    "learning_rate = 0.01"
   ]
  },
  {
   "cell_type": "code",
   "execution_count": 129,
   "metadata": {},
   "outputs": [],
   "source": [
    "X=np.linspace(0,2,100)\n",
    "y=(X-1)**2+0.5\n",
    "\n",
    "X=torch.from_numpy(X).float()\n",
    "y=torch.from_numpy(y).float()"
   ]
  },
  {
   "cell_type": "code",
   "execution_count": 130,
   "metadata": {},
   "outputs": [
    {
     "name": "stdout",
     "output_type": "stream",
     "text": [
      "Epoch 1: Loss 0.533\n",
      "Epoch 2: Loss 0.229\n",
      "Epoch 3: Loss 0.184\n",
      "Epoch 4: Loss 0.180\n",
      "Epoch 5: Loss 0.184\n",
      "Epoch 6: Loss 0.189\n",
      "Epoch 7: Loss 0.194\n",
      "Epoch 8: Loss 0.198\n",
      "Epoch 9: Loss 0.203\n",
      "Epoch 10: Loss 0.206\n",
      "Epoch 11: Loss 0.210\n",
      "Epoch 12: Loss 0.213\n",
      "Epoch 13: Loss 0.216\n",
      "Epoch 14: Loss 0.219\n",
      "Epoch 15: Loss 0.222\n",
      "Epoch 16: Loss 0.225\n",
      "Epoch 17: Loss 0.227\n",
      "Epoch 18: Loss 0.229\n",
      "Epoch 19: Loss 0.231\n",
      "Epoch 20: Loss 0.233\n",
      "Epoch 21: Loss 0.235\n",
      "Epoch 22: Loss 0.236\n",
      "Epoch 23: Loss 0.238\n",
      "Epoch 24: Loss 0.239\n",
      "Epoch 25: Loss 0.240\n",
      "Epoch 26: Loss 0.241\n",
      "Epoch 27: Loss 0.242\n",
      "Epoch 28: Loss 0.243\n",
      "Epoch 29: Loss 0.243\n",
      "Epoch 30: Loss 0.244\n",
      "Epoch 31: Loss 0.244\n",
      "Epoch 32: Loss 0.244\n",
      "Epoch 33: Loss 0.245\n",
      "Epoch 34: Loss 0.245\n",
      "Epoch 35: Loss 0.245\n",
      "Epoch 36: Loss 0.245\n",
      "Epoch 37: Loss 0.245\n",
      "Epoch 38: Loss 0.245\n",
      "Epoch 39: Loss 0.245\n",
      "Epoch 40: Loss 0.244\n",
      "Epoch 41: Loss 0.244\n",
      "Epoch 42: Loss 0.244\n",
      "Epoch 43: Loss 0.243\n",
      "Epoch 44: Loss 0.243\n",
      "Epoch 45: Loss 0.242\n",
      "Epoch 46: Loss 0.242\n",
      "Epoch 47: Loss 0.241\n",
      "Epoch 48: Loss 0.240\n",
      "Epoch 49: Loss 0.240\n",
      "Epoch 50: Loss 0.239\n",
      "Epoch 51: Loss 0.238\n",
      "Epoch 52: Loss 0.237\n",
      "Epoch 53: Loss 0.236\n",
      "Epoch 54: Loss 0.235\n",
      "Epoch 55: Loss 0.234\n",
      "Epoch 56: Loss 0.233\n",
      "Epoch 57: Loss 0.232\n",
      "Epoch 58: Loss 0.231\n",
      "Epoch 59: Loss 0.229\n",
      "Epoch 60: Loss 0.228\n",
      "Epoch 61: Loss 0.227\n",
      "Epoch 62: Loss 0.225\n",
      "Epoch 63: Loss 0.224\n",
      "Epoch 64: Loss 0.222\n",
      "Epoch 65: Loss 0.221\n",
      "Epoch 66: Loss 0.219\n",
      "Epoch 67: Loss 0.217\n",
      "Epoch 68: Loss 0.216\n",
      "Epoch 69: Loss 0.214\n",
      "Epoch 70: Loss 0.212\n",
      "Epoch 71: Loss 0.210\n",
      "Epoch 72: Loss 0.208\n",
      "Epoch 73: Loss 0.206\n",
      "Epoch 74: Loss 0.204\n",
      "Epoch 75: Loss 0.202\n",
      "Epoch 76: Loss 0.200\n",
      "Epoch 77: Loss 0.198\n",
      "Epoch 78: Loss 0.195\n",
      "Epoch 79: Loss 0.193\n",
      "Epoch 80: Loss 0.191\n",
      "Epoch 81: Loss 0.188\n",
      "Epoch 82: Loss 0.186\n",
      "Epoch 83: Loss 0.183\n",
      "Epoch 84: Loss 0.182\n",
      "Epoch 85: Loss 0.180\n",
      "Epoch 86: Loss 0.177\n",
      "Epoch 87: Loss 0.174\n",
      "Epoch 88: Loss 0.171\n",
      "Epoch 89: Loss 0.169\n",
      "Epoch 90: Loss 0.166\n",
      "Epoch 91: Loss 0.163\n",
      "Epoch 92: Loss 0.161\n",
      "Epoch 93: Loss 0.158\n",
      "Epoch 94: Loss 0.155\n",
      "Epoch 95: Loss 0.152\n",
      "Epoch 96: Loss 0.150\n",
      "Epoch 97: Loss 0.147\n",
      "Epoch 98: Loss 0.144\n",
      "Epoch 99: Loss 0.141\n",
      "Epoch 100: Loss 0.138\n"
     ]
    }
   ],
   "source": [
    "model = NeuralNet()\n",
    "ReLU_glorot_init(model)\n",
    "\n",
    "criterion = nn.MSELoss()\n",
    "optimizer = SGD(model.parameters(), lr=learning_rate)\n",
    "\n",
    "def train_epoch():\n",
    "    for xs, ys in next_batch(X,y,batch_size):\n",
    "        outputs = model(torch.reshape(xs,(batch_size,1)))[-1]\n",
    "        loss = criterion(outputs, ys)\n",
    "        optimizer.zero_grad()\n",
    "        loss.backward()\n",
    "        optimizer.step()\n",
    "    return loss.item()\n",
    "\n",
    "for epoch in range(num_epochs):\n",
    "    l=train_epoch()\n",
    "    print('Epoch {}: Loss {:.3f}'.format(epoch+1,l))"
   ]
  },
  {
   "cell_type": "code",
   "execution_count": 131,
   "metadata": {},
   "outputs": [
    {
     "data": {
      "text/plain": [
       "[<matplotlib.lines.Line2D at 0x22a88426a00>]"
      ]
     },
     "execution_count": 131,
     "metadata": {},
     "output_type": "execute_result"
    },
    {
     "data": {
      "image/png": "[encoded data removed]",
      "text/plain": [
       "<Figure size 640x480 with 1 Axes>"
      ]
     },
     "metadata": {},
     "output_type": "display_data"
    }
   ],
   "source": [
    "plot_X=np.linspace(0,2,500)\n",
    "plot_X_torch=torch.from_numpy(plot_X).float()\n",
    "plt.plot(plot_X,model(torch.reshape(plot_X_torch,(500,1)))[-1].detach().numpy())\n",
    "plt.plot(X,y)"
   ]
  }
 ],
 "metadata": {
  "kernelspec": {
   "display_name": "Python 3",
   "language": "python",
   "name": "python3"
  },
  "language_info": {
   "codemirror_mode": {
    "name": "ipython",
    "version": 3
   },
   "file_extension": ".py",
   "mimetype": "text/x-python",
   "name": "python",
   "nbconvert_exporter": "python",
   "pygments_lexer": "ipython3",
   "version": "3.9.5"
  },
  "orig_nbformat": 4
 },
 "nbformat": 4,
 "nbformat_minor": 2
}
