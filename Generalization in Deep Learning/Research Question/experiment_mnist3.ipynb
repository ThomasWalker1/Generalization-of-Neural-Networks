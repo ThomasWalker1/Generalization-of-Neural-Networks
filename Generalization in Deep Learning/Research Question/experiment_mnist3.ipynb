{
 "cells": [
  {
   "cell_type": "code",
   "execution_count": 37,
   "metadata": {},
   "outputs": [],
   "source": [
    "import torch\n",
    "import torch.nn as nn\n",
    "import torchvision\n",
    "import torchvision.transforms as transforms\n",
    "from torch.utils.data import DataLoader, Subset\n",
    "from torch.optim import SGD\n",
    "\n",
    "import numpy as np\n",
    "import matplotlib.pyplot as plt\n",
    "from sklearn.model_selection import train_test_split\n",
    "from scipy.stats import beta"
   ]
  },
  {
   "cell_type": "code",
   "execution_count": 38,
   "metadata": {},
   "outputs": [],
   "source": [
    "INPUT_SIZE = 784\n",
    "NUM_LAYERS = 2\n",
    "NUM_HIDDEN_UNITS = 64\n",
    "OUTPUT_SIZE = 10\n",
    "\n",
    "NUM_EPOCHS = 10\n",
    "BATCH_SIZE = 500\n",
    "LEARNING_RATE = 0.1\n",
    "MOMENTUM = 0.9\n",
    "\n",
    "NUM_UNDERLYING_DISTRIBUTION = 30000"
   ]
  },
  {
   "cell_type": "code",
   "execution_count": 39,
   "metadata": {},
   "outputs": [],
   "source": [
    "DATASET = torchvision.datasets.MNIST(root='../data', train=True, transform=transforms.ToTensor(), download=True)\n",
    "\n",
    "INDEX_UNDERLYING=list(range(NUM_UNDERLYING_DISTRIBUTION))\n",
    "SUBSET_UNDERLYING=Subset(DATASET, INDEX_UNDERLYING)\n",
    "LOADER_UNDERLYING=DataLoader(dataset=SUBSET_UNDERLYING, batch_size=BATCH_SIZE, shuffle=False)"
   ]
  },
  {
   "cell_type": "code",
   "execution_count": 40,
   "metadata": {},
   "outputs": [],
   "source": [
    "class NeuralNet(nn.Module):\n",
    "    def __init__(self, input_size, num_layers, hidden_size, output_size):\n",
    "        super(NeuralNet, self).__init__()\n",
    "        self.hidden = nn.ModuleList()\n",
    "        self.input_layer = nn.Linear(input_size, hidden_size)\n",
    "        for k in range(num_layers-1):\n",
    "            self.hidden.append(nn.Linear(hidden_size, hidden_size))\n",
    "        self.output_layer = nn.Linear(hidden_size, output_size)\n",
    "    \n",
    "    def forward(self, x):\n",
    "        x=self.input_layer(x)\n",
    "        x=x.relu()\n",
    "        for layer in self.hidden:\n",
    "            x=layer(x)\n",
    "            x=x.relu()\n",
    "        x=self.output_layer(x)\n",
    "        return x\n",
    "    \n",
    "def ReLU_glorot_init(model):\n",
    "    torch.manual_seed(1)\n",
    "    for name, param in model.named_parameters():\n",
    "        if name.endswith(\".bias\"):\n",
    "            param.data.fill_(0)\n",
    "        else:\n",
    "            nn.init.xavier_normal_(param)"
   ]
  },
  {
   "cell_type": "code",
   "execution_count": 47,
   "metadata": {},
   "outputs": [],
   "source": [
    "def get_bound(num_samples, eta, zeta, gammas, alpha, delta):\n",
    "    index_sample=np.random.choice(INDEX_UNDERLYING, num_samples, replace=False)\n",
    "    index_other, index_approx=train_test_split(index_sample, test_size=eta)\n",
    "    index_train, index_empirical_error=train_test_split(index_other, test_size=zeta)\n",
    "    index_train_full, index_empirical_error_full=train_test_split(index_sample, test_size=zeta)\n",
    "\n",
    "    num_approx=len(index_approx)\n",
    "    num_empirical_error=len(index_empirical_error)\n",
    "    num_empirical_error_full=len(index_empirical_error_full)\n",
    "    num_train=len(index_train)\n",
    "    num_train_full=len(index_train_full)\n",
    "    \n",
    "    subset_train=Subset(SUBSET_UNDERLYING, index_train)\n",
    "    subset_train_full=Subset(SUBSET_UNDERLYING, index_train_full)\n",
    "    subset_empirical_error=Subset(SUBSET_UNDERLYING, index_empirical_error)\n",
    "    subset_empirical_error_full=Subset(SUBSET_UNDERLYING, index_empirical_error_full)\n",
    "\n",
    "    loader_train = DataLoader(dataset=subset_train, batch_size=BATCH_SIZE, shuffle=True)\n",
    "    loader_train_full = DataLoader(dataset=subset_train_full, batch_size=BATCH_SIZE, shuffle=True)\n",
    "    loader_empirical_error = DataLoader(dataset=subset_empirical_error, batch_size=BATCH_SIZE, shuffle=False)\n",
    "    loader_empirical_error_full = DataLoader(dataset=subset_empirical_error_full, batch_size=BATCH_SIZE, shuffle=False)\n",
    "\n",
    "    model_region = NeuralNet(INPUT_SIZE, NUM_LAYERS, NUM_HIDDEN_UNITS, OUTPUT_SIZE)\n",
    "    model_point = NeuralNet(INPUT_SIZE, NUM_LAYERS, NUM_HIDDEN_UNITS, OUTPUT_SIZE)\n",
    "    ReLU_glorot_init(model_region)\n",
    "    ReLU_glorot_init(model_point)\n",
    "\n",
    "    criterion = nn.CrossEntropyLoss()\n",
    "    optimizer_region = SGD(model_region.parameters(), lr=LEARNING_RATE, momentum=MOMENTUM)\n",
    "    optimizer_point = SGD(model_point.parameters(), lr=LEARNING_RATE, momentum=MOMENTUM)\n",
    "\n",
    "    for epoch in range(NUM_EPOCHS):\n",
    "        for images, labels in loader_train:\n",
    "            images = images.reshape(-1, INPUT_SIZE)\n",
    "            outputs = model_region(images)\n",
    "            loss = criterion(outputs, labels)\n",
    "            optimizer_region.zero_grad()\n",
    "            loss.backward()\n",
    "            optimizer_region.step()\n",
    "        #print('Epoch {}: Loss {:.3f}'.format(epoch+1,loss.item()))\n",
    "\n",
    "    for epoch in range(NUM_EPOCHS):\n",
    "        for images, labels in loader_train_full:\n",
    "            images = images.reshape(-1, INPUT_SIZE)\n",
    "            outputs = model_point(images)\n",
    "            loss = criterion(outputs, labels)\n",
    "            optimizer_point.zero_grad()\n",
    "            loss.backward()\n",
    "            optimizer_point.step()\n",
    "        #print('Epoch {}: Loss {:.3f}'.format(epoch+1,loss.item()))\n",
    "\n",
    "    empirical_accuracy=0\n",
    "    with torch.no_grad():\n",
    "        for image, label in loader_empirical_error:\n",
    "            image = image.reshape(-1, INPUT_SIZE)\n",
    "            output = model_region(image)\n",
    "            predictions=output.max(1)[1]\n",
    "            empirical_accuracy+=sum((predictions==label).tolist())\n",
    "    empirical_accuracy/=num_empirical_error\n",
    "\n",
    "    empirical_accuracy_full=0\n",
    "    with torch.no_grad():\n",
    "        for image, label in loader_empirical_error_full:\n",
    "            image = image.reshape(-1, INPUT_SIZE)\n",
    "            output = model_point(image)\n",
    "            predictions=output.max(1)[1]\n",
    "            empirical_accuracy_full+=sum((predictions==label).tolist())\n",
    "    empirical_accuracy_full/=num_empirical_error_full\n",
    "\n",
    "    true_accuracy_region=0\n",
    "    correct_bools=[]\n",
    "    with torch.no_grad():\n",
    "        for image, label in LOADER_UNDERLYING:\n",
    "            image = image.reshape(-1, INPUT_SIZE)\n",
    "            output = model_region(image)\n",
    "            predictions=output.max(1)[1]\n",
    "            correct_bools+=(predictions==label).tolist()\n",
    "            true_accuracy_region+=sum((predictions==label).tolist())\n",
    "    true_accuracy_region/=NUM_UNDERLYING_DISTRIBUTION\n",
    "\n",
    "    true_accuracy_point=0\n",
    "    with torch.no_grad():\n",
    "        for image, label in LOADER_UNDERLYING:\n",
    "            image = image.reshape(-1, INPUT_SIZE)\n",
    "            output = model_point(image)\n",
    "            predictions=output.max(1)[1]\n",
    "            true_accuracy_point+=sum((predictions==label).tolist())\n",
    "    true_accuracy_point/=NUM_UNDERLYING_DISTRIBUTION\n",
    "\n",
    "    index_verifiable=[]\n",
    "    for k,correct in enumerate(correct_bools):\n",
    "        if correct:\n",
    "            index_verifiable.append(k)\n",
    "    bounds_region=np.zeros_like(gammas)\n",
    "    p_Ls=[]\n",
    "    for k,gamma in enumerate(gammas):\n",
    "\n",
    "        prop_to_sample=min(1,gamma/true_accuracy_region)\n",
    "        Delta=train_test_split(index_verifiable, test_size=prop_to_sample)[1]\n",
    "\n",
    "        p_hat=0\n",
    "        for ind in index_approx:\n",
    "            if ind in Delta:\n",
    "                p_hat+=1\n",
    "        p_hat/=num_approx\n",
    "        p_Delta=len(Delta)/NUM_UNDERLYING_DISTRIBUTION\n",
    "        p_L=beta.ppf(alpha,int(num_approx*p_hat),int(num_approx-num_approx*p_hat+1))\n",
    "        p_Ls.append(p_L)\n",
    "        log_component = np.log((1-p_L+np.sqrt((1-p_L)**2+4*delta**(1/num_empirical_error)*p_L))/(2*delta**(1/num_empirical_error)))\n",
    "        bound_region=(1-empirical_accuracy)+np.sqrt(log_component/2)\n",
    "        bounds_region[k]=bound_region\n",
    "    bound_point=(1-empirical_accuracy_full)+np.sqrt(np.log(1/delta)/(2*num_empirical_error_full))\n",
    "\n",
    "    return bound_point-(1-true_accuracy_point), bounds_region-np.ones_like(bounds_region)*(1-true_accuracy_region), p_Ls"
   ]
  },
  {
   "cell_type": "code",
   "execution_count": 53,
   "metadata": {},
   "outputs": [
    {
     "name": "stdout",
     "output_type": "stream",
     "text": [
      "0\n",
      "1\n",
      "2\n",
      "3\n",
      "4\n",
      "5\n",
      "6\n",
      "7\n",
      "8\n",
      "9\n"
     ]
    }
   ],
   "source": [
    "ZETA=0.7\n",
    "GAMMA=np.linspace(0.1,0.9,9)\n",
    "ALPHA=0.025\n",
    "DELTA=0.025\n",
    "\n",
    "SAMPLE_SIZE=5000\n",
    "NUM_ITERATIONS=10\n",
    "\n",
    "tightness_points=[]\n",
    "tightness_regions=[]\n",
    "p_lowerbounds=[]\n",
    "\n",
    "\n",
    "for j in range(NUM_ITERATIONS):\n",
    "    tightness_point, tightness_region, p_lowerbound = get_bound(SAMPLE_SIZE,0.1,ZETA,GAMMA,ALPHA,DELTA)\n",
    "    tightness_points.append(tightness_point)\n",
    "    tightness_regions+=list(tightness_region)\n",
    "    p_lowerbounds+=p_lowerbound\n",
    "    print(j)"
   ]
  },
  {
   "cell_type": "code",
   "execution_count": 54,
   "metadata": {},
   "outputs": [
    {
     "name": "stderr",
     "output_type": "stream",
     "text": [
      "*c* argument looks like a single numeric RGB or RGBA sequence, which should be avoided as value-mapping will have precedence in case its length matches with *x* & *y*.  Please use the *color* keyword-argument or provide a 2D array with a single row if you intend to specify the same RGB or RGBA value for all points.\n"
     ]
    },
    {
     "data": {
      "text/plain": [
       "<matplotlib.legend.Legend at 0x1d5ebac5f40>"
      ]
     },
     "execution_count": 54,
     "metadata": {},
     "output_type": "execute_result"
    },
    {
     "data": {
      "image/png": "[encoded data removed]",
      "text/plain": [
       "<Figure size 640x480 with 1 Axes>"
      ]
     },
     "metadata": {},
     "output_type": "display_data"
    }
   ],
   "source": [
    "colors = plt.cm.cividis(np.linspace(0, 1, 2))\n",
    "average_tightness_point=sum(tightness_points)/len(tightness_points)\n",
    "plt.plot(np.linspace(0,1,100), average_tightness_point*np.ones(100), label='Point', c=colors[0])\n",
    "plt.scatter(p_lowerbounds, tightness_regions, label='Region', c=colors[1])\n",
    "plt.xlabel('Lower Bound for Probability Mass of Region')\n",
    "plt.ylabel('0-1 error')\n",
    "plt.ylim(0,1.05*max(average_tightness_point,max(tightness_regions)))\n",
    "plt.legend()\n",
    "#plt.savefig('plots/MNIST_Zeta_07.png')"
   ]
  }
 ],
 "metadata": {
  "kernelspec": {
   "display_name": "Python 3",
   "language": "python",
   "name": "python3"
  },
  "language_info": {
   "codemirror_mode": {
    "name": "ipython",
    "version": 3
   },
   "file_extension": ".py",
   "mimetype": "text/x-python",
   "name": "python",
   "nbconvert_exporter": "python",
   "pygments_lexer": "ipython3",
   "version": "3.9.5"
  },
  "orig_nbformat": 4
 },
 "nbformat": 4,
 "nbformat_minor": 2
}
