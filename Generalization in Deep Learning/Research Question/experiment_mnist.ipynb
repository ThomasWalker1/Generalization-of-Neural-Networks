{
 "cells": [
  {
   "cell_type": "code",
   "execution_count": 200,
   "metadata": {},
   "outputs": [],
   "source": [
    "import torch\n",
    "import torch.nn as nn\n",
    "import torchvision\n",
    "import torchvision.transforms as transforms\n",
    "from torch.utils.data import DataLoader, Subset\n",
    "from torch.optim import SGD\n",
    "\n",
    "import numpy as np\n",
    "import matplotlib.pyplot as plt"
   ]
  },
  {
   "cell_type": "code",
   "execution_count": 201,
   "metadata": {},
   "outputs": [],
   "source": [
    "INPUT_SIZE = 784\n",
    "HIDDEN_SIZE = 128\n",
    "NUM_LAYERS = 3\n",
    "NUM_CLASSES = 10\n",
    "NUM_EPOCHS = 50\n",
    "BATCH_SIZE = 50\n",
    "LEARNING_RATE = 0.1\n",
    "\n",
    "NUM_SAMPLES = 2000\n",
    "NUM_TRAIN_SAMPLES = 500"
   ]
  },
  {
   "cell_type": "code",
   "execution_count": 202,
   "metadata": {},
   "outputs": [],
   "source": [
    "# MNIST dataset \n",
    "dataset = torchvision.datasets.MNIST(root='../data', train=True, transform=transforms.ToTensor(), download=True)\n",
    "\n",
    "sample_index=list(range(NUM_SAMPLES))\n",
    "train_index=list(np.random.choice(range(NUM_SAMPLES),size=NUM_TRAIN_SAMPLES,replace=False))\n",
    "\n",
    "sample_dataset=Subset(dataset, sample_index)\n",
    "train_dataset=Subset(sample_dataset, train_index)\n",
    "\n",
    "# Data loader\n",
    "TRAIN_LOADER = DataLoader(dataset=train_dataset, batch_size=BATCH_SIZE, shuffle=True)\n",
    "\n",
    "SAMPLE_LOADER = DataLoader(dataset=sample_dataset,batch_size=1,shuffle=False)"
   ]
  },
  {
   "cell_type": "code",
   "execution_count": 203,
   "metadata": {},
   "outputs": [],
   "source": [
    "class NeuralNet(nn.Module):\n",
    "    def __init__(self, input_size, hidden_size, num_layers, num_classes):\n",
    "        super(NeuralNet, self).__init__()\n",
    "        self.hidden = nn.ModuleList()\n",
    "        self.input_layer = nn.Linear(input_size, hidden_size)\n",
    "        for k in range(num_layers-1):\n",
    "            self.hidden.append(nn.Linear(hidden_size, hidden_size))\n",
    "        self.output_layer = nn.Linear(hidden_size, num_classes)\n",
    "    \n",
    "    def forward(self, x):\n",
    "        x=self.input_layer(x)\n",
    "        x=x.relu()\n",
    "        for layer in self.hidden:\n",
    "            x=layer(x)\n",
    "            x=x.relu()\n",
    "        x=self.output_layer(x)\n",
    "        return x\n",
    "    \n",
    "def ReLU_glorot_init(model):\n",
    "    for name, param in model.named_parameters():\n",
    "        \n",
    "        if name.endswith(\".bias\"):\n",
    "            param.data.fill_(0)\n",
    "        else:\n",
    "            nn.init.xavier_normal_(param)"
   ]
  },
  {
   "cell_type": "code",
   "execution_count": 204,
   "metadata": {},
   "outputs": [],
   "source": [
    "def get_bound(sample_loader, train_loader, num_samples, num_train, deltas):\n",
    "    model = NeuralNet(INPUT_SIZE,HIDDEN_SIZE, NUM_LAYERS, NUM_CLASSES)\n",
    "    ReLU_glorot_init(model)\n",
    "            \n",
    "    criterion = nn.CrossEntropyLoss()\n",
    "    optimizer = SGD(model.parameters(), lr=LEARNING_RATE)\n",
    "\n",
    "    for epoch in range(NUM_EPOCHS):\n",
    "        for images, labels in train_loader:\n",
    "            images = images.reshape(-1, INPUT_SIZE)\n",
    "            outputs = model(images)\n",
    "            loss = criterion(outputs, labels)\n",
    "            optimizer.zero_grad()\n",
    "            loss.backward()\n",
    "            optimizer.step()\n",
    "\n",
    "    train_error=0\n",
    "    with torch.no_grad():\n",
    "        for image, label in train_loader:\n",
    "            image = image.reshape(-1, INPUT_SIZE)\n",
    "            output = model(image)\n",
    "            loss = criterion(output, label)\n",
    "            train_error+=loss.item()*len(image)\n",
    "    train_error=train_error/num_train\n",
    "\n",
    "    true_error=0\n",
    "    classifications=[]\n",
    "    C=0\n",
    "    with torch.no_grad():\n",
    "        for image, label in sample_loader:\n",
    "            image = image.reshape(-1, INPUT_SIZE)\n",
    "            output = model(image)\n",
    "            loss = criterion(output, label)\n",
    "            if C<loss.item():\n",
    "                C=loss.item()\n",
    "            true_error+=loss.item()\n",
    "            predictions=output.max(1)[1]\n",
    "            classifications+=(predictions==label).tolist()\n",
    "    true_error=true_error/num_samples\n",
    "\n",
    "    bounds=[]\n",
    "    for delta in deltas:\n",
    "        log_component = np.log((1-p_Delta+np.sqrt((1-p_Delta)**2+4*delta**(1/num_train)*p_Delta))/(2*delta**(1/num_train)))\n",
    "\n",
    "        bounds.append(train_error+np.sqrt(C**2*log_component/2))\n",
    "    \n",
    "    return train_error, true_error, bounds, p_Delta"
   ]
  },
  {
   "cell_type": "code",
   "execution_count": 205,
   "metadata": {},
   "outputs": [
    {
     "name": "stdout",
     "output_type": "stream",
     "text": [
      "0.005451408843509853 0.4496843063832596 [0.8416651014148162, 0.7538554055048358, 0.6798802854636343, 0.6325769331416754, 0.5967247462587598, 0.5673428996717469, 0.5421437415333938, 0.5198762424884137, 0.4997773025382459, 0.46422944873351846] 0.888\n"
     ]
    }
   ],
   "source": [
    "DELTAS=[0.01,0.025,0.05,0.075,0.1,0.125,0.15,0.175,0.2,0.25]\n",
    "tr_er, ts_er, bs, p = get_bound(SAMPLE_LOADER, TRAIN_LOADER, NUM_SAMPLES, NUM_TRAIN, DELTAS)\n",
    "print(tr_er,ts_er, bs, p)"
   ]
  },
  {
   "cell_type": "code",
   "execution_count": 211,
   "metadata": {},
   "outputs": [
    {
     "name": "stdout",
     "output_type": "stream",
     "text": [
      "Trial 1 Training Error 0.006 Test Error 0.503\n",
      "Trial 2 Training Error 0.006 Test Error 0.480\n",
      "Trial 3 Training Error 0.005 Test Error 0.477\n",
      "Trial 4 Training Error 0.006 Test Error 0.445\n",
      "Trial 5 Training Error 0.006 Test Error 0.467\n",
      "Trial 6 Training Error 0.006 Test Error 0.459\n",
      "Trial 7 Training Error 0.005 Test Error 0.439\n",
      "Trial 8 Training Error 0.006 Test Error 0.481\n",
      "Trial 9 Training Error 0.006 Test Error 0.443\n",
      "Trial 10 Training Error 0.005 Test Error 0.472\n",
      "Trial 11 Training Error 0.006 Test Error 0.477\n",
      "Trial 12 Training Error 0.005 Test Error 0.441\n",
      "Trial 13 Training Error 0.005 Test Error 0.507\n",
      "Trial 14 Training Error 0.005 Test Error 0.477\n",
      "Trial 15 Training Error 0.005 Test Error 0.483\n",
      "Trial 16 Training Error 0.006 Test Error 0.463\n",
      "Trial 17 Training Error 0.006 Test Error 0.453\n",
      "Trial 18 Training Error 0.006 Test Error 0.485\n",
      "Trial 19 Training Error 0.006 Test Error 0.476\n",
      "Trial 20 Training Error 0.006 Test Error 0.474\n",
      "Trial 21 Training Error 0.006 Test Error 0.443\n",
      "Trial 22 Training Error 0.006 Test Error 0.484\n",
      "Trial 23 Training Error 0.005 Test Error 0.467\n",
      "Trial 24 Training Error 0.005 Test Error 0.475\n",
      "Trial 25 Training Error 0.006 Test Error 0.494\n",
      "Trial 26 Training Error 0.006 Test Error 0.441\n",
      "Trial 27 Training Error 0.006 Test Error 0.463\n",
      "Trial 28 Training Error 0.006 Test Error 0.457\n",
      "Trial 29 Training Error 0.005 Test Error 0.446\n",
      "Trial 30 Training Error 0.005 Test Error 0.486\n",
      "Trial 31 Training Error 0.006 Test Error 0.451\n",
      "Trial 32 Training Error 0.006 Test Error 0.444\n",
      "Trial 33 Training Error 0.006 Test Error 0.486\n",
      "Trial 34 Training Error 0.006 Test Error 0.489\n",
      "Trial 35 Training Error 0.006 Test Error 0.455\n",
      "Trial 36 Training Error 0.006 Test Error 0.463\n",
      "Trial 37 Training Error 0.006 Test Error 0.475\n",
      "Trial 38 Training Error 0.005 Test Error 0.480\n",
      "Trial 39 Training Error 0.005 Test Error 0.445\n",
      "Trial 40 Training Error 0.005 Test Error 0.497\n",
      "Trial 41 Training Error 0.005 Test Error 0.464\n",
      "Trial 42 Training Error 0.005 Test Error 0.457\n",
      "Trial 43 Training Error 0.006 Test Error 0.445\n",
      "Trial 44 Training Error 0.006 Test Error 0.425\n",
      "Trial 45 Training Error 0.005 Test Error 0.469\n",
      "Trial 46 Training Error 0.005 Test Error 0.450\n",
      "Trial 47 Training Error 0.005 Test Error 0.448\n",
      "Trial 48 Training Error 0.005 Test Error 0.465\n",
      "Trial 49 Training Error 0.006 Test Error 0.476\n",
      "Trial 50 Training Error 0.005 Test Error 0.486\n",
      "[1.   1.   1.   1.   1.   1.   1.   0.96 0.86 0.6 ]\n"
     ]
    }
   ],
   "source": [
    "NUM_TESTS=50\n",
    "N_DELTA=10\n",
    "DELTAS=[0.01,0.025,0.05,0.075,0.1,0.125,0.15,0.175,0.2,0.25]\n",
    "\n",
    "train_errors=[]\n",
    "test_errors=[]\n",
    "p_Deltas=[]\n",
    "trial_bounds=[[] for n in range(N_DELTA)]\n",
    "emp_prob=np.zeros(len(DELTAS))\n",
    "\n",
    "for k in range(NUM_TESTS):\n",
    "    tr_er, ts_er, bs, p = get_bound(SAMPLE_LOADER, TRAIN_LOADER, NUM_SAMPLES, NUM_TRAIN, DELTAS)\n",
    "    train_errors.append(tr_er)\n",
    "    test_errors.append(ts_er)\n",
    "    p_Deltas.append(p)\n",
    "    for n, b in enumerate(bs):\n",
    "        trial_bounds[n].append(b)\n",
    "        if ts_er<b:\n",
    "            emp_prob[n]+=1\n",
    "    print('Trial {} Training Error {:.3f} Test Error {:.3f}'.format(k+1,tr_er,ts_er))\n",
    "emp_prob=emp_prob/NUM_TESTS\n",
    "print(emp_prob)"
   ]
  },
  {
   "cell_type": "code",
   "execution_count": 212,
   "metadata": {},
   "outputs": [
    {
     "data": {
      "image/png": "[encoded data removed]",
      "text/plain": [
       "<Figure size 640x480 with 1 Axes>"
      ]
     },
     "metadata": {},
     "output_type": "display_data"
    }
   ],
   "source": [
    "colors = plt.cm.cividis(np.linspace(0, 1, N_DELTA))\n",
    "\n",
    "for m in range(2):\n",
    "    for n in range(5):\n",
    "        if (5*m+n)%3==0:\n",
    "            ts_errs=np.array(test_errors)\n",
    "            bs=np.array(trial_bounds[5*m+n])\n",
    "            tightness=bs-ts_errs\n",
    "            plt.hist(tightness,bins=15,density=True,label=round(DELTAS[5*m+n],3),color=colors[5*m+n])\n",
    "plt.legend()\n",
    "\n",
    "plt.savefig('plots/MNIST_Bound_Distributions.png')"
   ]
  }
 ],
 "metadata": {
  "kernelspec": {
   "display_name": "Python 3",
   "language": "python",
   "name": "python3"
  },
  "language_info": {
   "codemirror_mode": {
    "name": "ipython",
    "version": 3
   },
   "file_extension": ".py",
   "mimetype": "text/x-python",
   "name": "python",
   "nbconvert_exporter": "python",
   "pygments_lexer": "ipython3",
   "version": "3.9.5"
  },
  "orig_nbformat": 4
 },
 "nbformat": 4,
 "nbformat_minor": 2
}
