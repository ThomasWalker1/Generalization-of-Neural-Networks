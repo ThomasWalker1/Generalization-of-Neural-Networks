{
 "cells": [
  {
   "cell_type": "code",
   "execution_count": 78,
   "metadata": {},
   "outputs": [],
   "source": [
    "import torch\n",
    "import torch.nn as nn\n",
    "from torch.optim import SGD, Adam\n",
    "import torchvision\n",
    "import torchvision.transforms as transforms\n",
    "from torch.utils.data import DataLoader, Subset\n",
    "\n",
    "import numpy as np\n",
    "import matplotlib.pyplot as plt\n",
    "\n",
    "import math"
   ]
  },
  {
   "cell_type": "code",
   "execution_count": 79,
   "metadata": {},
   "outputs": [],
   "source": [
    "input_size = 784\n",
    "num_classes = 10\n",
    "num_epochs = 20\n",
    "batch_size = 100\n",
    "learning_rate = 0.1"
   ]
  },
  {
   "cell_type": "code",
   "execution_count": 80,
   "metadata": {},
   "outputs": [],
   "source": [
    "# MNIST dataset \n",
    "train_dataset = torchvision.datasets.MNIST(root='data', \n",
    "                                           train=True, \n",
    "                                           transform=transforms.ToTensor(),  \n",
    "                                           download=True)\n",
    "\n",
    "test_dataset = torchvision.datasets.MNIST(root='data', \n",
    "                                          train=False, \n",
    "                                          transform=transforms.ToTensor())\n",
    "\n",
    "reduced_train_index=list(range(10000))\n",
    "reduced_test_index=list(range(2000))\n",
    "\n",
    "subset_train_dataset=Subset(train_dataset, reduced_train_index)\n",
    "subset_test_dataset=Subset(test_dataset, reduced_test_index)\n",
    "\n",
    "# Data loader\n",
    "train_loader = DataLoader(dataset=subset_train_dataset, batch_size=batch_size, shuffle=True)\n",
    "\n",
    "test_loader = DataLoader(dataset=subset_test_dataset, batch_size=batch_size, shuffle=False) "
   ]
  },
  {
   "cell_type": "code",
   "execution_count": 81,
   "metadata": {},
   "outputs": [],
   "source": [
    "class NeuralNet(nn.Module):\n",
    "    def __init__(self, input_size, hidden_size, num_classes):\n",
    "        super(NeuralNet, self).__init__()\n",
    "        self.input_layer = nn.Linear(input_size, hidden_size)\n",
    "        self.h1 = nn.Linear(hidden_size,hidden_size) \n",
    "        self.h2 = nn.Linear(hidden_size,hidden_size) \n",
    "        self.h3 = nn.Linear(hidden_size,hidden_size) \n",
    "        self.h4 = nn.Linear(hidden_size,hidden_size)\n",
    "        self.output_layer = nn.Linear(hidden_size, num_classes)  \n",
    "    \n",
    "    def forward(self, x):\n",
    "        x = self.input_layer(x)\n",
    "        x = x.relu()\n",
    "        x = self.h1(x)\n",
    "        x = x.relu()\n",
    "        x = self.h2(x)\n",
    "        x = x.relu()\n",
    "        x = self.h3(x)\n",
    "        x = x.relu()\n",
    "        x = self.h4(x)\n",
    "        x = x.relu()\n",
    "        x = self.output_layer(x)\n",
    "        return x"
   ]
  },
  {
   "cell_type": "code",
   "execution_count": 82,
   "metadata": {},
   "outputs": [
    {
     "name": "stdout",
     "output_type": "stream",
     "text": [
      "Epoch 1, Loss: 0.698, Accuracy: 85.370\n",
      "Epoch 2, Loss: 0.265, Accuracy: 91.230\n",
      "Epoch 3, Loss: 0.202, Accuracy: 94.020\n",
      "Epoch 4, Loss: 0.355, Accuracy: 91.510\n",
      "Epoch 5, Loss: 0.173, Accuracy: 95.510\n",
      "Epoch 6, Loss: 0.131, Accuracy: 97.010\n",
      "Epoch 7, Loss: 0.040, Accuracy: 97.590\n",
      "Epoch 8, Loss: 0.079, Accuracy: 97.690\n",
      "Epoch 9, Loss: 0.059, Accuracy: 98.450\n",
      "Epoch 10, Loss: 0.074, Accuracy: 98.440\n",
      "Epoch 11, Loss: 0.021, Accuracy: 99.140\n",
      "Epoch 12, Loss: 0.092, Accuracy: 97.510\n",
      "Epoch 13, Loss: 0.034, Accuracy: 98.840\n",
      "Epoch 14, Loss: 0.031, Accuracy: 99.220\n",
      "Epoch 15, Loss: 0.020, Accuracy: 99.510\n",
      "Epoch 16, Loss: 0.007, Accuracy: 99.920\n",
      "Epoch 17, Loss: 0.021, Accuracy: 99.940\n",
      "Epoch 18, Loss: 0.018, Accuracy: 99.940\n",
      "Epoch 19, Loss: 0.009, Accuracy: 99.970\n",
      "Epoch 20, Loss: 0.002, Accuracy: 99.970\n"
     ]
    }
   ],
   "source": [
    "model = NeuralNet(input_size, 128, num_classes)\n",
    "\n",
    "criterion = nn.CrossEntropyLoss()\n",
    "optimizer = SGD(model.parameters(), lr=learning_rate)\n",
    "\n",
    "def xavier_init(model):\n",
    "    for name, param in model.named_parameters():\n",
    "        if name.endswith(\".bias\"):\n",
    "            param.data.fill_(0)\n",
    "        else:\n",
    "            bound = math.sqrt(6) / math.sqrt(param.shape[0] + param.shape[1])\n",
    "            param.data.uniform_(-bound, bound)\n",
    "    \n",
    "xavier_init(model)\n",
    "\n",
    "def train_epoch():\n",
    "    for images, labels in train_loader:  \n",
    "        images = images.reshape(-1, 28*28)\n",
    "        \n",
    "        outputs = model(images)\n",
    "        loss = criterion(outputs, labels)\n",
    "        \n",
    "        optimizer.zero_grad()\n",
    "        loss.backward()\n",
    "        optimizer.step()\n",
    "\n",
    "    return loss.item()\n",
    "\n",
    "def train_accuracy():\n",
    "    with torch.no_grad():\n",
    "        correct = 0\n",
    "        total = 0\n",
    "        for images, labels in train_loader:\n",
    "            images = images.reshape(-1, 28*28)\n",
    "            outputs = model(images)\n",
    "            _, predicted = torch.max(outputs.data, 1)\n",
    "            total += labels.size(0)\n",
    "            correct += (predicted == labels).sum().item()\n",
    "    return 100 * correct / total\n",
    "\n",
    "for n in range(num_epochs):\n",
    "    loss=train_epoch()\n",
    "    acc=train_accuracy()\n",
    "    print('Epoch {}, Loss: {:.3f}, Accuracy: {:.3f}'.format(n+1,loss,acc))"
   ]
  },
  {
   "cell_type": "code",
   "execution_count": 83,
   "metadata": {},
   "outputs": [
    {
     "name": "stdout",
     "output_type": "stream",
     "text": [
      "Accuracy of the network on the 10000 test images: 94.4 %\n"
     ]
    }
   ],
   "source": [
    "with torch.no_grad():\n",
    "    correct = 0\n",
    "    total = 0\n",
    "    for images, labels in test_loader:\n",
    "        images = images.reshape(-1, 28*28)\n",
    "        labels = labels\n",
    "        outputs = model(images)\n",
    "        _, predicted = torch.max(outputs.data, 1)\n",
    "        total += labels.size(0)\n",
    "        correct += (predicted == labels).sum().item()\n",
    "\n",
    "    print('Accuracy of the network on the 10000 test images: {} %'.format(100 * correct / total))"
   ]
  },
  {
   "cell_type": "code",
   "execution_count": 99,
   "metadata": {},
   "outputs": [],
   "source": [
    "def network_layer_weight_extraction(model):\n",
    "    network_weights=[]\n",
    "    for para in model.named_parameters():\n",
    "        if 'weight' in para[0]:\n",
    "            network_weights.append(para[1].detach().numpy())\n",
    "    return network_weights\n",
    "\n",
    "def network_layer_bias_extraction(model):\n",
    "    network_weights=[]\n",
    "    for para in model.named_parameters():\n",
    "        if 'bias' in para[0]:\n",
    "            network_weights.append(para[1].detach().numpy())\n",
    "    return network_weights"
   ]
  },
  {
   "cell_type": "code",
   "execution_count": 104,
   "metadata": {},
   "outputs": [],
   "source": [
    "trained_network_weights=network_layer_weight_extraction(model)\n",
    "trained_network_bias=network_layer_bias_extraction(model)\n",
    "number_of_layers=len(trained_network_weights)\n",
    "\n",
    "def relu(x):\n",
    "    return(np.maximum(0,x))\n",
    "\n",
    "m=len(train_dataset)\n",
    "\n",
    "batch=np.random.choice(np.arange(m),size=int(m*0.5),replace=False)\n",
    "\n",
    "subset_dataset=Subset(train_dataset,batch)\n",
    "\n",
    "flat_dataset=[]\n",
    "for x in subset_dataset:\n",
    "    flat_dataset.append(torch.reshape(x[0],(784,)))\n",
    "m=len(flat_dataset)"
   ]
  },
  {
   "cell_type": "code",
   "execution_count": 97,
   "metadata": {},
   "outputs": [],
   "source": [
    "input_vectors_before_activation=[batch]\n",
    "input_vectors_after_activation=[batch]\n",
    "for k in range(number_of_layers-1):\n",
    "    input_vectors_before_activation.append([np.dot(trained_network_weights[k],x) for x in input_vectors_after_activation[-1]])\n",
    "    input_vectors_after_activation.append([relu(vector) for vector in input_vectors_before_activation[-1]])"
   ]
  },
  {
   "cell_type": "code",
   "execution_count": 87,
   "metadata": {},
   "outputs": [
    {
     "data": {
      "image/png": "[encoded data removed]",
      "text/plain": [
       "<Figure size 640x480 with 1 Axes>"
      ]
     },
     "metadata": {},
     "output_type": "display_data"
    }
   ],
   "source": [
    "layer_cushion_lists=[]\n",
    "layer_cushion=[]\n",
    "for n in range(number_of_layers):\n",
    "    layer_cushion_lists.append([np.linalg.norm(np.dot(trained_network_weights[n],input_vectors_after_activation[n][k])/(np.linalg.norm(trained_network_weights[n])*np.linalg.norm(input_vectors_after_activation[n][k]))) for k in range(len(flat_dataset))])\n",
    "    layer_cushion.append(min(layer_cushion_lists[-1]))\n",
    "\n",
    "plt.hist(layer_cushion_lists[1],bins=50)\n",
    "plt.hist(layer_cushion_lists[2],bins=50)\n",
    "plt.hist(layer_cushion_lists[3],bins=50)\n",
    "plt.hist(layer_cushion_lists[4],bins=50)\n",
    "plt.show()"
   ]
  },
  {
   "cell_type": "code",
   "execution_count": 88,
   "metadata": {},
   "outputs": [
    {
     "data": {
      "image/png": "[encoded data removed]",
      "text/plain": [
       "<Figure size 640x480 with 1 Axes>"
      ]
     },
     "metadata": {},
     "output_type": "display_data"
    }
   ],
   "source": [
    "layer_activation_lists=[]\n",
    "layer_activation=[]\n",
    "for n in range(number_of_layers):\n",
    "    layer_activation_lists.append([np.linalg.norm(input_vectors_before_activation[n][k])/np.linalg.norm(input_vectors_after_activation[n][k]) for k in range(len(flat_dataset))])\n",
    "    layer_activation.append(min(layer_activation_lists[-1]))\n",
    "c=max(layer_activation)\n",
    "\n",
    "plt.hist(layer_activation_lists[3],bins=50)\n",
    "plt.show()"
   ]
  }
 ],
 "metadata": {
  "kernelspec": {
   "display_name": "Python 3",
   "language": "python",
   "name": "python3"
  },
  "language_info": {
   "codemirror_mode": {
    "name": "ipython",
    "version": 3
   },
   "file_extension": ".py",
   "mimetype": "text/x-python",
   "name": "python",
   "nbconvert_exporter": "python",
   "pygments_lexer": "ipython3",
   "version": "3.9.5"
  },
  "orig_nbformat": 4
 },
 "nbformat": 4,
 "nbformat_minor": 2
}
